{
  "nbformat": 4,
  "nbformat_minor": 0,
  "metadata": {
    "colab": {
      "name": "1. 最初のシミュレーション[GISDAY2021]",
      "provenance": [],
      "collapsed_sections": [],
      "authorship_tag": "ABX9TyM4NeFacL4whxES3qBBYdfU",
      "include_colab_link": true
    },
    "kernelspec": {
      "display_name": "Python 3",
      "name": "python3"
    },
    "language_info": {
      "name": "python"
    }
  },
  "cells": [
    {
      "cell_type": "markdown",
      "metadata": {
        "id": "view-in-github",
        "colab_type": "text"
      },
      "source": [
        "<a href=\"https://colab.research.google.com/github/bokutachi256/gisday2021/blob/main/1_%E6%9C%80%E5%88%9D%E3%81%AE%E3%82%B7%E3%83%9F%E3%83%A5%E3%83%AC%E3%83%BC%E3%82%B7%E3%83%A7%E3%83%B3%5BGISDAY2021%5D.ipynb\" target=\"_parent\"><img src=\"https://colab.research.google.com/assets/colab-badge.svg\" alt=\"Open In Colab\"/></a>"
      ]
    },
    {
      "cell_type": "markdown",
      "metadata": {
        "id": "xGiF9Y62uC-i"
      },
      "source": [
        "* Pythonで作るマルチエージェントシミュレーション\n",
        "* 東京都立大学 都市環境学部 地理環境学科 中山大地\n",
        "* 2021年12月4日 東京都立大学 南大沢キャンパス（オンライン開催）\n",
        "* このテキストのURL [https://github.com/bokutachi256/gisday2021](https://github.com/bokutachi256/gisday2021)\n",
        "* Google ColaboratoryのURL [https://colab.research.google.com/](https://colab.research.google.com/)\n",
        "* MESAのURL [https://mesa.readthedocs.io/](https://mesa.readthedocs.io/)"
      ]
    },
    {
      "cell_type": "markdown",
      "metadata": {
        "id": "2Jynbbo8vk-w"
      },
      "source": [
        "# はじめに"
      ]
    },
    {
      "cell_type": "markdown",
      "metadata": {
        "id": "5dngqGzFvnhI"
      },
      "source": [
        "マルチエージェントシミュレーションは，振る舞いのルールがつけられた多数のエージェントが互いに影響し合っていく様子をシミュレートするもので，複雑なシステムの動向を解明するために用いられます．\n",
        "\n",
        "本資料では，Pythonでマルチエージェントシミュレーションを実現するライブラリであるMesaを用いて，シンプルな避難シミュレーションを行います．"
      ]
    },
    {
      "cell_type": "markdown",
      "metadata": {
        "id": "ZdBSnPBFwKrc"
      },
      "source": [
        "# この章でやること"
      ]
    },
    {
      "cell_type": "markdown",
      "metadata": {
        "id": "XHcLAiGswNTp"
      },
      "source": [
        "この章では以下の内容を紹介します．\n",
        "\n",
        "1. Mesaを用いたマルチエージェントシミュレーションの仕組み\n",
        "1. Mesaのインストールと必要ライブラリのインポート\n",
        "1. シンプルなモデルの構造\n",
        "1. データコレクターからのデータ取り出し\n",
        "1. アニメーションの作成"
      ]
    },
    {
      "cell_type": "markdown",
      "metadata": {
        "id": "Da6dVtajwt7h"
      },
      "source": [
        "# Mesaを用いたマルチエージェントシミュレーションの仕組み"
      ]
    },
    {
      "cell_type": "markdown",
      "metadata": {
        "id": "jjkNT0dawxcg"
      },
      "source": [
        "一般的なマルチエージェントシミュレーション（以下\"MAS\"と表記）は，シミュレーションの舞台となる空間（Mesaでは「スペース(Space)」と呼びます）と空間上で変化する「エージェント（Agent）」から構成されています．エージェントはスペース上に配置され，定められたルールに従って行動します．\n",
        "\n",
        "Mesaのスペースは様々な種類があります．例えばグリッド座標系，連続直交座標系，六角格子網，グラフ（ネットワーク）などです．\n",
        "スペースはオブジェクトとして作成され，コンストラクタを使って属性を定義します．\n",
        "\n",
        "エージェントもオブジェクトになります．\n",
        "こちらもスペースと同様にコンストラクタを使って属性を定義します．\n",
        "また，メソッドとして行動のルールを記述します．\n",
        "\n",
        "スケジューラーに登録されたエージェントは計算ステップごとにルールに従った行動をします．\n",
        "また，エージェントならびにスペースのプロパティなどをデータコレクターに登録することにより，\n",
        "計算ステップごとのエージェントの座標，プロパティの値，スペースの状態などを記録することができます．\n",
        "\n",
        "計算終了後にデータコレクターから計算ステップごとの状態を取得することにより，アニメーションやグラフを作ることができます．\n",
        "これがシミュレーション結果の可視化になります．\n"
      ]
    },
    {
      "cell_type": "markdown",
      "metadata": {
        "id": "ZL6rKtZFXn1O"
      },
      "source": [
        "# Mesaのインストール"
      ]
    },
    {
      "cell_type": "markdown",
      "metadata": {
        "id": "m9v90kuz0UNr"
      },
      "source": [
        "Google Colaboratoryには標準ではMesaが導入されていないため，\n",
        "マジックコマンドを使ってMesaをインストールします．"
      ]
    },
    {
      "cell_type": "code",
      "metadata": {
        "id": "0V-PcNU2aDPz"
      },
      "source": [
        "%pip install mesa"
      ],
      "execution_count": null,
      "outputs": []
    },
    {
      "cell_type": "markdown",
      "metadata": {
        "id": "dvCnFtF_Xym8"
      },
      "source": [
        "# 必要ライブラリのインポート"
      ]
    },
    {
      "cell_type": "markdown",
      "metadata": {
        "id": "PiqP4C6E0h90"
      },
      "source": [
        "Mesaのインストールが終わったら必要ライブラリをインストールします．\n",
        "\n",
        "\n",
        "```python\n",
        "%matplotlib notebook\n",
        "```\n",
        "まずは図をインタラクティブに表示するためのおまじないです．\n",
        "\n",
        "```python\n",
        "import numpy as np\n",
        "from tqdm import tqdm\n",
        "```\n",
        "配列計算を行うためのnumpyとループのプログレスバーを表示するためのtqdmをインポートします．\n",
        "\n",
        "```python\n",
        "import matplotlib.pyplot as plt\n",
        "```\n",
        "図化するためのライブラリをインポートします．\n",
        "\n",
        "```python\n",
        "from matplotlib import animation, rc\n",
        "from matplotlib.animation import ArtistAnimation\n",
        "from IPython.display import HTML\n",
        "```\n",
        "アニメーション作成のためのライブラリです．\n",
        "`from IPython.display import HTML`はGoogle Colaboratoryでアニメーション表示するために必要です．\n",
        "\n",
        "```python\n",
        "from mesa import Agent, Model\n",
        "from mesa.space import MultiGrid\n",
        "from mesa.time import RandomActivation\n",
        "from mesa.datacollection import DataCollector\n",
        "```\n",
        "最後にMesa関係のライブラリです．\n",
        "`from mesa import Agent, Model`はMesaのスペースとエージェントを読み込みます．\n",
        "`from mesa.space import MultiGrid`はスペースとして同一座標に複数配置が可能なグリッド座標系を読み込みます．\n",
        "`from mesa.time import RandomActivation`は計算ステップごとにランダムな順番でエージェントを動かすスケジューラーです．\n",
        "`from mesa.datacollection import DataCollector`はデータコレクターの機能です．\n"
      ]
    },
    {
      "cell_type": "markdown",
      "metadata": {
        "id": "a8nWFYz-0oTI"
      },
      "source": [
        "それでは実際にライブラリを読み込んでみましょう．"
      ]
    },
    {
      "cell_type": "code",
      "metadata": {
        "id": "FfqRu70mvuN4"
      },
      "source": [
        "%matplotlib notebook\n",
        "\n",
        "import numpy as np\n",
        "from tqdm import tqdm\n",
        "\n",
        "import matplotlib.pyplot as plt\n",
        "from matplotlib import animation, rc\n",
        "from matplotlib.animation import ArtistAnimation\n",
        "from IPython.display import HTML\n",
        "\n",
        "from mesa import Agent, Model\n",
        "from mesa.space import MultiGrid\n",
        "from mesa.time import RandomActivation\n",
        "from mesa.datacollection import DataCollector"
      ],
      "execution_count": null,
      "outputs": []
    },
    {
      "cell_type": "markdown",
      "metadata": {
        "id": "sK4eY_kxnDa2"
      },
      "source": [
        "# まずはシンプルなモデルから"
      ]
    },
    {
      "cell_type": "markdown",
      "metadata": {
        "id": "DHE-V15n2_x4"
      },
      "source": [
        "まずはシンプルなモデルから始めましょう．\n",
        "\n",
        "ここでは格子状のスペース上にスタート地点とゴール地点を設定します．\n",
        "スタート地点に複数のエージェントを置き，エージェントはランダムに上下左右に動きます．\n",
        "エージェントがゴールに着いたら避難したと見なし，エージェントは動きを止めます．\n",
        "すべてのエージェントが避難完了したらシミュレーションを終了します．"
      ]
    },
    {
      "cell_type": "markdown",
      "metadata": {
        "id": "PjgS7k_BV5-x"
      },
      "source": [
        "## スペースを定義する\n"
      ]
    },
    {
      "cell_type": "markdown",
      "metadata": {
        "id": "jn54Yd413vHS"
      },
      "source": [
        "スペースを作成します．\n",
        "スペースの仕様は以下のようにします．\n",
        "\n",
        "* スペースはMultiGridを使う\n",
        "* エージェントの初期位置はランダムに決定する\n",
        "* ゴールは`goal_x`と`goal_y`とする\n",
        "* エージェントは上下左右にランダムに動く\n",
        "* データコレクターには以下の情報を格納する\n",
        " * model_reporter：ゴールした人数の累計，Stepごとのゴールした人数\n",
        " * agent_reporter：エージェントの座標とゴールしたかどうかの状態を保持\n"
      ]
    },
    {
      "cell_type": "markdown",
      "metadata": {
        "id": "X_5P-RpHAp7h"
      },
      "source": [
        "### スペースの生成"
      ]
    },
    {
      "cell_type": "markdown",
      "metadata": {
        "id": "71bAdqHN4d5v"
      },
      "source": [
        "\n",
        "```python\n",
        "class EvacModel(Model):\n",
        "```\n",
        "スペースを表すオブジェクトは`Model`になります．\n",
        "ここではオブジェクト`Model`を継承した`EvacModel`を作成してスペースとします．\n"
      ]
    },
    {
      "cell_type": "markdown",
      "metadata": {
        "id": "_leMoOzzAzaU"
      },
      "source": [
        "### スペースのコンストラクタ"
      ]
    },
    {
      "cell_type": "markdown",
      "metadata": {
        "id": "8rJQ4YQuAyZU"
      },
      "source": [
        "\n",
        "オブジェクト`EvacModel`の中では，コンストラクタを使ってスペースの大きさ，\n",
        "配置する避難者エージェントの数，スペースの種類などを定義します．\n",
        "\n",
        "```python\n",
        "  def __init__(self, N, width, height, goal_x, goal_y):\n",
        "```\n",
        "ここからコンストラクタです．\n",
        "コンストラクタは`self`，`N`，`width`, `height`, `goal_x`, `goal_y`の引数があります．\n",
        "\n",
        "```python\n",
        "    self.num_agents = N\n",
        "```\n",
        "`N`は避難者エージェントの数を表します．\n",
        "ここでは`self.num`としてスペースのプロパティ`num`を新たに作成し，値を`N`にします．\n",
        "\n",
        "```python\n",
        "    self.grid = MultiGrid(width, height, torus=False)\n",
        "```\n",
        "ここではスペースのタイプを設定します．\n",
        "プロパティ`grid`を`MultiGrid`にします．\n",
        "`MultiGrid`は同一座標に複数エージェントを配置できる格子状のスペースです．\n",
        "`MultiGrid`には3個の引数があり，`width`はスペースの幅，`height`はスペースの高さです．`width`と`height`はコンストラクタの引数で与えられた値を使います．\n",
        "最後の`torus=False`はスペースの上下左右の辺を繋げるかどうかの設定です．\n",
        "`torus=True`にするとスペースの上下左右がつながり，ドラクエのようなスペースになります．\n",
        "ここでは有限空間にするために`torus=False`にしています．\n",
        "\n",
        "```python\n",
        "    self.goal = (goal_x, goal_y)\n",
        "```\n",
        "プロパティ`goal`を作り，ゴールの座標を格納します．\n",
        "ゴールの座標はコンストラクタの引数`goal_x`と`goal_y`で与えられており，両者をタプルにしてプロパティの値としています．\n",
        "\n",
        "```python\n",
        "    self.evac_comp = 0\n",
        "```\n",
        "計算ステップごとに何人避難完了したかを保持するプロパティ`evac_comp`を作成し，0で初期化します．\n",
        "\n",
        "```python\n",
        "    self.schedule = RandomActivation(self)\n",
        "```\n",
        "スケジューラーの設定です．\n",
        "スケジューラーは計算ステップごとにエージェントを動かす仕組みです．\n",
        "ここでは`RandomActivation`というスケジューラーを使用しています．\n",
        "このスケジューラは計算ステップごとにランダムな順番でエージェントを動かします．\n",
        "他にもエージェントを同時に動かす`SimultaneousActivation`もあります．\n",
        "\n",
        "これでコンストラクタは終了です．\n",
        "\n"
      ]
    },
    {
      "cell_type": "markdown",
      "metadata": {
        "id": "F-L7kp50A4hR"
      },
      "source": [
        "### 避難者エージェントをスペースに配置する"
      ]
    },
    {
      "cell_type": "markdown",
      "metadata": {
        "id": "NYkwSGzO9-un"
      },
      "source": [
        "\n",
        "\n",
        "次はスペースに避難者エージェントを配置していきましょう．\n",
        "ここではコンストラクタの引数`N`で指定された数の避難者エージェントをランダムな位置に配置します．\n",
        "\n",
        "```python\n",
        "    for i in range(self.num_agents):\n",
        "```\n",
        "`num_agents`回の`for`ループで避難者エージェントを配置します．\n",
        "\n",
        "```python\n",
        "      a = EvacAgent(i, self)\n",
        "```\n",
        "オブジェクト`a`として避難者エージェント`EvacAgent`を作成します．\n",
        "`i`は避難者エージェントのユニークIDになります．\n",
        "\n",
        "```python\n",
        "      self.schedule.add(a)\n",
        "```\n",
        "オブジェクト`a`として生成された避難者エージェントをスケジューラーに登録します．\n",
        "これによりこのエージェントは計算ステップごとに動くことができます．\n",
        "\n",
        "```python\n",
        "      x = self.random.randrange(self.grid.width)\n",
        "      y = self.random.randrange(self.grid.height)\n",
        "```\n",
        "避難者エージェントの初期座標をランダムに決めます．x座標は0から`grid.width`の間，\n",
        "y座標は0から`grid.height`の間になります．\n",
        "\n",
        "```python\n",
        "      self.grid.place_agent(a, (x, y))\n",
        "```\n",
        "`place_agent`用いて避難者エージェントをスペース上に配置します．\n",
        "`place_agent`の引数は配置するエージェントのオブジェクト（ここでは`a`）と座標です．\n",
        "座標はタプルで与えます．\n",
        "\n"
      ]
    },
    {
      "cell_type": "markdown",
      "metadata": {
        "id": "yCcX7sdLBCGM"
      },
      "source": [
        "### データコレクターの設定"
      ]
    },
    {
      "cell_type": "markdown",
      "metadata": {
        "id": "SCzc1FUz_7xO"
      },
      "source": [
        "次はデータコレクターです．\n",
        "データコレクターはスペースやエージェントの状態を，計算ステップごとエージェントごとに記録します．\n",
        "```python\n",
        "      # データコレクターの設定\n",
        "      self.datacollector = DataCollector(\n",
        "```\n",
        "プロパティ`datacollecter`を作成し，`DataCollector`を継承します．\n",
        "\n",
        "データコレクターの引数には`model_reporters`と`agent_reporters`などがあります．\n",
        "どちらの引数も値としてディクショナリを指定します．\n",
        "\n",
        "```python\n",
        "        model_reporters={\"Goal\": compute_goal, \"evacuator\": goal_pop},\n",
        "```\n",
        "`model_reporters`にはスペースに関するデータを記録します．\n",
        "ここでは`Goal`というキーと`evacuator`というキーで，\n",
        "それぞれ`compute_goal`と`goal_pop`の値を格納しています．\n",
        "ディクショナリの値として指定されている`compute_goal`と`goal_pop`は両方ともプログラム中で定義した関数で，\n",
        "関数の戻り値が値としてデータコレクターに格納されます．\n",
        "`compute_goal`は今までの計算ステップまでにゴールした人数の累計を求める関数で，\n",
        "`goal_pop`はその計算ステップ中にゴールした人数をカウントする関数です．\n",
        "\n",
        "```python\n",
        "        agent_reporters={\"Pos\": \"pos\", \"Goal\": \"mygoal\"})\n",
        "```\n",
        "`agent_reporters`はエージェントに関するデータを記録します．\n",
        "キー`Pos`と`Goal`はそれぞれすべての避難エージェントの座標と避難エージェントがゴールしたかどうかを表す状態を示しています．\n",
        "ディクショナリの値がクオーテーションマークで囲まれているので，`\"pos\"`と`\"mygoal\"`はそれぞれ避難エージェントのプロパティ`pos`と`mygoal`の値になります．\n",
        "\n",
        "これらの関数の定義については後ほど解説します．\n",
        "\n",
        "\n",
        "\n",
        "以上がデータコレクターの設定です．\n",
        "データコレクターでデータを取得するには以下のようにします．\n",
        "```python      \n",
        "    self.datacollector.collect(self)\n",
        "```\n"
      ]
    },
    {
      "cell_type": "markdown",
      "metadata": {
        "id": "AKkV3O4vLZXs"
      },
      "source": [
        "### 計算ステップごとのスペース挙動の定義"
      ]
    },
    {
      "cell_type": "markdown",
      "metadata": {
        "id": "TaV98nePV-wS"
      },
      "source": [
        "次に計算ステップごとにスケジューラに登録されたエージェントがどのような動きをするのか，`step`メソッドで定義します．"
      ]
    },
    {
      "cell_type": "markdown",
      "metadata": {
        "id": "AmQ1ZyN3LYli"
      },
      "source": [
        "```python\n",
        "  def step(self):\n",
        "    model.evac_comp = 0\n",
        "```\n",
        "\n",
        "まず，プロパティ`evac_comp`を0で初期化します．\n",
        "\n",
        "```python\n",
        "    self.schedule.step()\n",
        "```\n",
        "次にスケジューラに登録されたエージェントの`step`メソッドを実行します．\n",
        "```python\n",
        "    self.datacollector.collect(self)\n",
        "```\n",
        "最後にデータコレクターでスペースとエージェントの状態を取得します．"
      ]
    },
    {
      "cell_type": "markdown",
      "metadata": {
        "id": "jyK-_hp4WSV8"
      },
      "source": [
        "### スペース定義のまとめ"
      ]
    },
    {
      "cell_type": "markdown",
      "metadata": {
        "id": "8lLtbRIAWy7t"
      },
      "source": [
        "以上でスペースの定義は完了です．\n",
        "実際に動かしてみましょう"
      ]
    },
    {
      "cell_type": "code",
      "metadata": {
        "id": "CTPI6ualadfl"
      },
      "source": [
        "class EvacModel(Model):\n",
        "  def __init__(self, N, width, height, goal_x, goal_y):\n",
        "    # 避難者エージェントの数をNに設定する\n",
        "    self.num_agents = N\n",
        "    # MultiGridは同一座標に複数エージェントを配置できるスペース\n",
        "    self.grid = MultiGrid(width, height, torus=False)\n",
        "    # ゴール地点の座標を設定する（goal_xとgoal_y)\n",
        "    self.goal = (goal_x, goal_y)\n",
        "    # 避難完了者をカウントする（0で初期化）\n",
        "    self.evac_comp = 0\n",
        "    # EvacAgentの実行順序をランダムに設定する\n",
        "    self.schedule = RandomActivation(self)\n",
        "\n",
        "    # 避難者エージェントの作成．num_agentsの数だけエージェントを作成する\n",
        "    for i in range(self.num_agents):\n",
        "      a = EvacAgent(i, self)\n",
        "      self.schedule.add(a)\n",
        "      # エージェントの初期位置をランダムに決定する\n",
        "      x = self.random.randrange(self.grid.width)\n",
        "      y = self.random.randrange(self.grid.height)\n",
        "      # エージェントを配置する\n",
        "      self.grid.place_agent(a, (x, y))\n",
        "\n",
        "      # データコレクターの設定\n",
        "      self.datacollector = DataCollector(\n",
        "        model_reporters={\"Goal\": compute_goal, \"evacuator\": goal_pop},\n",
        "        agent_reporters={\"Pos\": \"pos\", \"Goal\": \"mygoal\"})\n",
        "      \n",
        "    self.datacollector.collect(self)\n",
        "      \n",
        "  def step(self):\n",
        "    model.evac_comp = 0\n",
        "    self.schedule.step()\n",
        "    self.datacollector.collect(self)\n"
      ],
      "execution_count": null,
      "outputs": []
    },
    {
      "cell_type": "markdown",
      "metadata": {
        "id": "nvsHzQJdFiSu"
      },
      "source": [
        "## ゴール人数を求める関数"
      ]
    },
    {
      "cell_type": "markdown",
      "metadata": {
        "id": "WT_eOIpLYIqQ"
      },
      "source": [
        "スペースの定義で用いていた関数を作成します．\n",
        "ここではある計算ステップでゴールした人数をカウントする`goal_pop`，\n",
        "今までにゴールした人数の累計を求める`compute_goal`を定義します．\n",
        "\n",
        "```python\n",
        "def goal_pop(model):\n",
        "  return(model.evac_comp)\n",
        "```\n",
        "まずは`goal_pop`です．\n",
        "戻り値はスペースのプロパティ`evac_comp`の値そのものです．\n",
        "`evac_comp`の値は避難者エージェントの定義で\n",
        "避難者エージェントがゴールした場合に1増やしています．\n",
        "これについては避難者エージェントの定義の項で説明します．\n",
        "\n",
        "```python\n",
        "# ゴールした人数の累計を求める関数\n",
        "def compute_goal(model):\n",
        "  agent_goal = sum([agent.mygoal for agent in model.schedule.agents])\n",
        "  return (agent_goal)\n",
        "```\n",
        "`compute_goal`はある計算ステップでゴールした人数の合計を求めます．\n",
        "避難者エージェントは自分がゴールしたかどうかを表すプロパティ`mygoal`を持っています．\n",
        "ゴールしたときに`mygoal`は1，ゴールしていないときには0になります．\n",
        "これは避難者エージェントの中で定義しています．\n",
        "`model.schedule.agents`はスケジューラーに登録されたエージェントのリストで，\n",
        "内包表記を使ってすべての避難者エージェントのプロパティ`mygoal`の合計`sum`を求めます．\n",
        "これが累計避難者数になります．\n",
        "\n"
      ]
    },
    {
      "cell_type": "markdown",
      "metadata": {
        "id": "27FYZ0eKcRxu"
      },
      "source": [
        "実際に実行してみましょう．"
      ]
    },
    {
      "cell_type": "code",
      "metadata": {
        "id": "fVSUcmKAaX00"
      },
      "source": [
        "# そのステップでゴールした人数を求める関数\n",
        "def goal_pop(model):\n",
        "  return(model.evac_comp)\n",
        "\n",
        "# ゴールした人数の累計を求める関数\n",
        "def compute_goal(model):\n",
        "  agent_goal = sum([agent.mygoal for agent in model.schedule.agents])\n",
        "  return (agent_goal)"
      ],
      "execution_count": null,
      "outputs": []
    },
    {
      "cell_type": "markdown",
      "metadata": {
        "id": "acfKqOJ0VnUy"
      },
      "source": [
        "## 避難者エージェントを定義する"
      ]
    },
    {
      "cell_type": "markdown",
      "metadata": {
        "id": "d1cYPMaScZxl"
      },
      "source": [
        "シンプルな避難者エージェントを定義します．\n",
        "避難者エージェントの仕様は以下です．\n",
        "\n",
        "* 避難者エージェントは避難が完了したかどうかを表すプロパティ`mygoal`を持つ．\n",
        "* 計算ステップごとに上下左右にランダムに移動する．\n",
        "* ゴールに達した場合はプロパティ`mygoal`を1にし，\n",
        "累計避難者数を表すスペースのプロパティ`model.evac_comp`に1を加える\n"
      ]
    },
    {
      "cell_type": "markdown",
      "metadata": {
        "id": "mBYwyIGodk1a"
      },
      "source": [
        "### 避難者エージェントの生成"
      ]
    },
    {
      "cell_type": "markdown",
      "metadata": {
        "id": "o4zjd4ysdjhr"
      },
      "source": [
        "\n",
        "```python\n",
        "class EvacAgent(Agent):\n",
        "```\n",
        "\n",
        "エージェントを表すオブジェクトは`Agent`になります．\n",
        "ここではオブジェクト`Agent`を継承した`EvacAgent`を作成して避難者エージェントとします．"
      ]
    },
    {
      "cell_type": "markdown",
      "metadata": {
        "id": "kBk0WDoed4BZ"
      },
      "source": [
        "### 避難者エージェントのコンストラクタ"
      ]
    },
    {
      "cell_type": "markdown",
      "metadata": {
        "id": "DCAEZGoYdsw6"
      },
      "source": [
        "\n",
        "\n",
        "```python\n",
        "  def __init__(self, unique_id, model):\n",
        "    super().__init__(unique_id, model)\n",
        "    self.mygoal = 0\n",
        "```\n",
        "避難者エージェントのコンストラクタでは，自分がゴールしたかどうかの状態を保持するプロパティ`mygoal`を加えます．\n",
        "\n"
      ]
    },
    {
      "cell_type": "markdown",
      "metadata": {
        "id": "4TSHGBRKeO3M"
      },
      "source": [
        "### 避難者エージェントの移動メソッドの定義"
      ]
    },
    {
      "cell_type": "markdown",
      "metadata": {
        "id": "GuXb-pFmeOE8"
      },
      "source": [
        "避難者エージェントが移動する場合のルール（`move`メソッド）を記述します．\n",
        "\n",
        "```python\n",
        "  def move(self):\n",
        "```\n",
        "メソッド`move`を開始します．\n",
        "引数は自分自身の避難者エージェント（インスタンス）を表す`self`です．\n",
        "```python\n",
        "    possible_steps = self.model.grid.get_neighborhood(\n",
        "      pos=self.pos,\n",
        "      moore = False,\n",
        "      include_center = False)\n",
        "```\n",
        "まず，`model.grid.get_neighborhood`メソッドを使って自分の周囲のセルを取得します．\n",
        "ここでは`model.grid.get_neighborhood`の引数として`pos=self.pos`，`moore=False`，`include_center=False`を与えています．\n",
        "\n",
        "第一引数の`pos`は検索する中心セルの座標です．ここでは`self.pos`を使って避難エージェントの現在位置を与えています．\n",
        "`self.pos`はAgentオブジェクトに組み込まれているプロパティで，Agentオブジェクトの現在座標を示します．\n",
        "`moore`は周囲セルの検索方法で，\n",
        "`False`の場合は上下左右の4セル，\n",
        "`True`の場合は斜め方向も含む8セルになります．\n",
        "ここでは上下左右のみ検索するので`False`にしています．\n",
        "`include_center`は中心セルを戻り値に含めるかどうかです．\n",
        "ここでは中心セルは含めないため`False`にしています．\n",
        "\n",
        "`model.grid.get_neighborhood`メソッドの戻り値は周囲のセルの座標（x, y座標のタプル）のリストになります．\n",
        "戻り値を変数`possible_steps`に代入します．\n",
        "\n",
        "```python\n",
        "    new_position = self.random.choice(possible_steps)\n",
        "```\n",
        "取得した周囲セルの座標リストから`random.choice`を使ってランダムに一つ選びます．\n",
        "これを変数`new_position`に代入します．\n",
        "\n",
        "\n",
        "```python\n",
        "    self.model.grid.move_agent(self, new_position)\n",
        "```\n",
        "`model.grid.move_agent`メソッドを使って避難者エージェントを移動します．\n",
        "`model.grid.move_agent`メソッドの引数は移動する避難者エージェントのインスタンス（ここでは自分自身であるために`self`とする）と移動先の座標です．移動先の座標は`new_position`にします．\n",
        "\n",
        "これで避難者エージェントは上下左右のいずれかにランダムに移動します．\n",
        "\n",
        "以上で`move`メソッドは終了です．"
      ]
    },
    {
      "cell_type": "markdown",
      "metadata": {
        "id": "335onTvYkLDP"
      },
      "source": [
        "\n",
        "\n",
        "  ### ゴールに到達したか判定する関数\n",
        "\n"
      ]
    },
    {
      "cell_type": "markdown",
      "metadata": {
        "id": "YFc1n1Gakcv2"
      },
      "source": [
        "避難者エージェントがゴールに到達したかどうかを判断するメソッド`if_goal`を定義します．\n",
        "避難者エージェントとの座標とゴールの座標が一致すればゴールしたことになります．"
      ]
    },
    {
      "cell_type": "markdown",
      "metadata": {
        "id": "6dVC9mmBkO4p"
      },
      "source": [
        "```python\n",
        "  def if_goal(self):\n",
        "    if self.pos == self.model.goal:\n",
        "      self.mygoal += 1\n",
        "      self.model.evac_comp += 1\n",
        "```\n",
        "`if`を使って避難者エージェントの現在位置`self.pos`とスペースで定義したゴールの座標を示すプロパティ`model.goal`が等しいか判断します．\n",
        "\n",
        "座標が等しい場合はゴールしたと見なし，\n",
        "避難者エージェントがゴールしたかどうかを表すプロパティ`mygoal`に1を加え（0に初期化されているので結果的に1になる），\n",
        "さらにその計算ステップで何人ゴールしたかを示すスペースのプロパティ`model.evac_comp`にも1を加えます．\n",
        "\n"
      ]
    },
    {
      "cell_type": "markdown",
      "metadata": {
        "id": "ZuoySoP7lx4R"
      },
      "source": [
        "### 計算ステップごとの実行内容の定義"
      ]
    },
    {
      "cell_type": "markdown",
      "metadata": {
        "id": "wDPKNEOcl7tZ"
      },
      "source": [
        "スケジューラーに登録されたエージェントは，計算ステップごとに`step`メソッドで定義された順番で行動します．\n",
        "このプログラムでは避難者エージェントは上下左右にランダムに動き，その後でゴールしたかどうかを判断します．\n",
        "これは以下のように書くことができます．\n",
        "\n",
        "```python\n",
        "  def step(self):\n",
        "      self.move()\n",
        "      self.if_goal()\n",
        "```\n",
        "\n",
        "`self.move()`で`move`メソッドを実行して上下左右にランダムに動き，\n",
        "`self.if_goal()`でゴールをしたかどうか判断します．\n",
        "\n",
        "しかしこのままではゴールしたエージェントも次の計算ステップでゴール地点から動いてしまいます．\n",
        "このため，自分がゴールしたときには動かないようにします．\n",
        "\n",
        "```python\n",
        "  def step(self):\n",
        "    if self.mygoal == 0:\n",
        "      self.move()\n",
        "      self.if_goal()\n",
        "```\n",
        "\n",
        "プロパティ`mygoal`は自分がゴールしたかどうかの状態を保持するプロパティで，\n",
        "値が0の時はまだゴールしていない状態で，1の時はゴールしている状態です．\n",
        "`if`を使ってゴールしていない状態の時のみ移動し，その後にゴールしたかどうかの判定をします．\n",
        "\n",
        "以上で避難者エージェントの定義はおわりです．"
      ]
    },
    {
      "cell_type": "markdown",
      "metadata": {
        "id": "wA2z0w-bohAh"
      },
      "source": [
        "### 避難者エージェントの定義のまとめ"
      ]
    },
    {
      "cell_type": "markdown",
      "metadata": {
        "id": "igt4yPwjo7tz"
      },
      "source": [
        "実際にプログラムを実行してみましょう"
      ]
    },
    {
      "cell_type": "code",
      "metadata": {
        "id": "QKyd3hJkabqd"
      },
      "source": [
        "class EvacAgent(Agent):\n",
        "\n",
        "  def __init__(self, unique_id, model):\n",
        "    super().__init__(unique_id, model)\n",
        "    self.mygoal = 0\n",
        "\n",
        "  def move(self):\n",
        "    possible_steps = self.model.grid.get_neighborhood(\n",
        "      pos=self.pos,\n",
        "      moore = False,\n",
        "      include_center = False)\n",
        "    new_position = self.random.choice(possible_steps)\n",
        "    self.model.grid.move_agent(self, new_position)\n",
        "\n",
        "  # ゴールに到達したか判定する関数\n",
        "  def if_goal(self):\n",
        "    if self.pos == self.model.goal:\n",
        "      self.mygoal += 1\n",
        "      self.model.evac_comp += 1\n",
        "\n",
        "  def step(self):\n",
        "    if self.mygoal == 0:\n",
        "      self.move()\n",
        "      self.if_goal()\n"
      ],
      "execution_count": null,
      "outputs": []
    },
    {
      "cell_type": "markdown",
      "metadata": {
        "id": "QIUfXEpCDSjQ"
      },
      "source": [
        "## シミュレーションを実行する"
      ]
    },
    {
      "cell_type": "markdown",
      "metadata": {
        "id": "bxbQ-z5BpOQ0"
      },
      "source": [
        "以上でスペースと避難者エージェントの定義，各種関数の定義が終わりました．\n",
        "実際にシミュレーションを実行してみましょう．\n",
        "\n",
        "実行の手順は以下になります．\n",
        "\n",
        "1. スペースのインスタンスを作成する\n",
        "1. 計算ステップの数だけスペースの`step`メソッドを実行する"
      ]
    },
    {
      "cell_type": "markdown",
      "metadata": {
        "id": "KdRjuKrVqQJy"
      },
      "source": [
        "### スペースのインスタンスを作成する"
      ]
    },
    {
      "cell_type": "markdown",
      "metadata": {
        "id": "QqujvzdGqVr8"
      },
      "source": [
        "スペースのコンストラクタを呼び出してインスタンスを作成します．\n",
        "\n",
        "\n",
        "コンストラクタの引数は以下となっています．\n",
        "```python\n",
        "def __init__(self, N, width, height, goal_x, goal_y):\n",
        "```\n",
        "`N`は避難者エージェントの数，\n",
        "`width`はスペースの幅，\n",
        "`height`はスペースの高さ，\n",
        "`goal_x`はゴールのx座標，\n",
        "`goal_y`はゴールのy座標です．\n",
        "\n",
        "実際にはゴールの座標は変数として与えた方がよいので，\n",
        "以下のような形になります．\n",
        "\n",
        "```python\n",
        "goal_x = 0\n",
        "goal_y = 0\n",
        "model = EvacModel(10, 5, 5, goal_x, goal_y)\n",
        "```\n",
        "5×5グリッドの大きさで10個の避難者エージェント，\n",
        "ゴールの座標は(0, 0)というスペースが作成されました．\n",
        "作成されたスペースのインスタンス名は`model`になります．\n"
      ]
    },
    {
      "cell_type": "markdown",
      "metadata": {
        "id": "3mXCy9OAsBmI"
      },
      "source": [
        "### スケジューラの設計"
      ]
    },
    {
      "cell_type": "markdown",
      "metadata": {
        "id": "hStY-Z8EsD2n"
      },
      "source": [
        "次にスケジューラを実行して避難者エージェントを動かします．\n",
        "ループを使って実行するのが一般的です．\n",
        "10ステップ実行するには以下のようにします．\n",
        "\n",
        "```python\n",
        "for i in range(10):\n",
        "  model.step()\n",
        "```\n",
        "\n",
        "すべての避難者エージェントがゴールするまで実行するにはどのようにすれば良いでしょうか．\n",
        "避難者エージェントは自分がゴールしたかを示すプロパティ`mygoal`を持っていますので，\n",
        "すべての避難者エージェントの`mygoal`が1になったらループを終了するという方法が考えられます．\n",
        "これは以下のように書くことができます．\n",
        "\n",
        "```python\n",
        "while min([agent.mygoal for agent in model.schedule.agents]) < 1:\n",
        "  model.step()\n",
        "```\n",
        "`model.schedule.agents`はスケジューラーに登録されているすべてのエージェントのリストです．\n",
        "内包表記を用いてリスト内のエージェントからプロパティ`mygoal`を取り出して新たなリストを作ります．\n",
        "このリストの値は1か0となり，少なくとも一つの値が0である間はまだゴールしていないエージェントが存在することになります．\n",
        "少なくとも1つが0かどうかは`min`を使ってリスト内の最小値を求めることで判別できます．\n",
        "これを`while`ループの条件として，すべてのエージェントがゴールするまでスケジューラーを実行します．\n"
      ]
    },
    {
      "cell_type": "markdown",
      "metadata": {
        "id": "cmhoFc50ugE7"
      },
      "source": [
        "### スケジューラーを実行する"
      ]
    },
    {
      "cell_type": "markdown",
      "metadata": {
        "id": "yfcCeELful4s"
      },
      "source": [
        "それでは実際にスケジューラを実行しましょう"
      ]
    },
    {
      "cell_type": "code",
      "metadata": {
        "id": "sUyVh4v8DSP2"
      },
      "source": [
        "goal_x = 0\n",
        "goal_y = 0\n",
        "model = EvacModel(10, 5, 5, goal_x, goal_y)\n",
        "while min([agent.mygoal for agent in model.schedule.agents]) < 1:\n",
        "  model.step()"
      ],
      "execution_count": null,
      "outputs": []
    },
    {
      "cell_type": "markdown",
      "metadata": {
        "id": "IuGLqh2GEWKq"
      },
      "source": [
        "# 計算結果を検討する\n"
      ]
    },
    {
      "cell_type": "markdown",
      "metadata": {
        "id": "3xQDEfN2vq7m"
      },
      "source": [
        "計算が終了したら計算結果を取り出して内容を検討します．\n",
        "データコレクターにはすべての計算ステップごとのスペースの状態（累計避難完了者数とステップごとの避難完了者数）と\n",
        "すべてのエージェントの状態（避難者エージェントの位置と避難者エージェントが避難完了したかどうか）が格納されています．\n",
        "\n",
        "まずはデータコレクターからデータを取り出してみましょう．"
      ]
    },
    {
      "cell_type": "markdown",
      "metadata": {
        "id": "hPUVG8rau9jp"
      },
      "source": [
        "\n",
        "## データコレクターからのデータ取り出し"
      ]
    },
    {
      "cell_type": "markdown",
      "metadata": {
        "id": "7hvph2q4nZsL"
      },
      "source": [
        "### スペースに関するデータコレクターへのアクセス方法"
      ]
    },
    {
      "cell_type": "markdown",
      "metadata": {
        "id": "ERQBmJ5tEbUN"
      },
      "source": [
        "スペースに関するデータコレクターは\n",
        "```model.datacollector.get_model_vars_dataframe()```\n",
        "でアクセスできます．\n",
        "実際にスペースのデータコレクターを表示してみましょう．\n"
      ]
    },
    {
      "cell_type": "code",
      "metadata": {
        "colab": {
          "base_uri": "https://localhost:8080/",
          "height": 424
        },
        "id": "rqBv4fOkL7Rk",
        "outputId": "d046f79e-f85c-4a59-ad6c-4f45334cebb4"
      },
      "source": [
        "model.datacollector.get_model_vars_dataframe()"
      ],
      "execution_count": null,
      "outputs": [
        {
          "output_type": "execute_result",
          "data": {
            "text/html": [
              "<div>\n",
              "<style scoped>\n",
              "    .dataframe tbody tr th:only-of-type {\n",
              "        vertical-align: middle;\n",
              "    }\n",
              "\n",
              "    .dataframe tbody tr th {\n",
              "        vertical-align: top;\n",
              "    }\n",
              "\n",
              "    .dataframe thead th {\n",
              "        text-align: right;\n",
              "    }\n",
              "</style>\n",
              "<table border=\"1\" class=\"dataframe\">\n",
              "  <thead>\n",
              "    <tr style=\"text-align: right;\">\n",
              "      <th></th>\n",
              "      <th>Goal</th>\n",
              "      <th>evacuator</th>\n",
              "    </tr>\n",
              "  </thead>\n",
              "  <tbody>\n",
              "    <tr>\n",
              "      <th>0</th>\n",
              "      <td>0</td>\n",
              "      <td>0</td>\n",
              "    </tr>\n",
              "    <tr>\n",
              "      <th>1</th>\n",
              "      <td>1</td>\n",
              "      <td>1</td>\n",
              "    </tr>\n",
              "    <tr>\n",
              "      <th>2</th>\n",
              "      <td>1</td>\n",
              "      <td>0</td>\n",
              "    </tr>\n",
              "    <tr>\n",
              "      <th>3</th>\n",
              "      <td>1</td>\n",
              "      <td>0</td>\n",
              "    </tr>\n",
              "    <tr>\n",
              "      <th>4</th>\n",
              "      <td>1</td>\n",
              "      <td>0</td>\n",
              "    </tr>\n",
              "    <tr>\n",
              "      <th>...</th>\n",
              "      <td>...</td>\n",
              "      <td>...</td>\n",
              "    </tr>\n",
              "    <tr>\n",
              "      <th>215</th>\n",
              "      <td>9</td>\n",
              "      <td>0</td>\n",
              "    </tr>\n",
              "    <tr>\n",
              "      <th>216</th>\n",
              "      <td>9</td>\n",
              "      <td>0</td>\n",
              "    </tr>\n",
              "    <tr>\n",
              "      <th>217</th>\n",
              "      <td>9</td>\n",
              "      <td>0</td>\n",
              "    </tr>\n",
              "    <tr>\n",
              "      <th>218</th>\n",
              "      <td>9</td>\n",
              "      <td>0</td>\n",
              "    </tr>\n",
              "    <tr>\n",
              "      <th>219</th>\n",
              "      <td>10</td>\n",
              "      <td>1</td>\n",
              "    </tr>\n",
              "  </tbody>\n",
              "</table>\n",
              "<p>220 rows × 2 columns</p>\n",
              "</div>"
            ],
            "text/plain": [
              "     Goal  evacuator\n",
              "0       0          0\n",
              "1       1          1\n",
              "2       1          0\n",
              "3       1          0\n",
              "4       1          0\n",
              "..    ...        ...\n",
              "215     9          0\n",
              "216     9          0\n",
              "217     9          0\n",
              "218     9          0\n",
              "219    10          1\n",
              "\n",
              "[220 rows x 2 columns]"
            ]
          },
          "metadata": {},
          "execution_count": 7
        }
      ]
    },
    {
      "cell_type": "markdown",
      "metadata": {
        "id": "28HlZ9a5wfso"
      },
      "source": [
        "データコレクターはpandasのpandas.DataFrame型式でデータを保持しています．\n",
        "これは重要なポイントです．\n",
        "\n",
        "一番左の列が計算ステップ，2列目`Goal`が累計避難完了者数，3列目`evacuator`がステップごとの避難完了者数です．\n",
        "計算ステップはDataFrameのインデックスになっています．\n"
      ]
    },
    {
      "cell_type": "markdown",
      "metadata": {
        "id": "x3uzAEjdTO_8"
      },
      "source": [
        "### スペースの状態変化をグラフ化する"
      ]
    },
    {
      "cell_type": "markdown",
      "metadata": {
        "id": "ehrFKs_EyprC"
      },
      "source": [
        "データフレームの内容をシンプルな折れ線グラフにしてみましょう．"
      ]
    },
    {
      "cell_type": "code",
      "metadata": {
        "colab": {
          "base_uri": "https://localhost:8080/",
          "height": 282
        },
        "id": "6yTtU3gTb7BR",
        "outputId": "6f07524f-384e-4a94-b828-dd3b8299b872"
      },
      "source": [
        "%matplotlib inline\n",
        "\n",
        "fig = plt.figure()\n",
        "ax = fig.add_subplot(111)\n",
        "\n",
        "goal = model.datacollector.get_model_vars_dataframe()\n",
        "\n",
        "ax.plot(goal)\n",
        "plt.show"
      ],
      "execution_count": null,
      "outputs": [
        {
          "output_type": "execute_result",
          "data": {
            "text/plain": [
              "<function matplotlib.pyplot.show>"
            ]
          },
          "metadata": {},
          "execution_count": 15
        },
        {
          "output_type": "display_data",
          "data": {
            "image/png": "[encoded data removed]",
            "text/plain": [
              "<Figure size 432x288 with 1 Axes>"
            ]
          },
          "metadata": {
            "needs_background": "light"
          }
        }
      ]
    },
    {
      "cell_type": "markdown",
      "metadata": {
        "id": "UpZGiFLdyxnO"
      },
      "source": [
        "matplotlibの`plot`を使ってシンプルにデータコレクターを折れ線グラフにしています．"
      ]
    },
    {
      "cell_type": "markdown",
      "metadata": {
        "id": "BVYAvkHgnpyV"
      },
      "source": [
        "### エージェントに関するデータコレクターへのアクセス方法"
      ]
    },
    {
      "cell_type": "markdown",
      "metadata": {
        "id": "27QnierkE3Ok"
      },
      "source": [
        "エージェントのデータコレクターには\n",
        "`model.datacollector.get_agent_vars_dataframe()`\n",
        "でアクセスします．"
      ]
    },
    {
      "cell_type": "code",
      "metadata": {
        "colab": {
          "base_uri": "https://localhost:8080/",
          "height": 455
        },
        "id": "9LVosN_tm7a2",
        "outputId": "909e2dfa-77e4-4b51-d015-5df09d878ded"
      },
      "source": [
        "model.datacollector.get_agent_vars_dataframe()"
      ],
      "execution_count": null,
      "outputs": [
        {
          "output_type": "execute_result",
          "data": {
            "text/html": [
              "<div>\n",
              "<style scoped>\n",
              "    .dataframe tbody tr th:only-of-type {\n",
              "        vertical-align: middle;\n",
              "    }\n",
              "\n",
              "    .dataframe tbody tr th {\n",
              "        vertical-align: top;\n",
              "    }\n",
              "\n",
              "    .dataframe thead th {\n",
              "        text-align: right;\n",
              "    }\n",
              "</style>\n",
              "<table border=\"1\" class=\"dataframe\">\n",
              "  <thead>\n",
              "    <tr style=\"text-align: right;\">\n",
              "      <th></th>\n",
              "      <th></th>\n",
              "      <th>Pos</th>\n",
              "      <th>Goal</th>\n",
              "    </tr>\n",
              "    <tr>\n",
              "      <th>Step</th>\n",
              "      <th>AgentID</th>\n",
              "      <th></th>\n",
              "      <th></th>\n",
              "    </tr>\n",
              "  </thead>\n",
              "  <tbody>\n",
              "    <tr>\n",
              "      <th rowspan=\"5\" valign=\"top\">0</th>\n",
              "      <th>0</th>\n",
              "      <td>(1, 3)</td>\n",
              "      <td>0</td>\n",
              "    </tr>\n",
              "    <tr>\n",
              "      <th>1</th>\n",
              "      <td>(2, 4)</td>\n",
              "      <td>0</td>\n",
              "    </tr>\n",
              "    <tr>\n",
              "      <th>2</th>\n",
              "      <td>(0, 1)</td>\n",
              "      <td>0</td>\n",
              "    </tr>\n",
              "    <tr>\n",
              "      <th>3</th>\n",
              "      <td>(2, 1)</td>\n",
              "      <td>0</td>\n",
              "    </tr>\n",
              "    <tr>\n",
              "      <th>4</th>\n",
              "      <td>(1, 2)</td>\n",
              "      <td>0</td>\n",
              "    </tr>\n",
              "    <tr>\n",
              "      <th>...</th>\n",
              "      <th>...</th>\n",
              "      <td>...</td>\n",
              "      <td>...</td>\n",
              "    </tr>\n",
              "    <tr>\n",
              "      <th rowspan=\"5\" valign=\"top\">257</th>\n",
              "      <th>5</th>\n",
              "      <td>(0, 0)</td>\n",
              "      <td>1</td>\n",
              "    </tr>\n",
              "    <tr>\n",
              "      <th>6</th>\n",
              "      <td>(0, 0)</td>\n",
              "      <td>1</td>\n",
              "    </tr>\n",
              "    <tr>\n",
              "      <th>7</th>\n",
              "      <td>(0, 0)</td>\n",
              "      <td>1</td>\n",
              "    </tr>\n",
              "    <tr>\n",
              "      <th>8</th>\n",
              "      <td>(0, 0)</td>\n",
              "      <td>1</td>\n",
              "    </tr>\n",
              "    <tr>\n",
              "      <th>9</th>\n",
              "      <td>(0, 0)</td>\n",
              "      <td>1</td>\n",
              "    </tr>\n",
              "  </tbody>\n",
              "</table>\n",
              "<p>2580 rows × 2 columns</p>\n",
              "</div>"
            ],
            "text/plain": [
              "                 Pos  Goal\n",
              "Step AgentID              \n",
              "0    0        (1, 3)     0\n",
              "     1        (2, 4)     0\n",
              "     2        (0, 1)     0\n",
              "     3        (2, 1)     0\n",
              "     4        (1, 2)     0\n",
              "...              ...   ...\n",
              "257  5        (0, 0)     1\n",
              "     6        (0, 0)     1\n",
              "     7        (0, 0)     1\n",
              "     8        (0, 0)     1\n",
              "     9        (0, 0)     1\n",
              "\n",
              "[2580 rows x 2 columns]"
            ]
          },
          "metadata": {},
          "execution_count": 24
        }
      ]
    },
    {
      "cell_type": "markdown",
      "metadata": {
        "id": "qzDg8XszE9o9"
      },
      "source": [
        "一番左の`Step`の列が計算ステップ，2列目の`AgentID`が避難者エージェントの番号，\n",
        "`Pos`が避難者エージェントの座標，`Goal`が避難者エージェントがゴールしているかどうかです．\n",
        "\n",
        "ここでは`Step`と`AgentID`の両方がDataFrameのインデックスになっており，\n",
        "複数のインデックスがあるマルチインデックスになっています．\n",
        "\n",
        "マルチインデックスの扱いは少々複雑で，\n",
        "特定の計算ステップの情報を取り出したいときには`loc`メソッドを使って`Step`を指定します．\n",
        "\n",
        "例えば計算ステップ0にアクセスしたい場合は以下のようにします．\n"
      ]
    },
    {
      "cell_type": "code",
      "metadata": {
        "id": "U-BC2u1sij8X",
        "colab": {
          "base_uri": "https://localhost:8080/",
          "height": 394
        },
        "outputId": "b8030feb-1207-42a9-ada8-1a6b59ff11f1"
      },
      "source": [
        "model.datacollector.get_agent_vars_dataframe().loc[0]"
      ],
      "execution_count": null,
      "outputs": [
        {
          "output_type": "execute_result",
          "data": {
            "text/html": [
              "<div>\n",
              "<style scoped>\n",
              "    .dataframe tbody tr th:only-of-type {\n",
              "        vertical-align: middle;\n",
              "    }\n",
              "\n",
              "    .dataframe tbody tr th {\n",
              "        vertical-align: top;\n",
              "    }\n",
              "\n",
              "    .dataframe thead th {\n",
              "        text-align: right;\n",
              "    }\n",
              "</style>\n",
              "<table border=\"1\" class=\"dataframe\">\n",
              "  <thead>\n",
              "    <tr style=\"text-align: right;\">\n",
              "      <th></th>\n",
              "      <th>Pos</th>\n",
              "      <th>Goal</th>\n",
              "    </tr>\n",
              "    <tr>\n",
              "      <th>AgentID</th>\n",
              "      <th></th>\n",
              "      <th></th>\n",
              "    </tr>\n",
              "  </thead>\n",
              "  <tbody>\n",
              "    <tr>\n",
              "      <th>0</th>\n",
              "      <td>(1, 3)</td>\n",
              "      <td>0</td>\n",
              "    </tr>\n",
              "    <tr>\n",
              "      <th>1</th>\n",
              "      <td>(2, 4)</td>\n",
              "      <td>0</td>\n",
              "    </tr>\n",
              "    <tr>\n",
              "      <th>2</th>\n",
              "      <td>(0, 1)</td>\n",
              "      <td>0</td>\n",
              "    </tr>\n",
              "    <tr>\n",
              "      <th>3</th>\n",
              "      <td>(2, 1)</td>\n",
              "      <td>0</td>\n",
              "    </tr>\n",
              "    <tr>\n",
              "      <th>4</th>\n",
              "      <td>(1, 2)</td>\n",
              "      <td>0</td>\n",
              "    </tr>\n",
              "    <tr>\n",
              "      <th>5</th>\n",
              "      <td>(1, 2)</td>\n",
              "      <td>0</td>\n",
              "    </tr>\n",
              "    <tr>\n",
              "      <th>6</th>\n",
              "      <td>(0, 3)</td>\n",
              "      <td>0</td>\n",
              "    </tr>\n",
              "    <tr>\n",
              "      <th>7</th>\n",
              "      <td>(3, 4)</td>\n",
              "      <td>0</td>\n",
              "    </tr>\n",
              "    <tr>\n",
              "      <th>8</th>\n",
              "      <td>(4, 4)</td>\n",
              "      <td>0</td>\n",
              "    </tr>\n",
              "    <tr>\n",
              "      <th>9</th>\n",
              "      <td>(0, 2)</td>\n",
              "      <td>0</td>\n",
              "    </tr>\n",
              "  </tbody>\n",
              "</table>\n",
              "</div>"
            ],
            "text/plain": [
              "            Pos  Goal\n",
              "AgentID              \n",
              "0        (1, 3)     0\n",
              "1        (2, 4)     0\n",
              "2        (0, 1)     0\n",
              "3        (2, 1)     0\n",
              "4        (1, 2)     0\n",
              "5        (1, 2)     0\n",
              "6        (0, 3)     0\n",
              "7        (3, 4)     0\n",
              "8        (4, 4)     0\n",
              "9        (0, 2)     0"
            ]
          },
          "metadata": {},
          "execution_count": 27
        }
      ]
    },
    {
      "cell_type": "markdown",
      "metadata": {
        "id": "tC33tf9vHrxB"
      },
      "source": [
        "特定の避難者エージェントにアクセスしたいときには`xs`メソッドを使います．\n",
        "\n",
        "例えばAgentID=0のみを取り出したいときは以下のようにします．"
      ]
    },
    {
      "cell_type": "code",
      "metadata": {
        "colab": {
          "base_uri": "https://localhost:8080/",
          "height": 455
        },
        "id": "8eVIJZpO0aKD",
        "outputId": "c8b46f0c-daa5-42f3-9819-91bc831b4da6"
      },
      "source": [
        "model.datacollector.get_agent_vars_dataframe().xs(0, level='AgentID')"
      ],
      "execution_count": null,
      "outputs": [
        {
          "output_type": "execute_result",
          "data": {
            "text/html": [
              "<div>\n",
              "<style scoped>\n",
              "    .dataframe tbody tr th:only-of-type {\n",
              "        vertical-align: middle;\n",
              "    }\n",
              "\n",
              "    .dataframe tbody tr th {\n",
              "        vertical-align: top;\n",
              "    }\n",
              "\n",
              "    .dataframe thead th {\n",
              "        text-align: right;\n",
              "    }\n",
              "</style>\n",
              "<table border=\"1\" class=\"dataframe\">\n",
              "  <thead>\n",
              "    <tr style=\"text-align: right;\">\n",
              "      <th></th>\n",
              "      <th>Pos</th>\n",
              "      <th>Goal</th>\n",
              "    </tr>\n",
              "    <tr>\n",
              "      <th>Step</th>\n",
              "      <th></th>\n",
              "      <th></th>\n",
              "    </tr>\n",
              "  </thead>\n",
              "  <tbody>\n",
              "    <tr>\n",
              "      <th>0</th>\n",
              "      <td>(1, 3)</td>\n",
              "      <td>0</td>\n",
              "    </tr>\n",
              "    <tr>\n",
              "      <th>1</th>\n",
              "      <td>(1, 2)</td>\n",
              "      <td>0</td>\n",
              "    </tr>\n",
              "    <tr>\n",
              "      <th>2</th>\n",
              "      <td>(0, 2)</td>\n",
              "      <td>0</td>\n",
              "    </tr>\n",
              "    <tr>\n",
              "      <th>3</th>\n",
              "      <td>(1, 2)</td>\n",
              "      <td>0</td>\n",
              "    </tr>\n",
              "    <tr>\n",
              "      <th>4</th>\n",
              "      <td>(2, 2)</td>\n",
              "      <td>0</td>\n",
              "    </tr>\n",
              "    <tr>\n",
              "      <th>...</th>\n",
              "      <td>...</td>\n",
              "      <td>...</td>\n",
              "    </tr>\n",
              "    <tr>\n",
              "      <th>253</th>\n",
              "      <td>(0, 0)</td>\n",
              "      <td>1</td>\n",
              "    </tr>\n",
              "    <tr>\n",
              "      <th>254</th>\n",
              "      <td>(0, 0)</td>\n",
              "      <td>1</td>\n",
              "    </tr>\n",
              "    <tr>\n",
              "      <th>255</th>\n",
              "      <td>(0, 0)</td>\n",
              "      <td>1</td>\n",
              "    </tr>\n",
              "    <tr>\n",
              "      <th>256</th>\n",
              "      <td>(0, 0)</td>\n",
              "      <td>1</td>\n",
              "    </tr>\n",
              "    <tr>\n",
              "      <th>257</th>\n",
              "      <td>(0, 0)</td>\n",
              "      <td>1</td>\n",
              "    </tr>\n",
              "  </tbody>\n",
              "</table>\n",
              "<p>258 rows × 2 columns</p>\n",
              "</div>"
            ],
            "text/plain": [
              "         Pos  Goal\n",
              "Step              \n",
              "0     (1, 3)     0\n",
              "1     (1, 2)     0\n",
              "2     (0, 2)     0\n",
              "3     (1, 2)     0\n",
              "4     (2, 2)     0\n",
              "...      ...   ...\n",
              "253   (0, 0)     1\n",
              "254   (0, 0)     1\n",
              "255   (0, 0)     1\n",
              "256   (0, 0)     1\n",
              "257   (0, 0)     1\n",
              "\n",
              "[258 rows x 2 columns]"
            ]
          },
          "metadata": {},
          "execution_count": 26
        }
      ]
    },
    {
      "cell_type": "markdown",
      "metadata": {
        "id": "MPWMjhDR04fh"
      },
      "source": [
        "AgentID=0の位置のみを取り出すときには以下のようにします．"
      ]
    },
    {
      "cell_type": "code",
      "metadata": {
        "id": "X1cLAwc4FgCp",
        "colab": {
          "base_uri": "https://localhost:8080/"
        },
        "outputId": "3e079b6e-ea0b-4ff5-e701-436bb66b455b"
      },
      "source": [
        "model.datacollector.get_agent_vars_dataframe().xs(0, level='AgentID')['Pos']"
      ],
      "execution_count": null,
      "outputs": [
        {
          "output_type": "execute_result",
          "data": {
            "text/plain": [
              "Step\n",
              "0      (1, 3)\n",
              "1      (1, 2)\n",
              "2      (0, 2)\n",
              "3      (1, 2)\n",
              "4      (2, 2)\n",
              "        ...  \n",
              "253    (0, 0)\n",
              "254    (0, 0)\n",
              "255    (0, 0)\n",
              "256    (0, 0)\n",
              "257    (0, 0)\n",
              "Name: Pos, Length: 258, dtype: object"
            ]
          },
          "metadata": {},
          "execution_count": 30
        }
      ]
    },
    {
      "cell_type": "markdown",
      "metadata": {
        "id": "zgIMkxO21Xvh"
      },
      "source": [
        "## 任意の計算ステップでの避難者エージェントの位置を図化する"
      ]
    },
    {
      "cell_type": "markdown",
      "metadata": {
        "id": "cwKSDYt42FtW"
      },
      "source": [
        "計算ステップごとの避難エージェントの位置をプロットしてみましょう．\n",
        "基本的な形は以下のようになります．\n",
        "\n",
        "```python\n",
        "fig = plt.figure(figsize=(5, 5))\n",
        "ax = fig.add_subplot(111)\n",
        "\n",
        "# ゴールをプロット\n",
        "ax.text(goal_x, goal_y, 'Goal', size = 10, ha = 'center')\n",
        "ax.scatter(goal_x, goal_y, s = 1000, marker = \"s\")\n",
        "\n",
        "ax.scatter(\n",
        "  ある計算ステップにおけるすべての避難者エージェントのx座標の配列,\n",
        "  ある計算ステップにおけるすべての避難者エージェントのy座標の配列,\n",
        "  s=600, c=\"red\", marker=\"*\")\n",
        "ax.set_title('evacuation')\n",
        "ax.set_xlabel('x')\n",
        "ax.set_ylabel('y')\n",
        "\n",
        "plt.show()\n",
        "```\n",
        "\n"
      ]
    },
    {
      "cell_type": "markdown",
      "metadata": {
        "id": "EPGt57um3Bzj"
      },
      "source": [
        "特に複雑な図ではないのですが，ある計算ステップにおけるすべての避難者エージェントの座標を取得するところがポイントになります．\n",
        "\n",
        "例としてStep=0のすべての避難者エージェントの座標を取得します．"
      ]
    },
    {
      "cell_type": "code",
      "metadata": {
        "id": "XF030B0MO34I",
        "colab": {
          "base_uri": "https://localhost:8080/"
        },
        "outputId": "aa337b2c-053d-451b-d009-bc292ee870b4"
      },
      "source": [
        "model.datacollector.get_agent_vars_dataframe().xs(0, level='Step')['Pos']"
      ],
      "execution_count": null,
      "outputs": [
        {
          "output_type": "execute_result",
          "data": {
            "text/plain": [
              "AgentID\n",
              "0    (1, 3)\n",
              "1    (2, 4)\n",
              "2    (0, 1)\n",
              "3    (2, 1)\n",
              "4    (1, 2)\n",
              "5    (1, 2)\n",
              "6    (0, 3)\n",
              "7    (3, 4)\n",
              "8    (4, 4)\n",
              "9    (0, 2)\n",
              "Name: Pos, dtype: object"
            ]
          },
          "metadata": {},
          "execution_count": 31
        }
      ]
    },
    {
      "cell_type": "markdown",
      "metadata": {
        "id": "mETVHtMW3Xz5"
      },
      "source": [
        "取得した座標値はx座標とy座標が組（タプル）になったリストです．\n",
        "これをx座標のリストとy座標のリストに分けます．\n",
        "\n",
        "`for`ループを使えば以下のようにすることができます．\n",
        "\n",
        "```python\n",
        "x = []\n",
        "y = []\n",
        "agent_loc = model.datacollector.get_agent_vars_dataframe().xs(0, level='Step')['Pos']\n",
        "for i in range(len(agent_loc)):\n",
        "  x.append(agent_loc[i][0])\n",
        "  y.append(agent_loc[i][1])\n",
        "```\n",
        "\n",
        "しかしこれはあまりpython的ではなく，エレガントとは言えません．\n",
        "\n",
        "Pythonらしく書くと以下のようになります．\n",
        "\n",
        "```python\n",
        "agent_loc = model.datacollector.get_agent_vars_dataframe().xs(0, level='Step')['Pos']\n",
        "x, y = [a for a, b in agent_loc], [b for a, b in agent_loc]\n",
        "```\n",
        "タプルのリストから内包表記を使ってx座標とy座標それぞれのリストを取り出します．\n"
      ]
    },
    {
      "cell_type": "markdown",
      "metadata": {
        "id": "HaDmxJ1sLnqu"
      },
      "source": [
        "実際に実行してみます．"
      ]
    },
    {
      "cell_type": "code",
      "metadata": {
        "id": "-bYPvMwpo_We",
        "colab": {
          "base_uri": "https://localhost:8080/"
        },
        "outputId": "f550dd37-651a-45fd-f28d-afc3f6218b0e"
      },
      "source": [
        "agent_loc = model.datacollector.get_agent_vars_dataframe().xs(1, level='Step')['Pos']\n",
        "x, y = [a for a, b in agent_loc], [b for a, b in agent_loc]\n",
        "print(x)\n",
        "print(y)"
      ],
      "execution_count": null,
      "outputs": [
        {
          "output_type": "stream",
          "name": "stdout",
          "text": [
            "[1, 2, 1, 2, 0, 1, 0, 3, 3, 1]\n",
            "[2, 3, 1, 0, 2, 3, 2, 3, 4, 2]\n"
          ]
        }
      ]
    },
    {
      "cell_type": "markdown",
      "metadata": {
        "id": "FmUjacCCaK7n"
      },
      "source": [
        "\n",
        "これで各避難者エージェントの座標が取得できたので，散布図を作ってみましょう．\n",
        "ここではStep=0の状態を表示します．"
      ]
    },
    {
      "cell_type": "code",
      "metadata": {
        "colab": {
          "base_uri": "https://localhost:8080/",
          "height": 350
        },
        "id": "DEM33GiTP0LJ",
        "outputId": "69b51548-455f-40d2-ebc0-531f0a14c5a8"
      },
      "source": [
        "fig = plt.figure(figsize=(5, 5))\n",
        "ax = fig.add_subplot(111)\n",
        "\n",
        "# ゴールをプロット\n",
        "ax.text(goal_x, goal_y, 'Goal', size = 10, ha = 'center')\n",
        "ax.scatter(goal_x, goal_y, s = 1000, marker = \"s\")\n",
        "\n",
        "agent_loc = model.datacollector.get_agent_vars_dataframe().xs(0, level='Step')['Pos']\n",
        "x, y = [a for a, b in agent_loc], [b for a, b in agent_loc]\n",
        "ax.scatter(x, y, s=600, c=\"red\", marker=\"*\")\n",
        "ax.set_title('evacuation')\n",
        "ax.set_xlabel('x')\n",
        "ax.set_ylabel('y')\n",
        "\n",
        "plt.show()"
      ],
      "execution_count": null,
      "outputs": [
        {
          "output_type": "display_data",
          "data": {
            "image/png": "[encoded data removed]",
            "text/plain": [
              "<Figure size 360x360 with 1 Axes>"
            ]
          },
          "metadata": {
            "needs_background": "light"
          }
        }
      ]
    },
    {
      "cell_type": "markdown",
      "metadata": {
        "id": "dbtNdF-poJzL"
      },
      "source": [
        "## 避難者エージェントの動きをアニメーションにする"
      ]
    },
    {
      "cell_type": "markdown",
      "metadata": {
        "id": "pt7ht1988UzI"
      },
      "source": [
        "任意の計算ステップでの避難者エージェントの位置をプロットできたので，これを使ってアニメーションを作ってみます．\n",
        "\n",
        "アニメーションは以下のような形で作成します．\n",
        "\n",
        "```python\n",
        "fig = plt.figure(figsize = (5, 5))\n",
        "ax = fig.add_subplot(111)\n",
        "\n",
        "# ゴールをプロット\n",
        "plt.text(goal_x, goal_y, 'Goal', size = 14, ha = 'center')\n",
        "plt.scatter(goal_x, goal_y, s = 800, marker = \"s\")\n",
        "\n",
        "# グラフを保持するリストの生成\n",
        "ims=[]\n",
        "\n",
        "for i in range(計算ステップ数): \n",
        "  im = ax.scatter(避難エージェントのx座標配列, 避難エージェントのy座標配列, s=1000, c=\"red\", marker=\"*\")\n",
        "# グラフをリストに加える\n",
        "  ims.append([im])\n",
        "\n",
        "ax.set_title('evacuation')\n",
        "ax.set_xlabel('x')\n",
        "ax.set_ylabel('y')\n",
        "\n",
        "# ArtistAnimationにfigオブジェクトとimsを代入してアニメーションを作成\n",
        "anim = animation.ArtistAnimation(fig, ims, interval = 150)\n",
        "\n",
        "# Google Colaboratoryの場合必要\n",
        "rc('animation', html='jshtml')\n",
        "plt.close()\n",
        "anim\n",
        "```\n",
        "\n",
        "基本的には一枚のプロットを作るのと同じですが，\n",
        "作成したプロットは配列（リスト）に追加し，\n",
        "すべての計算ステップにおけるプロットを追加し終わったら一括してアニメーションを作成します．\n",
        "\n",
        "アニメーションを作成するには以下のようにします．\n",
        "```python\n",
        "anim = animation.ArtistAnimation(fig, ims, interval = 150)\n",
        "```\n",
        "\n",
        "引数`fig`は図のインスタンス，`ims`は図を格納したリストです．\n",
        "`intaerval`はアニメのコマ間で，ms（ミリ秒）で指定します．\n",
        "\n",
        "作成したアニメーションを表示するには以下を実行します．\n",
        "```python\n",
        "rc('animation', html='jshtml')\n",
        "plt.close()\n",
        "anim\n",
        "```\n",
        "`rc('animation', html='jshtml')`はGoogle Colaboratory上でアニメーションを表示するのに必要です．\n",
        "\n",
        "アニメーションの生成には意外と時間がかかります．\n",
        "メモリも使いますので，ステップ数が多いとアニメーションができないこともあるので注意してください．"
      ]
    },
    {
      "cell_type": "markdown",
      "metadata": {
        "id": "H6pqJ-VpbjV_"
      },
      "source": [
        "それでは実際にアニメーションを作成してみましょう．\n",
        "ここでは100ステップ目までのアニメーションを作成します．"
      ]
    },
    {
      "cell_type": "code",
      "metadata": {
        "id": "c40wJZ0IKBE-"
      },
      "source": [
        "fig = plt.figure(figsize = (5, 5))\n",
        "ax = fig.add_subplot(111)\n",
        "\n",
        "# ゴールをプロット\n",
        "plt.text(goal_x, goal_y, 'Goal', size = 14, ha = 'center')\n",
        "plt.scatter(goal_x, goal_y, s = 800, marker = \"s\")\n",
        "\n",
        "ims=[]\n",
        "\n",
        "# 100ステップまでアニメーションを作成する\n",
        "for i in range(100): \n",
        "  agent_loc = model.datacollector.get_agent_vars_dataframe().xs(i, level='Step')['Pos']\n",
        "  x, y = [a for a, b in agent_loc], [b for a, b in agent_loc]\n",
        "  im = ax.scatter(x, y, s=1000, c=\"red\", marker=\"*\")\n",
        "# グラフをリストに加える\n",
        "  ims.append([im])\n",
        "\n",
        "ax.set_title('evacuation')\n",
        "ax.set_xlabel('x')\n",
        "ax.set_ylabel('y')\n",
        "\n",
        "# ArtistAnimationにfigオブジェクトとimsを代入してアニメーションを作成\n",
        "anim = animation.ArtistAnimation(fig, ims, interval = 150)\n",
        "\n",
        "# Google Colaboratoryの場合必要\n",
        "rc('animation', html='jshtml')\n",
        "plt.close()\n",
        "anim\n"
      ],
      "execution_count": null,
      "outputs": []
    },
    {
      "cell_type": "markdown",
      "metadata": {
        "id": "zGVUO0YPoUVt"
      },
      "source": [
        "## なめらかなアニメーションを作る"
      ]
    },
    {
      "cell_type": "markdown",
      "metadata": {
        "id": "U64km7HwKdY8"
      },
      "source": [
        "作成したアニメーションはパラパラアニメすぎたので，\n",
        "一つ前の計算ステップからの避難エージェントの移動量を内挿して補間をします．\n",
        "これによりある程度アニメーションをなめらかにすることができます．\n",
        "\n",
        "また，アニメーションのループに`tqdm`を使ってプログレスバーを表示させています．"
      ]
    },
    {
      "cell_type": "code",
      "metadata": {
        "id": "ihKmVhqwKOFG"
      },
      "source": [
        "fig = plt.figure(figsize = (5, 5))\n",
        "ax = fig.add_subplot(111)\n",
        "\n",
        "# ゴールをプロット\n",
        "plt.text(goal_x, goal_y, 'Goal', size = 14, ha = 'center')\n",
        "plt.scatter(goal_x, goal_y, s = 800, marker = \"s\")\n",
        "\n",
        "ims = []\n",
        "\n",
        "# 計算ステップ間の補間数\n",
        "step = 3\n",
        "\n",
        "# 0 Step目のエージェントの座標を取得する\n",
        "agent_loc = model.datacollector.get_agent_vars_dataframe().xs(0, level='Step')['Pos']\n",
        "x0, y0 = [a for a, b in agent_loc], [b for a, b in agent_loc]\n",
        "\n",
        "for i in tqdm(range(1, 100)): \n",
        "  agent_loc = model.datacollector.get_agent_vars_dataframe().xs(i, level='Step')['Pos']\n",
        "  x, y = [a for a, b in agent_loc], [b for a, b in agent_loc]\n",
        "  # 前の計算ステップの避難エージェント位置との差分を取り，補間を行う．\n",
        "  dx = (np.array(x) - np.array(x0)) / step\n",
        "  dy = (np.array(y) - np.array(y0)) / step\n",
        "  for u in range(step):\n",
        "    #補間数分のループを使って避難エージェントの座標を内挿する\n",
        "    im = ax.scatter(x0 + (dx * u), y0 + (dy * u), s=1000, c=\"red\", marker=\"*\")\n",
        "    # グラフをリストに加える\n",
        "    ims.append([im])\n",
        "  x0 = x\n",
        "  y0 = y\n",
        "\n",
        "ax.set_title('evacuation')\n",
        "ax.set_xlabel('x')\n",
        "ax.set_ylabel('y')\n",
        "\n",
        "# ArtistAnimationにfigオブジェクトとimsを代入してアニメーションを作成\n",
        "anim = animation.ArtistAnimation(fig, ims, interval = 50)\n",
        "\n",
        "# Google Colaboratoryの場合必要\n",
        "rc('animation', html='jshtml')\n",
        "plt.close()\n",
        "anim"
      ],
      "execution_count": null,
      "outputs": []
    },
    {
      "cell_type": "markdown",
      "metadata": {
        "id": "f7LyN1hpoaCK"
      },
      "source": [
        "## スペース属性のアニメーション"
      ]
    },
    {
      "cell_type": "markdown",
      "metadata": {
        "id": "HORHEi6mrYW0"
      },
      "source": [
        "おまけとしてスペースの状態（累計避難完了者数と計算ステップごとの避難完了者のグラフ）もアニメーションにしてみました．"
      ]
    },
    {
      "cell_type": "code",
      "metadata": {
        "id": "72USv9y8rWzl"
      },
      "source": [
        "fig = plt.figure(figsize = (5, 5))\n",
        "ax = fig.add_subplot(111)\n",
        "\n",
        "ims=[]\n",
        "for i in range(100): \n",
        "  goal = model.datacollector.get_model_vars_dataframe()[0:i]\n",
        "  im = ax.plot(goal, color=\"red\")\n",
        "\n",
        "# グラフをリストに加える\n",
        "  ims.append(im)\n",
        "\n",
        "ax.set_title('evacuation')\n",
        "ax.set_xlabel('Step')\n",
        "ax.set_ylabel('Goal')\n",
        "\n",
        "# ArtistAnimationにfigオブジェクトとimsを代入してアニメーションを作成\n",
        "anim = animation.ArtistAnimation(fig, ims, interval=50)\n",
        "\n",
        "# Google Colaboratoryの場合必要\n",
        "rc('animation', html='jshtml')\n",
        "plt.close()\n",
        "anim"
      ],
      "execution_count": null,
      "outputs": []
    },
    {
      "cell_type": "markdown",
      "metadata": {
        "id": "OZK1vCjYofNO"
      },
      "source": [
        "# ここまでのまとめ"
      ]
    },
    {
      "cell_type": "markdown",
      "metadata": {
        "id": "K5WOp7tQBD4t"
      },
      "source": [
        "ここまでの内容をまとめました．\n"
      ]
    },
    {
      "cell_type": "markdown",
      "metadata": {
        "id": "n6FE3kQzpjq7"
      },
      "source": [
        "## スペースとエージェントを定義してモデルを実行する"
      ]
    },
    {
      "cell_type": "code",
      "metadata": {
        "id": "c6dGaAjjokyi"
      },
      "source": [
        "%pip install mesa\n",
        "%matplotlib notebook\n",
        "\n",
        "import numpy as np\n",
        "from tqdm import tqdm\n",
        "\n",
        "import matplotlib.pyplot as plt\n",
        "from matplotlib import animation, rc\n",
        "from matplotlib.animation import ArtistAnimation\n",
        "from IPython.display import HTML\n",
        "\n",
        "from mesa import Agent, Model\n",
        "from mesa.space import MultiGrid\n",
        "from mesa.space import SingleGrid\n",
        "from mesa.time import RandomActivation\n",
        "from mesa.datacollection import DataCollector\n",
        "\n",
        "def goal_pop(model):\n",
        "  return(model.evac_comp)\n",
        "\n",
        "def compute_goal(model):\n",
        "  agent_goal = sum([agent.mygoal for agent in model.schedule.agents])\n",
        "  return (agent_goal)\n",
        "\n",
        "class EvacModel(Model):\n",
        "\n",
        "  def __init__(self, N, width, height, goal_x, goal_y):\n",
        "    # 避難者エージェントの数をNに設定する\n",
        "    self.num_agents = N\n",
        "    # MultiGridは同一座標に複数エージェントを配置できるスペース\n",
        "    self.grid = MultiGrid(width, height, torus=False)\n",
        "\n",
        "    # ゴール地点の座標を設定する（goal_xとgoal_y)\n",
        "    self.goal = (goal_x, goal_y)\n",
        "    # 避難完了者をカウントする（0で初期化）\n",
        "    self.evac_comp = 0\n",
        "    # EvacAgentの実行順序をランダムに設定する\n",
        "    self.schedule = RandomActivation(self)\n",
        "\n",
        "    # 避難者エージェントの作成．num_agentsの数だけエージェントを作成する\n",
        "    for i in range(self.num_agents):\n",
        "      a = EvacAgent(i, self)\n",
        "      self.schedule.add(a)\n",
        "      # エージェントの初期位置をランダムに決定する\n",
        "      x = self.random.randrange(self.grid.width)\n",
        "      y = self.random.randrange(self.grid.height)\n",
        "      # エージェントを配置する\n",
        "      self.grid.place_agent(a, (x, y))\n",
        "\n",
        "      # データコレクターの設定\n",
        "      self.datacollector = DataCollector(\n",
        "        model_reporters={\"Goal\": compute_goal, \"evacuator\": goal_pop},\n",
        "        agent_reporters={\"Pos\": \"pos\", \"Goal\": \"mygoal\"})\n",
        "      \n",
        "    self.datacollector.collect(self)\n",
        "      \n",
        "  def step(self):\n",
        "    model.evac_comp = 0\n",
        "    self.schedule.step()\n",
        "    self.datacollector.collect(self)\n",
        "\n",
        "class EvacAgent(Agent):\n",
        "\n",
        "  def __init__(self, unique_id, model):\n",
        "    super().__init__(unique_id, model)\n",
        "    self.mygoal = 0\n",
        "\n",
        "  def move(self):\n",
        "    possible_steps = self.model.grid.get_neighborhood(\n",
        "      self.pos,\n",
        "      moore = False,\n",
        "      include_center = False)\n",
        "    new_position = self.random.choice(possible_steps)\n",
        "    self.model.grid.move_agent(self, new_position)\n",
        "\n",
        "  # ゴールに到達したか判定する関数\n",
        "  def if_goal(self):\n",
        "    if self.pos == self.model.goal:\n",
        "      self.mygoal += 1\n",
        "      self.model.evac_comp += 1\n",
        "\n",
        "  def step(self):\n",
        "    if self.mygoal == 0:\n",
        "      self.move()\n",
        "      self.if_goal()\n",
        "\n",
        "# モデルの実行\n",
        "goal_x = 0\n",
        "goal_y = 0\n",
        "model = EvacModel(10, 5, 5, goal_x, goal_y)\n",
        "while min([agent.mygoal for agent in model.schedule.agents]) < 1:\n",
        "  model.step()"
      ],
      "execution_count": null,
      "outputs": []
    },
    {
      "cell_type": "markdown",
      "metadata": {
        "id": "rzkse4fvpqgF"
      },
      "source": [
        "## 計算結果のアニメーション"
      ]
    },
    {
      "cell_type": "code",
      "metadata": {
        "id": "me85rrg7pwWI"
      },
      "source": [
        "fig = plt.figure(figsize = (5, 5))\n",
        "ax = fig.add_subplot(111)\n",
        "\n",
        "# ゴールをプロット\n",
        "plt.text(goal_x, goal_y, 'Goal', size = 14, ha = 'center')\n",
        "plt.scatter(goal_x, goal_y, s = 800, marker = \"s\")\n",
        "\n",
        "ims = []\n",
        "step = 3\n",
        "\n",
        "# 0 Stepめのエージェントの座標を取得する\n",
        "agent_loc = model.datacollector.get_agent_vars_dataframe().xs(0, level='Step')['Pos']\n",
        "x0, y0 = [a for a, b in agent_loc], [b for a, b in agent_loc]\n",
        "\n",
        "for i in tqdm(range(1, 100)): \n",
        "  agent_loc = model.datacollector.get_agent_vars_dataframe().xs(i, level='Step')['Pos']\n",
        "  x, y = [a for a, b in agent_loc], [b for a, b in agent_loc]\n",
        "  dx = (np.array(x) - np.array(x0)) / step\n",
        "  dy = (np.array(y) - np.array(y0)) / step\n",
        "  for u in range(step):\n",
        "    im = ax.scatter(x0 + (dx * u), y0 + (dy * u), s=1000, c=\"red\", marker=\"*\")\n",
        "    # グラフをリストに加える\n",
        "    ims.append([im])\n",
        "  x0 = x\n",
        "  y0 = y\n",
        "\n",
        "ax.set_title('evacuation')\n",
        "ax.set_xlabel('x')\n",
        "ax.set_ylabel('y')\n",
        "\n",
        "# ArtistAnimationにfigオブジェクトとimsを代入してアニメーションを作成\n",
        "anim = animation.ArtistAnimation(fig, ims, interval = 50)\n",
        "\n",
        "# Google Colaboratoryの場合必要\n",
        "rc('animation', html='jshtml')\n",
        "plt.close()\n",
        "anim"
      ],
      "execution_count": null,
      "outputs": []
    },
    {
      "cell_type": "markdown",
      "metadata": {
        "id": "cIu4vta4A-yG"
      },
      "source": [
        "## スペースの状態をグラフ化する"
      ]
    },
    {
      "cell_type": "code",
      "metadata": {
        "id": "2EZn92ZxA9GM"
      },
      "source": [
        "%matplotlib inline\n",
        "\n",
        "fig = plt.figure()\n",
        "ax = fig.add_subplot(111)\n",
        "\n",
        "goal = model.datacollector.get_model_vars_dataframe()\n",
        "\n",
        "ax.plot(goal)\n",
        "plt.show"
      ],
      "execution_count": null,
      "outputs": []
    }
  ]
}