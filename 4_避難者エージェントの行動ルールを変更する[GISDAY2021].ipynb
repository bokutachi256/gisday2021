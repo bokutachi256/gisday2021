{
  "nbformat": 4,
  "nbformat_minor": 0,
  "metadata": {
    "colab": {
      "name": "4. 避難者エージェントの行動ルールを変更する[GISDAY2021]",
      "provenance": [],
      "collapsed_sections": [],
      "toc_visible": true,
      "authorship_tag": "ABX9TyP4JWu0KY2K/BvDderIV4eL",
      "include_colab_link": true
    },
    "kernelspec": {
      "display_name": "Python 3",
      "name": "python3"
    },
    "language_info": {
      "name": "python"
    }
  },
  "cells": [
    {
      "cell_type": "markdown",
      "metadata": {
        "id": "view-in-github",
        "colab_type": "text"
      },
      "source": [
        "<a href=\"https://colab.research.google.com/github/bokutachi256/gisday2021/blob/main/4_%E9%81%BF%E9%9B%A3%E8%80%85%E3%82%A8%E3%83%BC%E3%82%B8%E3%82%A7%E3%83%B3%E3%83%88%E3%81%AE%E8%A1%8C%E5%8B%95%E3%83%AB%E3%83%BC%E3%83%AB%E3%82%92%E5%A4%89%E6%9B%B4%E3%81%99%E3%82%8B%5BGISDAY2021%5D.ipynb\" target=\"_parent\"><img src=\"https://colab.research.google.com/assets/colab-badge.svg\" alt=\"Open In Colab\"/></a>"
      ]
    },
    {
      "cell_type": "markdown",
      "metadata": {
        "id": "xGiF9Y62uC-i"
      },
      "source": [
        "* Pythonで作るマルチエージェントシミュレーション\n",
        "* 東京都立大学 都市環境学部 地理環境学科 中山大地\n",
        "* 2021年12月4日 東京都立大学 南大沢キャンパス（オンライン開催）\n",
        "* このテキストのURL [https://github.com/bokutachi256/gisday2021](https://github.com/bokutachi256/gisday2021)\n",
        "* Google ColaboratoryのURL [https://colab.research.google.com/](https://colab.research.google.com/)\n",
        "* MESAのURL [https://mesa.readthedocs.io/](https://mesa.readthedocs.io/)"
      ]
    },
    {
      "cell_type": "markdown",
      "metadata": {
        "id": "_LJkCWljCt7m"
      },
      "source": [
        "# この章でやること"
      ]
    },
    {
      "cell_type": "markdown",
      "metadata": {
        "id": "Cdp_4vmRC2eG"
      },
      "source": [
        "この章では避難者エージェントのルールを変更します．\n",
        "具体的にはゴールに近づいた避難者エージェントはなるべくゴールに近づくように行動します．\n",
        "\n",
        "そのためにはゴールをエージェントとして定義し，\n",
        "避難者エージェントは周囲を検索してゴールエージェントが見つかった場合には\n",
        "ゴールになるべく近づく方向に移動します．\n",
        "これはエージェントの移動の指針となる評価関数にゴールまでの距離を用い，\n",
        "評価関数を最小化する方向に移動することで実装します．"
      ]
    },
    {
      "cell_type": "markdown",
      "metadata": {
        "id": "ZL6rKtZFXn1O"
      },
      "source": [
        "# Mesaのインストール"
      ]
    },
    {
      "cell_type": "code",
      "metadata": {
        "id": "0V-PcNU2aDPz"
      },
      "source": [
        "%pip install mesa"
      ],
      "execution_count": null,
      "outputs": []
    },
    {
      "cell_type": "markdown",
      "metadata": {
        "id": "dvCnFtF_Xym8"
      },
      "source": [
        "# 必要ライブラリのインポート"
      ]
    },
    {
      "cell_type": "code",
      "metadata": {
        "id": "FfqRu70mvuN4"
      },
      "source": [
        "%matplotlib notebook\n",
        "\n",
        "import numpy as np\n",
        "from tqdm import tqdm\n",
        "\n",
        "import matplotlib.pyplot as plt\n",
        "from matplotlib import animation, rc\n",
        "from matplotlib.animation import ArtistAnimation\n",
        "from IPython.display import HTML\n",
        "\n",
        "from mesa import Agent, Model\n",
        "from mesa.space import MultiGrid\n",
        "from mesa.space import SingleGrid\n",
        "from mesa.time import RandomActivation\n",
        "from mesa.datacollection import DataCollector"
      ],
      "execution_count": null,
      "outputs": []
    },
    {
      "cell_type": "markdown",
      "metadata": {
        "id": "jzMzgLigZft1"
      },
      "source": [
        "# ここまでのモデル"
      ]
    },
    {
      "cell_type": "markdown",
      "metadata": {
        "id": "PjgS7k_BV5-x"
      },
      "source": [
        "## スペースのモデル\n"
      ]
    },
    {
      "cell_type": "markdown",
      "metadata": {
        "id": "cYlp2WdDuj9H"
      },
      "source": [
        "\n",
        "前の章で作成したスペース及び避難者エージェントは以下のようになっていました．\n",
        "\n",
        "* スペースはMultiGridを使う\n",
        "* ~~エージェントの初期位置はランダムに決定する~~\n",
        "* エージェントの初期位置は`start_x`と`start_y`とする\n",
        "* ゴールは`goal_x`と`goal_y`とする\n",
        "* ~~エージェントは上下左右にランダムに動く~~\n",
        "* エージェントは上下左右のうち，他の避難者エージェントがいないセルにランダムに動く\n",
        "* 壁エージェントを生成し，避難者エージェントは壁の上に移動しない\n",
        "* データコレクターには以下の情報を格納する\n",
        " * model_reporter：ゴールした人数の累計，Stepごとのゴールした人数\n",
        " * agent_reporter：エージェントの座標とゴールしたかどうかの状態を保持\n",
        "\n",
        "実行してみましょう．\n"
      ]
    },
    {
      "cell_type": "code",
      "metadata": {
        "id": "CXnLYFdhqaae"
      },
      "source": [
        "class EvacModel(Model):\n",
        "\n",
        "  # コンストラクタにwall（壁の位置を示すndarray）を追加した\n",
        "  def __init__(self, N, width, height, start_x, start_y, goal_x, goal_y, wall):\n",
        "    # 避難者エージェントの数をNに設定する\n",
        "    self.num_agents = N\n",
        "    # MultiGridは同一座標に複数エージェントを配置できるスペース\n",
        "    self.grid = MultiGrid(width, height, torus=False)\n",
        "\n",
        "    # 壁の座標を保持するプロパティの定義\n",
        "    self.wall_x = list()\n",
        "    self.wall_y = list()\n",
        "    \n",
        "    # 壁の定義をプロパティとして保持する\n",
        "    self.wall = wall\n",
        "    # ゴール地点の座標を設定する（goal_xとgoal_y)\n",
        "    self.goal = (goal_x, goal_y)\n",
        "    # 避難完了者をカウントする（0で初期化）\n",
        "    self.evac_comp = 0\n",
        "    # EvacAgentの実行順序をランダムに設定する\n",
        "    self.schedule = RandomActivation(self)\n",
        "\n",
        "    # 避難者エージェントの作成．num_agentsの数だけエージェントを作成する\n",
        "    for i in range(self.num_agents):\n",
        "      a = EvacAgent(i, self)\n",
        "      self.schedule.add(a)\n",
        "      # エージェントを配置する\n",
        "      self.grid.place_agent(a, (start_x, start_y))\n",
        "\n",
        "      # データコレクターの設定\n",
        "      self.datacollector = DataCollector(\n",
        "        model_reporters={\"Goal\": compute_goal, \"evacuator\": goal_pop},\n",
        "        agent_reporters={\"Pos\": \"pos\", \"Goal\": \"mygoal\"})\n",
        "\n",
        "    # 避難者エージェント配置直後（初期状態）の状況をデータコレクターで取得  \n",
        "    self.datacollector.collect(self)\n",
        "  \n",
        "    # 壁エージェントを配置する\n",
        "    # 壁の配列から座標を取得する．壁の配列は上下反転させる\n",
        "    wall_y = np.where(np.flipud(self.wall) >0)[0]\n",
        "    wall_x = np.where(np.flipud(self.wall) >0)[1]\n",
        "    # 取得した壁の座標に壁エージェントを配置する\n",
        "    for i in range(len(wall_x)):\n",
        "      a = WallAgent(i, self)\n",
        "      self.grid.place_agent(a, (wall_x[i], wall_y[i]))\n",
        "      # 壁の座標を保持する\n",
        "      self.wall_x.append(wall_x[i])\n",
        "      self.wall_y.append(wall_y[i])\n",
        "      \n",
        "  def step(self):\n",
        "    model.evac_comp = 0\n",
        "    self.schedule.step()\n",
        "    self.datacollector.collect(self)"
      ],
      "execution_count": null,
      "outputs": []
    },
    {
      "cell_type": "markdown",
      "metadata": {
        "id": "fqU-7FG3ynhq"
      },
      "source": [
        "## ゴール人数の累計を求める関数"
      ]
    },
    {
      "cell_type": "markdown",
      "metadata": {
        "id": "oV04KIbqvMB4"
      },
      "source": [
        "これも実行します．"
      ]
    },
    {
      "cell_type": "code",
      "metadata": {
        "id": "JnXyfOl6yOSD"
      },
      "source": [
        "\n",
        "# そのステップでゴールした人数を求める関数\n",
        "def goal_pop(model):\n",
        "  return(model.evac_comp)\n",
        "\n",
        "# ゴールした人数の累計を求める関数\n",
        "def compute_goal(model):\n",
        "  agent_goal = sum([agent.mygoal for agent in model.schedule.agents])\n",
        "  return (agent_goal)\n"
      ],
      "execution_count": null,
      "outputs": []
    },
    {
      "cell_type": "markdown",
      "metadata": {
        "id": "VKlZuDV2yg7D"
      },
      "source": [
        "## 避難者エージェントのモデル"
      ]
    },
    {
      "cell_type": "markdown",
      "metadata": {
        "id": "llXMktjovNug"
      },
      "source": [
        "実行します．"
      ]
    },
    {
      "cell_type": "code",
      "metadata": {
        "id": "_btaUleMqhl9"
      },
      "source": [
        "class EvacAgent(Agent):\n",
        "\n",
        "  def __init__(self, unique_id, model):\n",
        "    super().__init__(unique_id, model)\n",
        "    self.mygoal = 0\n",
        "    self.wealth = 0\n",
        "\n",
        "  # エージェントの移動\n",
        "  def move(self):\n",
        "    possible_steps = self.model.grid.get_neighborhood(\n",
        "      self.pos,\n",
        "      moore = False,\n",
        "      include_center = False)\n",
        "\n",
        "    # 周囲に移動可能なセルがあるか検索する\n",
        "    possible_steps2 = [a for a in possible_steps if len(self.model.grid.get_cell_list_contents(a)) < 1]\n",
        "\n",
        "    if len(possible_steps2) > 0:\n",
        "      new_position = self.random.choice(possible_steps2)\n",
        "    else:\n",
        "      new_position = self.pos\n",
        "    self.model.grid.move_agent(self, new_position)\n",
        "  \n",
        "  # ゴールに到達したか判定する関数\n",
        "  def if_goal(self):\n",
        "    if self.pos == self.model.goal:\n",
        "      self.mygoal += 1\n",
        "      self.model.evac_comp += 1\n",
        "      # ゴールしたらエージェントを削除する\n",
        "      self.model.grid.remove_agent(self)\n",
        "\n",
        "  def step(self):\n",
        "    if self.mygoal == 0:\n",
        "      self.move()\n",
        "      self.if_goal()\n"
      ],
      "execution_count": null,
      "outputs": []
    },
    {
      "cell_type": "markdown",
      "metadata": {
        "id": "FaSbFBtIrRUb"
      },
      "source": [
        "## 壁エージェントの定義"
      ]
    },
    {
      "cell_type": "markdown",
      "metadata": {
        "id": "AzP7lm9CvQUy"
      },
      "source": [
        "実行します．"
      ]
    },
    {
      "cell_type": "code",
      "metadata": {
        "id": "hFDIG3h9rQyr"
      },
      "source": [
        "# 壁エージェントの定義\n",
        "class WallAgent(Agent):\n",
        "\n",
        "  def __init__(self, unique_id, model):\n",
        "    super().__init__(unique_id, model)\n"
      ],
      "execution_count": null,
      "outputs": []
    },
    {
      "cell_type": "markdown",
      "metadata": {
        "id": "3jkb_xm3sDf3"
      },
      "source": [
        "## モデルの実行部"
      ]
    },
    {
      "cell_type": "markdown",
      "metadata": {
        "id": "qVM6DtoKvTBD"
      },
      "source": [
        "とりあえず100ステップ実行します．"
      ]
    },
    {
      "cell_type": "code",
      "metadata": {
        "id": "z0CnhPaZsR5e"
      },
      "source": [
        "# モデルを実行する\n",
        "start_x = 4\n",
        "start_y = 4\n",
        "goal_x = 0\n",
        "goal_y = 0\n",
        "\n",
        "# 壁の定義（1: 壁，0: 通路）\n",
        "wall = np.array(\n",
        "    [[1,0,0,0,0],\n",
        "     [0,0,1,0,0],\n",
        "     [0,1,1,0,1],\n",
        "     [0,0,0,0,0],\n",
        "     [0,1,0,0,0]])\n",
        "\n",
        "# モデルの生成，引数として壁の定義を加える\n",
        "model = EvacModel(10, 5, 5, start_x, start_y, goal_x, goal_y, wall)\n",
        "\n",
        "# 100ステップ実行する\n",
        "for i in range(100):\n",
        "  model.step()"
      ],
      "execution_count": null,
      "outputs": []
    },
    {
      "cell_type": "markdown",
      "metadata": {
        "id": "UYDc3dBGrVTp"
      },
      "source": [
        "# 避難者エージェントの新しい行動ルール"
      ]
    },
    {
      "cell_type": "markdown",
      "metadata": {
        "id": "lokj-2uqrePd"
      },
      "source": [
        "今までの避難者エージェントは，自分の上下左右のセルのうち他のエージェント（避難者エージェント及び壁エージェント）がいないセルをランダムに選択して移動先としていました．\n",
        "ここでは，避難者エージェントの行動ルールを以下のように改良します．\n",
        "\n",
        "1. 避難者エージェントは上下左右のセルのうち，エージェントがいないセルにランダムで移動する．\n",
        "1. ゴールに近づいたらなるべくゴールの方向に移動する．\n",
        "\n",
        "最初のルールについては今までと同じです．\n",
        "\n",
        "2番目のルールについては，ゴールをエージェントとして実装することにより\n",
        "周囲のエージェントを検索するメソッド`grid.get_neighbors`でゴールの検索が可能になります．\n",
        "検索範囲にゴールがあった場合には，自分の位置からゴールまでの距離を計算し，\n",
        "上下左右の移動可能なセルのうちゴールまでの距離が短くなるセルを移動候補にします．\n",
        "\n",
        "具体的なアルゴリズムは以下のようになります．\n",
        "\n",
        "1. ゴール地点を表すゴールエージェントを作成する．\n",
        "1. ゴールエージェントをスペースに配置する．\n",
        "1. 避難者エージェントの周囲2セル以内のエージェント（他の避難者エージェント，壁エージェント，ゴールエージェント）を検索し，ゴールがあるか判断する．\n",
        "1. 避難者エージェントの上下左右のセルのうち，移動可能なセルを検索する\n",
        "1. 移動可能なセルからゴールエージェントまでの距離を求める\n",
        "1. 移動候補のセルからゴールまでの距離が短くなるセルを絞り込む．\n",
        "1. 移動候補セルの中から移動方向をランダムに選択する\n",
        " "
      ]
    },
    {
      "cell_type": "markdown",
      "metadata": {
        "id": "VNEqMpVcT_jE"
      },
      "source": [
        "# 避難者エージェントへの行動ルールの追加"
      ]
    },
    {
      "cell_type": "markdown",
      "metadata": {
        "id": "dvk6QVQPZmFP"
      },
      "source": [
        "## ゴールエージェントの作成"
      ]
    },
    {
      "cell_type": "markdown",
      "metadata": {
        "id": "K3d4oIFovlpi"
      },
      "source": [
        "ゴールエージェントもクラス`Agent`を継承して作成します．\n",
        "ゴールエージェントは移動する必要はないのでコンストラクタのみです．\n",
        "ただし，作成したエージェントの種類を表すプロパティ`category`を追加し，\n",
        "値を`goal`とします．\n"
      ]
    },
    {
      "cell_type": "code",
      "metadata": {
        "id": "L3RrsaihZrtj"
      },
      "source": [
        "# ゴールエージェントの定義\n",
        "class GoalAgent(Agent):\n",
        "\n",
        "  def __init__(self, unique_id, model):\n",
        "    super().__init__(unique_id, model)\n",
        "    # エージェントの種類を示すプロパティを追加\n",
        "    self.category = 'goal'\n"
      ],
      "execution_count": null,
      "outputs": []
    },
    {
      "cell_type": "markdown",
      "metadata": {
        "id": "W5fvlihxahk4"
      },
      "source": [
        "## 壁エージェントへのプロパティ追加"
      ]
    },
    {
      "cell_type": "markdown",
      "metadata": {
        "id": "HnjEilJUv2BW"
      },
      "source": [
        "壁エージェントにもプロパティ`category`を追加し，値を`wall`とします．\n",
        "\n"
      ]
    },
    {
      "cell_type": "code",
      "metadata": {
        "id": "x63NxaiIaoP8"
      },
      "source": [
        "# 壁エージェントの定義\n",
        "class WallAgent(Agent):\n",
        "\n",
        "  def __init__(self, unique_id, model):\n",
        "    super().__init__(unique_id, model)\n",
        "    self.category = 'wall'\n"
      ],
      "execution_count": null,
      "outputs": []
    },
    {
      "cell_type": "markdown",
      "metadata": {
        "id": "5EK2levpaviI"
      },
      "source": [
        "## 避難者エージェントへのプロパティ追加"
      ]
    },
    {
      "cell_type": "markdown",
      "metadata": {
        "id": "bH58eAA5wHld"
      },
      "source": [
        "避難者エージェントのコンストラクタにもプロパティ`category`を加え，値を`evacagent`にします．\n"
      ]
    },
    {
      "cell_type": "code",
      "metadata": {
        "id": "zryl6Jnfa0SE"
      },
      "source": [
        "class EvacAgent(Agent):\n",
        "\n",
        "  def __init__(self, unique_id, model):\n",
        "    super().__init__(unique_id, model)\n",
        "    self.mygoal = 0\n",
        "    self.wealth = 0\n",
        "    self.category = 'evacagent'\n",
        "\n",
        "  # エージェントの移動\n",
        "  def move(self):\n",
        "    possible_steps = self.model.grid.get_neighborhood(\n",
        "      self.pos,\n",
        "      moore = False,\n",
        "      include_center = False)\n",
        "\n",
        "    # 周囲に移動可能なセルがあるか検索する\n",
        "    possible_steps2 = [a for a in possible_steps if len(self.model.grid.get_cell_list_contents(a)) < 1]\n",
        "\n",
        "    if len(possible_steps2) > 0:\n",
        "      new_position = self.random.choice(possible_steps2)\n",
        "    else:\n",
        "      new_position = self.pos\n",
        "    self.model.grid.move_agent(self, new_position)\n",
        "  \n",
        "  # ゴールに到達したか判定する関数\n",
        "  def if_goal(self):\n",
        "    if self.pos == self.model.goal:\n",
        "      self.mygoal += 1\n",
        "      self.model.evac_comp += 1\n",
        "      # ゴールしたらエージェントを削除する\n",
        "      self.model.grid.remove_agent(self)\n",
        "\n",
        "  def step(self):\n",
        "    if self.mygoal == 0:\n",
        "      self.move()\n",
        "      self.if_goal()\n"
      ],
      "execution_count": null,
      "outputs": []
    },
    {
      "cell_type": "markdown",
      "metadata": {
        "id": "ZCJsc7dta6uP"
      },
      "source": [
        "## スペースにゴールエージェント生成を追加する"
      ]
    },
    {
      "cell_type": "markdown",
      "metadata": {
        "id": "zB_oJZmewbUa"
      },
      "source": [
        "以下のようにスペースにゴールエージェント生成を加えます．\n",
        "\n",
        "```python\n",
        "    a = GoalAgent(1, self)\n",
        "    self.grid.place_agent(a, (goal_x, goal_y))\n",
        "```"
      ]
    },
    {
      "cell_type": "markdown",
      "metadata": {
        "id": "9CxLAzT_brMQ"
      },
      "source": [
        "ゴールエージェント生成を加えたスペースの定義は以下のようになります．"
      ]
    },
    {
      "cell_type": "code",
      "metadata": {
        "id": "wyEEz8h8bBQC"
      },
      "source": [
        "class EvacModel(Model):\n",
        "\n",
        "  # コンストラクタにwall（壁の位置を示すndarray）を追加した\n",
        "  def __init__(self, N, width, height, start_x, start_y, goal_x, goal_y, wall):\n",
        "    # 避難者エージェントの数をNに設定する\n",
        "    self.num_agents = N\n",
        "    # MultiGridは同一座標に複数エージェントを配置できるスペース\n",
        "    self.grid = MultiGrid(width, height, torus=False)\n",
        "\n",
        "    # 壁の座標を保持するプロパティの定義\n",
        "    self.wall_x = list()\n",
        "    self.wall_y = list()\n",
        "    \n",
        "    # 壁の定義をプロパティとして保持する\n",
        "    self.wall = wall\n",
        "    # ゴール地点の座標を設定する（goal_xとgoal_y)\n",
        "    self.goal = (goal_x, goal_y)\n",
        "    # 避難完了者をカウントする（0で初期化）\n",
        "    self.evac_comp = 0\n",
        "    # EvacAgentの実行順序をランダムに設定する\n",
        "    self.schedule = RandomActivation(self)\n",
        "\n",
        "    # 避難者エージェントの作成．num_agentsの数だけエージェントを作成する\n",
        "    for i in range(self.num_agents):\n",
        "      a = EvacAgent(i, self)\n",
        "      self.schedule.add(a)\n",
        "      # エージェントを配置する\n",
        "      self.grid.place_agent(a, (start_x, start_y))\n",
        "\n",
        "      # データコレクターの設定\n",
        "      self.datacollector = DataCollector(\n",
        "        model_reporters={\"Goal\": compute_goal, \"evacuator\": goal_pop},\n",
        "        agent_reporters={\"Pos\": \"pos\", \"Goal\": \"mygoal\"})\n",
        "\n",
        "    # 避難者エージェント配置直後（初期状態）の状況をデータコレクターで取得  \n",
        "    self.datacollector.collect(self)\n",
        "  \n",
        "    # 壁エージェントを配置する\n",
        "    # 壁の配列から座標を取得する．壁の配列は上下反転させる\n",
        "    wall_y = np.where(np.flipud(self.wall) >0)[0]\n",
        "    wall_x = np.where(np.flipud(self.wall) >0)[1]\n",
        "    # 取得した壁の座標に壁エージェントを配置する\n",
        "    for i in range(len(wall_x)):\n",
        "      a = WallAgent(i, self)\n",
        "      self.grid.place_agent(a, (wall_x[i], wall_y[i]))\n",
        "      # 壁の座標を保持する\n",
        "      self.wall_x.append(wall_x[i])\n",
        "      self.wall_y.append(wall_y[i])\n",
        "    \n",
        "    # ゴールエージェントの配置\n",
        "    a = GoalAgent(1, self)\n",
        "    self.grid.place_agent(a, (goal_x, goal_y))\n",
        "\n",
        "  def step(self):\n",
        "    model.evac_comp = 0\n",
        "    self.schedule.step()\n",
        "    self.datacollector.collect(self)"
      ],
      "execution_count": null,
      "outputs": []
    },
    {
      "cell_type": "markdown",
      "metadata": {
        "id": "856nZdB8AXVB"
      },
      "source": [
        "## モデルの実行"
      ]
    },
    {
      "cell_type": "markdown",
      "metadata": {
        "id": "QNkAeYK6yIia"
      },
      "source": [
        "とりあえず30ステップ実行して途中経過を検討します．"
      ]
    },
    {
      "cell_type": "code",
      "metadata": {
        "id": "i27ynO2GTdC7"
      },
      "source": [
        "# モデルを実行する\n",
        "start_x = 4\n",
        "start_y = 4\n",
        "goal_x = 0\n",
        "goal_y = 0\n",
        "\n",
        "# 壁の定義（1: 壁，0: 通路）\n",
        "wall = np.array(\n",
        "    [[1,0,0,0,0],\n",
        "     [0,0,1,0,0],\n",
        "     [0,1,1,0,1],\n",
        "     [0,0,0,0,0],\n",
        "     [0,1,0,0,0]])\n",
        "\n",
        "# モデルの生成，引数として壁の定義を加える\n",
        "model = EvacModel(10, 5, 5, start_x, start_y, goal_x, goal_y, wall)\n",
        "\n",
        "# 30ステップ実行する\n",
        "for i in range(30):\n",
        "  model.step()"
      ],
      "execution_count": null,
      "outputs": []
    },
    {
      "cell_type": "markdown",
      "metadata": {
        "id": "KPy21BpKkvKd"
      },
      "source": [
        "## 30ステップ終了時の状態をプロットする"
      ]
    },
    {
      "cell_type": "markdown",
      "metadata": {
        "id": "KCAHuwGxyX0-"
      },
      "source": [
        "確認のため30ステップ終了時の状況をプロットします．\n",
        "これは前章で改良したアニメーション表示部の内容と同じです．"
      ]
    },
    {
      "cell_type": "code",
      "metadata": {
        "colab": {
          "base_uri": "https://localhost:8080/",
          "height": 350
        },
        "id": "dpjhNPY_T58U",
        "outputId": "88f4bf27-65f9-46c0-ff0e-fb529d4947bc"
      },
      "source": [
        "%matplotlib inline\n",
        "fig = plt.figure(figsize=(5, 5))\n",
        "ax = fig.add_subplot(111)\n",
        "\n",
        "# ゴールをプロット\n",
        "ax.text(goal_x, goal_y, 'Goal', size=14, ha='center')\n",
        "ax.scatter(goal_x, goal_y, s=800, marker=\"s\")\n",
        "\n",
        "# imshowを使って壁配列を描画する．原点の移動と配列の上下反転を行う．\n",
        "ax.imshow(np.flipud(wall), origin='lower')\n",
        "\n",
        "# 壁をプロット\n",
        "ax.scatter(model.wall_x, model.wall_y, c='gray', s=2000, marker=\"s\")\n",
        "\n",
        "agent_loc = model.datacollector.get_agent_vars_dataframe().xs(30, level='Step')['Pos'].map(lambda x: (0, 0) if x is None else x)\n",
        "x, y = [a for a, b in agent_loc], [b for a, b in agent_loc]\n",
        "ax.scatter(x, y, s=1000, c=\"red\", marker=\"*\")\n",
        "\n",
        "ax.set_title('evacuation')\n",
        "ax.set_xlabel('x')\n",
        "ax.set_ylabel('y')\n",
        "\n",
        "plt.show()"
      ],
      "execution_count": null,
      "outputs": [
        {
          "output_type": "display_data",
          "data": {
            "image/png": "[encoded data removed]",
            "text/plain": [
              "<Figure size 360x360 with 1 Axes>"
            ]
          },
          "metadata": {
            "needs_background": "light"
          }
        }
      ]
    },
    {
      "cell_type": "markdown",
      "metadata": {
        "id": "rXBpVoK_TvLn"
      },
      "source": [
        "## 30ステップ終了時の避難エージェントの位置を表示する"
      ]
    },
    {
      "cell_type": "markdown",
      "metadata": {
        "id": "IBOF8eYAygzl"
      },
      "source": [
        "エージェントのデータコレクターから30ステップ終了時の避難者エージェントの座標を取得して表示します．"
      ]
    },
    {
      "cell_type": "code",
      "metadata": {
        "colab": {
          "base_uri": "https://localhost:8080/"
        },
        "id": "sSUrnvphUtSd",
        "outputId": "852b690d-c5ad-4215-837c-08dc781b4787"
      },
      "source": [
        "model.datacollector.get_agent_vars_dataframe().xs(30, level='Step')['Pos'].map(lambda x: (0, 0) if x is None else x)"
      ],
      "execution_count": null,
      "outputs": [
        {
          "output_type": "execute_result",
          "data": {
            "text/plain": [
              "AgentID\n",
              "0    (0, 2)\n",
              "1    (4, 4)\n",
              "2    (2, 4)\n",
              "3    (3, 4)\n",
              "4    (3, 2)\n",
              "5    (1, 1)\n",
              "6    (3, 0)\n",
              "7    (4, 3)\n",
              "8    (0, 1)\n",
              "9    (0, 3)\n",
              "Name: Pos, dtype: object"
            ]
          },
          "metadata": {},
          "execution_count": 19
        }
      ]
    },
    {
      "cell_type": "markdown",
      "metadata": {
        "id": "AD0QXgupXECF"
      },
      "source": [
        "## 任意のエージェントから一定範囲にあるエージェントを検索する"
      ]
    },
    {
      "cell_type": "markdown",
      "metadata": {
        "id": "uf_KsK05k4iw"
      },
      "source": [
        "\n",
        "\n",
        "まず任意の避難者エージェントの座標を取得し，`selfpos`に格納します．\n",
        "取得した避難者エージェントの座標からゴール近くにいる避難者エージェントの座標を取得します．\n",
        "\n",
        "```python\n",
        "selfpos = model.datacollector.get_agent_vars_dataframe().xs(30, level='Step')['Pos'].map(lambda x: (0, 0) if x is None else x)[ゴール近くの避難者エージェントの番号]\n",
        "```\n",
        "\n",
        "`model.grid.get_neighbors`を使って対象とした避難者エージェントから一定範囲のエージェントを検索します．\n",
        "ここではゴール近くの避難者エージェントの半径２メッシュ以内のエージェントを検索します．\n",
        "\n",
        "```python\n",
        "neighbor_agents = model.grid.get_neighbors(selfpos, moore=True, radius=2, include_center=False)\n",
        "```\n",
        "\n",
        "`model.grid.get_neighbors`の引数ですが，`moor`は8方向検索(`True`）か4方向検索（`False`）か，`radius`は検索の範囲（グリッド）になります．\n",
        "この例では対象としている避難者エージェントの周囲5×５メッシュ（８方向で半径２メッシュ）にあるエージェントを検索します．\n",
        "戻り値は見つかったエージェントのリストになるので，`neighbor_agents`に格納します．\n",
        "\n",
        "以下で実際に実行してみましょう．\n",
        "1行目最後の`[]`に対象となる避難者エージェントの番号を入れるのを忘れないようにしてください．"
      ]
    },
    {
      "cell_type": "code",
      "metadata": {
        "colab": {
          "base_uri": "https://localhost:8080/"
        },
        "id": "Kcmnwpg-X5Dd",
        "outputId": "61a95e84-bfa8-4cf7-ee3a-8708ddff2c09"
      },
      "source": [
        "selfpos = model.datacollector.get_agent_vars_dataframe().xs(30, level='Step')['Pos'].map(lambda x: (0, 0) if x is None else x)[1]\n",
        "neighbor_agents = model.grid.get_neighbors(selfpos, moore=True, radius=2, include_center=False)\n",
        "neighbor_agents"
      ],
      "execution_count": null,
      "outputs": [
        {
          "output_type": "execute_result",
          "data": {
            "text/plain": [
              "[<__main__.WallAgent at 0x7f4459302a10>,\n",
              " <__main__.WallAgent at 0x7f44592ee190>,\n",
              " <__main__.WallAgent at 0x7f44592ee110>]"
            ]
          },
          "metadata": {},
          "execution_count": 45
        }
      ]
    },
    {
      "cell_type": "markdown",
      "metadata": {
        "id": "PvyHqyDH1wnq"
      },
      "source": [
        "検索結果が表示されましたが，内容は見つかったエージェントのポインタになっているためこのままでは使い道がありません．\n",
        "ただ，エージェントのクラス名が表示されているので，ゴールがあるかどうかはわかります．\n",
        "\n",
        "次で検索結果にゴールが含まれているかどうか判別します．"
      ]
    },
    {
      "cell_type": "markdown",
      "metadata": {
        "id": "5fd7JKq7lWD_"
      },
      "source": [
        "## 検索範囲にゴールエージェントがあるか判別する"
      ]
    },
    {
      "cell_type": "markdown",
      "metadata": {
        "id": "Vlj_rcpdwHxE"
      },
      "source": [
        "すべてのエージェント（避難者エージェント，壁エージェント，ゴールエージェント）にはエージェントの種別を表すプロパティ`category`があります．\n",
        "見つかったエージェントうちどれかのプロパティ`category`が`goal`だった場合，検索結果にゴールが含まれていることになります．\n",
        "\n",
        "まずは内包表記を使って見つかったエージェントのプロパティ`category`のリストを作成します．\n",
        "\n",
        "```python\n",
        "[a.category for a in neighbor_agents]\n",
        "```\n",
        "\n",
        "次に`in`演算子を使ってリストの中に`goal`の文字があるか検索します．\n",
        "`goal`があった場合は戻り値が`True`になり，なかった場合は`False`になります．\n",
        "\n",
        "```python\n",
        "'goal' in [a.category for a in neighbor_agents]\n",
        "```\n",
        "\n",
        "以下を実行してみます．\n",
        "ここではゴールが含まれていたかどうかの状態を`isgoal`に代入しています．"
      ]
    },
    {
      "cell_type": "code",
      "metadata": {
        "colab": {
          "base_uri": "https://localhost:8080/",
          "height": 34
        },
        "id": "D8jZDR0vwHSB",
        "outputId": "92c07966-b598-4539-9183-9498317688a5"
      },
      "source": [
        "isgoal = 'goal' in [a.category for a in neighbor_agents]\n",
        "print(isgoal)"
      ],
      "execution_count": null,
      "outputs": [
        {
          "output_type": "stream",
          "name": "stdout",
          "text": [
            "True\n"
          ]
        }
      ]
    },
    {
      "cell_type": "markdown",
      "metadata": {
        "id": "WvOi4MbTrM_W"
      },
      "source": [
        "## 自分とゴールの距離を求める"
      ]
    },
    {
      "cell_type": "markdown",
      "metadata": {
        "id": "mou0EUMVrQ2I"
      },
      "source": [
        "ゴールが含まれていた場合はなるべくゴールに近づく方向に移動します．\n",
        "そのためには自分とゴールの座標から距離を求めなくてはなりません．\n",
        "\n",
        "自分の座標は避難者エージェントのプロパティ`selfpos`に格納されているのでそのまま使います．\n",
        "これに対しゴールの座標は以下のように求めます．\n",
        "\n",
        "```python\n",
        "neighbor_agents = model.grid.get_neighbors(selfpos, moore=True, radius=2, include_center=False)\n",
        "goalpos = [a.pos for a in neighbor_agents if a.category=='goal']\n",
        "```\n",
        "\n",
        "まず`model.grid.get_neighbors`で自分の周囲２メッシュのエージェントを検索し，見つかったエージェントのリストを`neighbor_agent`に格納します．\n",
        "次に内包表記を使って`neighbor_agent`にあるエージェントのうち，`category`が`'goal'`であるエージェントのプロパテイ`pos`を取得します．\n",
        "プロパティ`pos`はエージェントの座標なので，ゴールの座標が取得できます．\n",
        "これを`goalpos`に格納します．\n",
        "\n"
      ]
    },
    {
      "cell_type": "code",
      "metadata": {
        "colab": {
          "base_uri": "https://localhost:8080/"
        },
        "id": "oYwL_djBrT_r",
        "outputId": "a052c840-0c32-409e-d252-240ce20ff49d"
      },
      "source": [
        "neighbor_agents = model.grid.get_neighbors(selfpos, moore=True, radius=2, include_center=False)\n",
        "goalpos = [a.pos for a in neighbor_agents if a.category=='goal']\n",
        "print(goalpos)\n",
        "print(selfpos)"
      ],
      "execution_count": null,
      "outputs": [
        {
          "output_type": "stream",
          "name": "stdout",
          "text": [
            "[(0, 0)]\n",
            "(0, 1)\n"
          ]
        }
      ]
    },
    {
      "cell_type": "markdown",
      "metadata": {
        "id": "e6sgYCcDsShV"
      },
      "source": [
        "三平方の定理を使って自分の座標からゴールまでの距離を求めます．\n",
        "ここではゴールと自分の座標をnp.arrayに変換することにより行列化して距離を計算しています．\n",
        "```python\n",
        "np.sqrt(np.sum(np.square(np.array(goalpos)-np.array(selfpos))))\n",
        "```\n",
        "実際には距離を求める関数にして一般化します．\n",
        "一般化して関数にすると以下のようになります．\n",
        "```python\n",
        "def calc_dist(loc1, loc2):\n",
        "  return np.sqrt(np.sum(np.square(np.array(loc1)-np.array(loc2))))\n",
        "```\n",
        "\n",
        "以下を実行してみましょう．\n",
        "自分からゴールまでの距離を`self_goal_dis`に格納します．\n"
      ]
    },
    {
      "cell_type": "code",
      "metadata": {
        "colab": {
          "base_uri": "https://localhost:8080/"
        },
        "id": "1tH7D-ld2eYe",
        "outputId": "463eadff-035c-489a-e248-7ce95b68b37f"
      },
      "source": [
        "def calc_dist(loc1, loc2):\n",
        "  return np.sqrt(np.sum(np.square(np.array(loc1)-np.array(loc2))))\n",
        "\n",
        "self_goal_dis = calc_dist(goalpos, selfpos)\n",
        "self_goal_dis"
      ],
      "execution_count": null,
      "outputs": [
        {
          "output_type": "execute_result",
          "data": {
            "text/plain": [
              "1.0"
            ]
          },
          "metadata": {},
          "execution_count": 22
        }
      ]
    },
    {
      "cell_type": "markdown",
      "metadata": {
        "id": "9c7wKPdizhL7"
      },
      "source": [
        "## 移動候補の絞り込み\n"
      ]
    },
    {
      "cell_type": "markdown",
      "metadata": {
        "id": "Zw7RcOEb67O9"
      },
      "source": [
        "それでは実際に移動方向を決めていきます．\n",
        "まずは自分の周囲のセル（4方向）にあるセルを検索します．\n",
        "これは今までと同様です．\n",
        "\n",
        "この結果を`possible_step`に代入します．\n",
        "これが第一次の移動候補になり，ここから移動候補を絞り込んでいきます．\n"
      ]
    },
    {
      "cell_type": "code",
      "metadata": {
        "colab": {
          "base_uri": "https://localhost:8080/"
        },
        "id": "OPudJwlj0cu9",
        "outputId": "9cb93dfd-4853-4d77-fd89-61af4644eba8"
      },
      "source": [
        "possible_steps = model.grid.get_neighborhood(selfpos, moore=False, include_center=False)\n",
        "possible_steps"
      ],
      "execution_count": null,
      "outputs": [
        {
          "output_type": "execute_result",
          "data": {
            "text/plain": [
              "[(0, 0), (0, 2), (1, 1)]"
            ]
          },
          "metadata": {},
          "execution_count": 23
        }
      ]
    },
    {
      "cell_type": "markdown",
      "metadata": {
        "id": "5D3CB3Uy16oN"
      },
      "source": [
        "`possible_step`の中からエージェントがいないセルを検索し，`possible_step2`に代入します．\n",
        "これも今まで同じで第二次の移動候補になります．"
      ]
    },
    {
      "cell_type": "code",
      "metadata": {
        "colab": {
          "base_uri": "https://localhost:8080/"
        },
        "id": "yswpY5-m07nv",
        "outputId": "dc06d841-6cab-449e-f396-1c068bdc163d"
      },
      "source": [
        "possible_steps2 = [a for a in possible_steps if len(model.grid.get_cell_list_contents(a)) < 1]\n",
        "possible_steps2"
      ],
      "execution_count": null,
      "outputs": [
        {
          "output_type": "execute_result",
          "data": {
            "text/plain": [
              "[]"
            ]
          },
          "metadata": {},
          "execution_count": 24
        }
      ]
    },
    {
      "cell_type": "markdown",
      "metadata": {
        "id": "tzTdAosoehEt"
      },
      "source": [
        "しかし，この章ではゴールもエージェントとして実装したため，\n",
        "ゴールもエージェントがいるセルとして認識されてしまいます．\n",
        "\n",
        "つまり`possible_step2`からゴールは削除される事になります．\n",
        "これでは避難エージェントがゴールすることはできません．\n",
        "これを解決するため，周囲のセルにゴールがあった場合はゴールを移動可能なセルに追加します．\n",
        "\n",
        "例えば`model.grid.get_neighbors`を使って上下左右のセルを検索し，\n",
        "ゴールエージェントの位置を示すプロパティ`pos`を`possible_steps2`に追加します．\n",
        "\n",
        "これはこのように書く事ができます．\n",
        "\n",
        "```python\n",
        "ppp = model.grid.get_neighbors(selfpos, moore=False, include_center=False)\n",
        "possible_steps2.extend([a.pos for a in ppp if a.category=='goal'])\n",
        "```\n",
        "\n",
        "中間変数を使わずに書くと以下のようになります．\n",
        "\n",
        "```python\n",
        "possible_steps2.extend([a.pos for a in model.grid.get_neighbors(selfpos, moore=False, include_center=False) if a.category=='goal'])\n",
        "```"
      ]
    },
    {
      "cell_type": "markdown",
      "metadata": {
        "id": "GT5PL7MskvAD"
      },
      "source": [
        "実行します．"
      ]
    },
    {
      "cell_type": "code",
      "metadata": {
        "colab": {
          "base_uri": "https://localhost:8080/"
        },
        "id": "o06t0IOfjHiM",
        "outputId": "cb977882-3d75-43b6-df4a-8233f16f3198"
      },
      "source": [
        "possible_steps2.extend([a.pos for a in model.grid.get_neighbors(selfpos, moore=False, include_center=False) if a.category=='goal'])\n",
        "possible_steps2"
      ],
      "execution_count": null,
      "outputs": [
        {
          "output_type": "execute_result",
          "data": {
            "text/plain": [
              "[(0, 0)]"
            ]
          },
          "metadata": {},
          "execution_count": 25
        }
      ]
    },
    {
      "cell_type": "markdown",
      "metadata": {
        "id": "VDitcV3I9AuB"
      },
      "source": [
        "これでゴールが移動候補に加わりました．"
      ]
    },
    {
      "cell_type": "markdown",
      "metadata": {
        "id": "7eF-Ep4F293D"
      },
      "source": [
        "### 移動候補のセルからゴールまでの距離を求める\n",
        "\n",
        "\n",
        "\n"
      ]
    },
    {
      "cell_type": "markdown",
      "metadata": {
        "id": "Zq1mJanH9Wfm"
      },
      "source": [
        "移動候補`possible_steps2`に格納されている座標からゴールまでの距離を求めます．\n",
        "これは先ほど作成したゴールまでの距離を求める関数`calc_dist`を内包表記内で使って求めます．\n",
        "計算結果は`distances`に格納します．\n",
        "\n",
        "以下を実行しましょう．"
      ]
    },
    {
      "cell_type": "code",
      "metadata": {
        "id": "ZdORDrbV3Bhi",
        "colab": {
          "base_uri": "https://localhost:8080/"
        },
        "outputId": "28c8e852-7e10-43ad-d2d9-17011cf00cad"
      },
      "source": [
        "distances = [calc_dist(goalpos, a) for a in possible_steps2]\n",
        "distances"
      ],
      "execution_count": null,
      "outputs": [
        {
          "output_type": "execute_result",
          "data": {
            "text/plain": [
              "[0.0]"
            ]
          },
          "metadata": {},
          "execution_count": 27
        }
      ]
    },
    {
      "cell_type": "markdown",
      "metadata": {
        "id": "Lf30uwHR5Rbw"
      },
      "source": [
        "### 自分の現在位置よりゴールに近くなる移動候補のみを取り出す"
      ]
    },
    {
      "cell_type": "markdown",
      "metadata": {
        "id": "0D_RYO-K--M2"
      },
      "source": [
        "`possible_steps2`からゴールに近くなる移動候補のみを取り出します．\n",
        "基本的には`distances`内の距離のうち，自分からゴールまでの距離`self_goal_dis`より小さい要素のみを\n",
        "`possible_steps2`から取り出します．\n",
        "\n",
        "これも内包表記を使います．\n",
        "```python\n",
        "possible_steps3 = [a for a, b in zip(possible_steps2, distances) if b < self_goal_dis]\n",
        "```\n",
        "少々複雑な内包表記になっています．\n",
        "まず`zip`を使って`possible_steps2`と`distances`をまとめて扱います．\n",
        "`possible_steps2`と`distances`の要素は一対一で対応しています．\n",
        "内包表記内では`possible_steps2`と`distances`の要素は`for a, b`によりそれぞれ`a`と`b`で表します．\n",
        "ここで`if`を使い，`b`すなわち`distances`に格納されている移動候補からゴールまでの距離のうち,\n",
        "自分からゴールまでの距離である`self_goal_dis`よりも距離が近い要素を`a`として`possible_steps2`から取得します．\n",
        "\n",
        "この結果を`possible_steps3`に格納することにより，ゴールに近づく最終移動候補の座標のみを絞り込むことができます．\n",
        "\n",
        "\n",
        "以下を実行しましょう．"
      ]
    },
    {
      "cell_type": "code",
      "metadata": {
        "colab": {
          "base_uri": "https://localhost:8080/"
        },
        "id": "L-6bB0Oq5t2s",
        "outputId": "c71faa84-1689-4bb9-f223-492e22d9ca95"
      },
      "source": [
        "possible_steps3 = [a for a, b in zip(possible_steps2, distances) if b < self_goal_dis]\n",
        "possible_steps3"
      ],
      "execution_count": null,
      "outputs": [
        {
          "output_type": "execute_result",
          "data": {
            "text/plain": [
              "[(0, 0)]"
            ]
          },
          "metadata": {},
          "execution_count": 29
        }
      ]
    },
    {
      "cell_type": "markdown",
      "metadata": {
        "id": "N6cJgxnuCwFf"
      },
      "source": [
        "これで`possibble_steps3`が最終的な移動候補になりました．"
      ]
    },
    {
      "cell_type": "markdown",
      "metadata": {
        "id": "TBgB2whG8yNB"
      },
      "source": [
        "実際にはゴールまでの移動距離が短くなる移動方向が存在しない場合があります．\n",
        "そのときには以前のパターンのようにランダムに移動します．\n",
        "\n",
        "ここまでをまとめると以下になります．\n",
        "\n",
        "```python\n",
        "  # エージェントの移動\n",
        "  def move(self):\n",
        "\n",
        "    # 自分の周囲のセル（4方向）にあるセルを検索する．\n",
        "    possible_steps = self.model.grid.get_neighborhood(self.pos, moore=False, include_center=False)\n",
        "    # その中で移動可能（エージェントがいない（エージェントの数が1未満））なセルを検索する\n",
        "    possible_steps2 = [a for a in possible_steps if len(self.model.grid.get_cell_list_contents(a)) < 1]\n",
        "    # 周囲4方向のセルにゴールが含まれている場合は移動可能なセルにゴールのセルを加える．\n",
        "    possible_steps2.extend([a.pos for a in self.model.grid.get_neighbors(self.pos, moore=False, include_center=False) if a.category=='goal'])\n",
        "    possible_steps3 = []\n",
        "\n",
        "    # 自分を中心とする検索範囲（プラスマイナス2メッシュ内）のエージェントを検索する\n",
        "    neighbor_agents = self.model.grid.get_neighbors(self.pos, moore=True, radius=2, include_center=False)\n",
        "    # 検索範囲にゴールがあるかどうか判定する\n",
        "    if 'goal' in [a.category for a in neighbor_agents]: # ゴールがあった場合\n",
        "      # ゴールの座標を取得する\n",
        "      goalpos = [a.pos for a in neighbor_agents if a.category=='goal']\n",
        "      # 自分とゴールの距離を求める \n",
        "      self_goal_dis = calc_dist(goalpos, self.pos)\n",
        "      # エージェントがいないセルからゴールまでの距離を求める\n",
        "      distances = [calc_dist(goalpos, a) for a in possible_steps2]\n",
        "      # 自分の現在位置よりゴールに近くなる移動候補のみを取り出す\n",
        "      possible_steps3 = [a for a, b in zip(possible_steps2, distances) if b < self_goal_dis]\n",
        "```\n"
      ]
    },
    {
      "cell_type": "markdown",
      "metadata": {
        "id": "EOQCYg6S-CeJ"
      },
      "source": [
        "## 移動方向の決定"
      ]
    },
    {
      "cell_type": "markdown",
      "metadata": {
        "id": "t8j95CowDZmi"
      },
      "source": [
        "最終的な移動候補から移動方向を決定します．\n",
        "しかし実際にはゴールに近づく移動候補がなかったりそもそも検索範囲内にゴールがない場合もあるため\n",
        "移動方向の決定は思ったよりも複雑になります．\n",
        "\n",
        "例えば以下のように書けるのですが，もっとスマートな方法があるかもしれません．\n",
        "\n",
        "```python\n",
        "    if len(possible_steps3) > 0: # ゴールに近づくセルに移動\n",
        "      new_position = self.random.choice(possible_steps3)\n",
        "    elif len(possible_steps2) > 0: # エージェントのいないセルに移動\n",
        "      new_position = self.random.choice(possible_steps2)      \n",
        "    else: # 動ける場所がない場合は移動しない\n",
        "      new_position = self.pos\n",
        "```\n"
      ]
    },
    {
      "cell_type": "markdown",
      "metadata": {
        "id": "12-IXjliowh0"
      },
      "source": [
        "\n",
        "まずは以下の部分です．\n",
        "\n",
        "```python\n",
        "    if len(possible_steps3) > 0: # ゴールに近づくセルに移動\n",
        "      new_position = self.random.choice(possible_steps3)\n",
        "```\n",
        "\n",
        "`possible_steps3`に移動候補がある，つまりゴールに近づく移動方向がある場合は\n",
        "`possible_steps3`に要素が含まれていることになり，`possible_steps3`のサイズが0より大きくなります．\n",
        "この場合は`possible_steps`からランダムに移動先を選びます．\n",
        "\n",
        "次の`elif`ブロックです．\n",
        "\n",
        "```python\n",
        "    elif len(possible_steps2) > 0: # エージェントのいないセルに移動\n",
        "      new_position = self.random.choice(possible_steps2) \n",
        "```\n",
        "\n",
        "このブロックは`possible_steps3`に移動候補がない場合に`possible_steps2`に移動候補があるか評価します．\n",
        "この条件が成り立つのはゴールは見つかっているがゴールに近づく移動候補がないか，\n",
        "ゴールは見つかっていないが他のエージェントがいないセルがある場合です．\n",
        "これらの場合は`possible_steps2`から移動先を選びます．\n",
        "\n",
        "最後は`else`ブロックです．\n",
        "\n",
        "```python\n",
        "    else: # 動ける場所がない場合は移動しない\n",
        "      new_position = self.pos\n",
        "```\n",
        "\n",
        "この条件が成り立つのは移動できるセルが周囲にない場合です．\n",
        "この場合は避難者エージェントは移動しません．\n",
        "\n",
        "移動方向が決まったら（もしくは移動しないことが決まったら），\n",
        "`move_agent`を使って避難者エージェントを動かします．\n",
        "\n",
        "```python\n",
        "    self.model.grid.move_agent(self, new_position)\n",
        "```"
      ]
    },
    {
      "cell_type": "markdown",
      "metadata": {
        "id": "jEvf1_c9xSR8"
      },
      "source": [
        "以上の新しい行動ルールをまとめると以下になります．\n",
        "\n",
        "```python\n",
        "  # エージェントの移動\n",
        "  def move(self):\n",
        "\n",
        "    # 自分の周囲のセル（4方向）にあるセルを検索する．\n",
        "    possible_steps = self.model.grid.get_neighborhood(self.pos, moore=False, include_center=False)\n",
        "    # その中で移動可能（エージェントがいない（エージェントの数が1未満））なセルを検索する\n",
        "    possible_steps2 = [a for a in possible_steps if len(self.model.grid.get_cell_list_contents(a)) < 1]\n",
        "    # 周囲4方向のセルにゴールが含まれている場合は移動可能なセルにゴールのセルを加える．\n",
        "    possible_steps2.extend([a.pos for a in self.model.grid.get_neighbors(self.pos, moore=False, include_center=False) if a.category=='goal'])\n",
        "    possible_steps3 = []\n",
        "\n",
        "    # 自分を中心とする検索範囲（プラスマイナス2メッシュ内）のエージェントを検索する\n",
        "    neighbor_agents = self.model.grid.get_neighbors(self.pos, moore=True, radius=2, include_center=False)\n",
        "    # 検索範囲にゴールがあるかどうか判定する\n",
        "    if 'goal' in [a.category for a in neighbor_agents]: # ゴールがあった場合\n",
        "      # ゴールの座標を取得する\n",
        "      goalpos = [a.pos for a in neighbor_agents if a.category=='goal']\n",
        "      # 自分とゴールの距離を求める \n",
        "      self_goal_dis = calc_dist(goalpos, self.pos)\n",
        "      # エージェントがいないセルからゴールまでの距離を求める\n",
        "      distances = [calc_dist(goalpos, a) for a in possible_steps2]\n",
        "      # 自分の現在位置よりゴールに近くなる移動候補のみを取り出す\n",
        "      possible_steps3 = [a for a, b in zip(possible_steps2, distances) if b < self_goal_dis]\n",
        "\n",
        "    if len(possible_steps3) > 0: # ゴールに近づくセルに移動\n",
        "      new_position = self.random.choice(possible_steps3)\n",
        "    elif len(possible_steps2) > 0: # エージェントのいないセルに移動\n",
        "      new_position = self.random.choice(possible_steps2)      \n",
        "    else: # 動ける場所がない場合は移動しない\n",
        "      new_position = self.pos\n",
        "\n",
        "    self.model.grid.move_agent(self, new_position)\n",
        "```"
      ]
    },
    {
      "cell_type": "markdown",
      "metadata": {
        "id": "uwrOUxUcFGNA"
      },
      "source": [
        "# ここまでのまとめ"
      ]
    },
    {
      "cell_type": "markdown",
      "metadata": {
        "id": "_iLs4bh0NAUd"
      },
      "source": [
        "ここまでの内容をまとめました．"
      ]
    },
    {
      "cell_type": "markdown",
      "metadata": {
        "id": "J9yweUxcGQoP"
      },
      "source": [
        "## ライブラリの読み込み"
      ]
    },
    {
      "cell_type": "code",
      "metadata": {
        "id": "YmEtFjnOGQGL"
      },
      "source": [
        "%pip install mesa\n",
        "%matplotlib notebook\n",
        "\n",
        "import numpy as np\n",
        "from tqdm import tqdm\n",
        "\n",
        "import matplotlib.pyplot as plt\n",
        "from matplotlib import animation, rc\n",
        "from matplotlib.animation import ArtistAnimation\n",
        "from IPython.display import HTML\n",
        "\n",
        "from mesa import Agent, Model\n",
        "from mesa.space import MultiGrid\n",
        "from mesa.space import SingleGrid\n",
        "from mesa.time import RandomActivation\n",
        "from mesa.datacollection import DataCollector"
      ],
      "execution_count": null,
      "outputs": []
    },
    {
      "cell_type": "markdown",
      "metadata": {
        "id": "_lzaZwv_GTes"
      },
      "source": [
        "## スペースの定義"
      ]
    },
    {
      "cell_type": "code",
      "metadata": {
        "id": "UJBfD_dBFNth"
      },
      "source": [
        "# スペースの定義\n",
        "class EvacModel(Model):\n",
        "\n",
        "  # コンストラクタにwall（壁の位置を示すndarray）を追加した\n",
        "  def __init__(self, N, width, height, start_x, start_y, goal_x, goal_y, wall):\n",
        "    # 避難者エージェントの数をNに設定する\n",
        "    self.num_agents = N\n",
        "    # MultiGridは同一座標に複数エージェントを配置できるスペース\n",
        "    self.grid = MultiGrid(width, height, torus=False)\n",
        "\n",
        "    # 壁の座標を保持するプロパティの定義\n",
        "    self.wall_x = list()\n",
        "    self.wall_y = list()\n",
        "    \n",
        "    # 壁の定義をプロパティとして保持する\n",
        "    self.wall = wall\n",
        "    # ゴール地点の座標を設定する（goal_xとgoal_y)\n",
        "    self.goal = (goal_x, goal_y)\n",
        "    # 避難完了者をカウントする（0で初期化）\n",
        "    self.evac_comp = 0\n",
        "    # EvacAgentの実行順序をランダムに設定する\n",
        "    self.schedule = RandomActivation(self)\n",
        "\n",
        "    # 避難者エージェントの作成．num_agentsの数だけエージェントを作成する\n",
        "    for i in range(self.num_agents):\n",
        "      a = EvacAgent(i, self)\n",
        "      self.schedule.add(a)\n",
        "      # エージェントを配置する\n",
        "      self.grid.place_agent(a, (start_x, start_y))\n",
        "\n",
        "      # データコレクターの設定\n",
        "      self.datacollector = DataCollector(\n",
        "        model_reporters={\"Goal\": compute_goal, \"evacuator\": goal_pop},\n",
        "        agent_reporters={\"Pos\": \"pos\", \"Goal\": \"mygoal\"})\n",
        "\n",
        "    # 避難者エージェント配置直後（初期状態）の状況をデータコレクターで取得  \n",
        "    self.datacollector.collect(self)\n",
        "  \n",
        "    # 壁エージェントを配置する\n",
        "    # 壁の配列から座標を取得する．壁の配列は上下反転させる\n",
        "    wall_y = np.where(np.flipud(self.wall) >0)[0]\n",
        "    wall_x = np.where(np.flipud(self.wall) >0)[1]\n",
        "    # 取得した壁の座標に壁エージェントを配置する\n",
        "    for i in range(len(wall_x)):\n",
        "      a = WallAgent(i, self)\n",
        "      self.grid.place_agent(a, (wall_x[i], wall_y[i]))\n",
        "      # 壁の座標を保持する\n",
        "      self.wall_x.append(wall_x[i])\n",
        "      self.wall_y.append(wall_y[i])\n",
        "    \n",
        "    # ゴールエージェントの配置\n",
        "    a = GoalAgent(1, self)\n",
        "    self.grid.place_agent(a, (goal_x, goal_y))\n",
        "\n",
        "  def step(self):\n",
        "    model.evac_comp = 0\n",
        "    self.schedule.step()\n",
        "    self.datacollector.collect(self)"
      ],
      "execution_count": null,
      "outputs": []
    },
    {
      "cell_type": "markdown",
      "metadata": {
        "id": "euyHT0PtHEPR"
      },
      "source": [
        "## その他定義した関数"
      ]
    },
    {
      "cell_type": "code",
      "metadata": {
        "id": "O9AJMw2EGaQI"
      },
      "source": [
        "\n",
        "# そのステップでゴールした人数を求める関数\n",
        "def goal_pop(model):\n",
        "  return(model.evac_comp)\n",
        "\n",
        "# ゴールした人数の累計を求める関数\n",
        "def compute_goal(model):\n",
        "  agent_goal = sum([agent.mygoal for agent in model.schedule.agents])\n",
        "  return (agent_goal)\n",
        "\n",
        "# 二つのエージェントの距離を求める関数\n",
        "def calc_dist(loc1, loc2):\n",
        "  return np.sqrt(np.sum(np.square(np.array(loc1)-np.array(loc2))))"
      ],
      "execution_count": null,
      "outputs": []
    },
    {
      "cell_type": "markdown",
      "metadata": {
        "id": "KtHgH4MaHIQF"
      },
      "source": [
        "## 避難者エージェントの定義"
      ]
    },
    {
      "cell_type": "code",
      "metadata": {
        "id": "pnyYwIwOG312"
      },
      "source": [
        "class EvacAgent(Agent):\n",
        "\n",
        "  def __init__(self, unique_id, model):\n",
        "    super().__init__(unique_id, model)\n",
        "    self.mygoal = 0\n",
        "    self.wealth = 0\n",
        "    self.category = 'evacagent'\n",
        " \n",
        "  # エージェントの移動\n",
        "  def move(self):\n",
        "\n",
        "    # 自分の周囲のセル（4方向）にあるセルを検索する．\n",
        "    possible_steps = self.model.grid.get_neighborhood(self.pos, moore=False, include_center=False)\n",
        "    # その中で移動可能（エージェントがいない（エージェントの数が1未満））なセルを検索する\n",
        "    possible_steps2 = [a for a in possible_steps if len(self.model.grid.get_cell_list_contents(a)) < 1]\n",
        "    # 周囲4方向のセルにゴールが含まれている場合は移動可能なセルにゴールのセルを加える．\n",
        "    possible_steps2.extend([a.pos for a in self.model.grid.get_neighbors(self.pos, moore=False, include_center=False) if a.category=='goal'])\n",
        "    possible_steps3 = []\n",
        "\n",
        "    # 自分を中心とする検索範囲（プラスマイナス2メッシュ内）のエージェントを検索する\n",
        "    neighbor_agents = self.model.grid.get_neighbors(self.pos, moore=True, radius=2, include_center=False)\n",
        "    # 検索範囲にゴールがあるかどうか判定する\n",
        "    if 'goal' in [a.category for a in neighbor_agents]: # ゴールがあった場合\n",
        "      # ゴールの座標を取得する\n",
        "      goalpos = [a.pos for a in neighbor_agents if a.category=='goal']\n",
        "      # 自分とゴールの距離を求める \n",
        "      self_goal_dis = calc_dist(goalpos, self.pos)\n",
        "      # エージェントがいないセルからゴールまでの距離を求める\n",
        "      distances = [calc_dist(goalpos, a) for a in possible_steps2]\n",
        "      # 自分の現在位置よりゴールに近くなる移動候補のみを取り出す\n",
        "      possible_steps3 = [a for a, b in zip(possible_steps2, distances) if b < self_goal_dis]\n",
        "\n",
        "    if len(possible_steps3) > 0: # ゴールに近づくセルに移動\n",
        "      new_position = self.random.choice(possible_steps3)\n",
        "    elif len(possible_steps2) > 0: # エージェントのいないセルに移動\n",
        "      new_position = self.random.choice(possible_steps2)      \n",
        "    else: # 動ける場所がない場合は移動しない\n",
        "      new_position = self.pos\n",
        "\n",
        "    self.model.grid.move_agent(self, new_position)\n",
        "  \n",
        "  # ゴールに到達したか判定する関数\n",
        "  def if_goal(self):\n",
        "    if self.pos == self.model.goal:\n",
        "      self.mygoal += 1\n",
        "      self.model.evac_comp += 1\n",
        "      # ゴールしたらエージェントを削除する\n",
        "      self.model.grid.remove_agent(self)\n",
        "\n",
        "  def step(self):\n",
        "    if self.mygoal == 0:\n",
        "      self.move()\n",
        "      self.if_goal()\n"
      ],
      "execution_count": null,
      "outputs": []
    },
    {
      "cell_type": "markdown",
      "metadata": {
        "id": "UAv10VtWHNGA"
      },
      "source": [
        "## ゴールエージェントの定義"
      ]
    },
    {
      "cell_type": "code",
      "metadata": {
        "id": "_6M0nkXZGmpW"
      },
      "source": [
        "# ゴールエージェントの定義\n",
        "class GoalAgent(Agent):\n",
        "\n",
        "  def __init__(self, unique_id, model):\n",
        "    super().__init__(unique_id, model)\n",
        "    # エージェントの種類を示すプロパティを追加\n",
        "    self.category = 'goal'\n"
      ],
      "execution_count": null,
      "outputs": []
    },
    {
      "cell_type": "markdown",
      "metadata": {
        "id": "K1bYwPwiHPa4"
      },
      "source": [
        "## 壁エージェントの定義"
      ]
    },
    {
      "cell_type": "code",
      "metadata": {
        "id": "UJbXJnOEGrM2"
      },
      "source": [
        "# 壁エージェントの定義\n",
        "class WallAgent(Agent):\n",
        "\n",
        "  def __init__(self, unique_id, model):\n",
        "    super().__init__(unique_id, model)\n",
        "    self.category = 'wall'\n"
      ],
      "execution_count": null,
      "outputs": []
    },
    {
      "cell_type": "markdown",
      "metadata": {
        "id": "DkH2c1LLIGxs"
      },
      "source": [
        "## モデルの実行"
      ]
    },
    {
      "cell_type": "code",
      "metadata": {
        "id": "HLc3qxyUG681"
      },
      "source": [
        "# モデルを実行する\n",
        "start_x = 4\n",
        "start_y = 4\n",
        "goal_x = 0\n",
        "goal_y = 0\n",
        "\n",
        "# 壁の定義（1: 壁，0: 通路）\n",
        "wall = np.array(\n",
        "    [[1,0,0,0,0],\n",
        "     [0,0,1,0,0],\n",
        "     [0,1,1,0,1],\n",
        "     [0,0,0,0,0],\n",
        "     [0,1,0,0,0]])\n",
        "\n",
        "# モデルの生成，引数として壁の定義を加える\n",
        "model = EvacModel(10, 5, 5, start_x, start_y, goal_x, goal_y, wall)\n",
        "\n",
        "# 100ステップ実行する\n",
        "for i in range(100):\n",
        "  model.step()"
      ],
      "execution_count": null,
      "outputs": []
    },
    {
      "cell_type": "markdown",
      "metadata": {
        "id": "-BCFw35EIJGZ"
      },
      "source": [
        "## 計算結果のアニメーション"
      ]
    },
    {
      "cell_type": "code",
      "metadata": {
        "id": "5Ub31eaqXii2"
      },
      "source": [
        "fig = plt.figure(figsize=(5, 5))\n",
        "ax = fig.add_subplot(111)\n",
        "\n",
        "# ゴールをプロット\n",
        "plt.text(goal_x, goal_y, 'Goal', size=14, ha='center')\n",
        "plt.scatter(goal_x, goal_y, s=800, marker=\"s\")\n",
        "\n",
        "# imshowを使って壁配列を描画する．原点の移動と配列の上下反転を行う．\n",
        "plt.imshow(np.flipud(wall), origin='lower')\n",
        "\n",
        "# 壁をプロット\n",
        "plt.scatter(model.wall_x, model.wall_y, c='gray', s=2000, marker=\"s\")\n",
        "\n",
        "ims = []\n",
        "step = 3\n",
        "\n",
        "# 0 Stepめのエージェントの座標を取得する\n",
        "agent_loc = model.datacollector.get_agent_vars_dataframe().xs(0, level='Step')['Pos'].map(lambda x: (0, 0) if x is None else x)\n",
        "x0, y0 = [a for a, b in agent_loc], [b for a, b in agent_loc]\n",
        "\n",
        "for i in tqdm(range(1, 100)):\n",
        "  agent_loc = model.datacollector.get_agent_vars_dataframe().xs(i, level='Step')['Pos'].map(lambda x: (0, 0) if x is None else x)\n",
        "  x, y = [a for a, b in agent_loc], [b for a, b in agent_loc]\n",
        "  dx = (np.array(x) - np.array(x0)) / step\n",
        "  dy = (np.array(y) - np.array(y0)) / step\n",
        "  for u in range(step):\n",
        "    im = ax.scatter(x0 + (dx * u), y0 + (dy * u), s=1000, c=\"red\", marker=\"*\")\n",
        "    # グラフをリストに加える\n",
        "    ims.append([im])\n",
        "  x0 = x\n",
        "  y0 = y\n",
        "\n",
        "ax.set_title('evacuation')\n",
        "ax.set_xlabel('x')\n",
        "ax.set_ylabel('y')\n",
        "\n",
        "# ArtistAnimationにfigオブジェクトとimsを代入してアニメーションを作成\n",
        "anim = animation.ArtistAnimation(fig, ims, interval = 50)\n",
        "\n",
        "# Google Colaboratoryの場合必要\n",
        "rc('animation', html='jshtml')\n",
        "plt.close()\n",
        "anim"
      ],
      "execution_count": null,
      "outputs": []
    },
    {
      "cell_type": "markdown",
      "metadata": {
        "id": "0wCvgYJCIMZJ"
      },
      "source": [
        "## スペースの状況をグラフ化する"
      ]
    },
    {
      "cell_type": "code",
      "metadata": {
        "id": "Mj_Q9IGuXnD0"
      },
      "source": [
        "%matplotlib inline\n",
        "\n",
        "fig = plt.figure()\n",
        "ax = fig.add_subplot(111)\n",
        "\n",
        "goal = model.datacollector.get_model_vars_dataframe()\n",
        "\n",
        "ax.plot(goal)\n",
        "plt.show"
      ],
      "execution_count": null,
      "outputs": []
    }
  ]
}