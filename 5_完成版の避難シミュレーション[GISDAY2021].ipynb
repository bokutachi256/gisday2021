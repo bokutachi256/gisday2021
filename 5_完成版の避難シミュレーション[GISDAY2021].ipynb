{
  "nbformat": 4,
  "nbformat_minor": 0,
  "metadata": {
    "colab": {
      "name": "5. 完成版の避難シミュレーション[GISDAY2021]",
      "provenance": [],
      "collapsed_sections": [],
      "toc_visible": true,
      "authorship_tag": "ABX9TyPRtYgSR5Ib/1dA5n6bIGdY",
      "include_colab_link": true
    },
    "kernelspec": {
      "display_name": "Python 3",
      "name": "python3"
    },
    "language_info": {
      "name": "python"
    }
  },
  "cells": [
    {
      "cell_type": "markdown",
      "metadata": {
        "id": "view-in-github",
        "colab_type": "text"
      },
      "source": [
        "<a href=\"https://colab.research.google.com/github/bokutachi256/gisday2021/blob/main/5_%E5%AE%8C%E6%88%90%E7%89%88%E3%81%AE%E9%81%BF%E9%9B%A3%E3%82%B7%E3%83%9F%E3%83%A5%E3%83%AC%E3%83%BC%E3%82%B7%E3%83%A7%E3%83%B3%5BGISDAY2021%5D.ipynb\" target=\"_parent\"><img src=\"https://colab.research.google.com/assets/colab-badge.svg\" alt=\"Open In Colab\"/></a>"
      ]
    },
    {
      "cell_type": "markdown",
      "metadata": {
        "id": "xGiF9Y62uC-i"
      },
      "source": [
        "* Pythonで作るマルチエージェントシミュレーション\n",
        "* 東京都立大学 都市環境学部 地理環境学科 中山大地\n",
        "* 2021年12月4日 東京都立大学 南大沢キャンパス（オンライン開催）\n",
        "* このテキストのURL [https://github.com/bokutachi256/gisday2021](https://github.com/bokutachi256/gisday2021)\n",
        "* Google ColaboratoryのURL [https://colab.research.google.com/](https://colab.research.google.com/)\n",
        "* MESAのURL [https://mesa.readthedocs.io/](https://mesa.readthedocs.io/)"
      ]
    },
    {
      "cell_type": "markdown",
      "metadata": {
        "id": "_LJkCWljCt7m"
      },
      "source": [
        "# この章でやること"
      ]
    },
    {
      "cell_type": "markdown",
      "metadata": {
        "id": "Cdp_4vmRC2eG"
      },
      "source": [
        "前章で改良したシミュレーションをさらに改良します．\n",
        "\n",
        "\n",
        "改良点は以下になります．\n",
        "\n",
        "* スペースの改良点\n",
        " * 特になし\n",
        "* 避難者エージェントの改良点\n",
        " * ゴールの検索範囲の半径を持つプロパティ`strategy`を追加した．これによりエージェントごとに避難行動の差異が出る\n",
        " * `strategy`はランダムに1から5の値を取るようにした．\n",
        "* モデルの実行部の改良点\n",
        " * スペースの大きさを10×10に拡張し，4パターンの壁を選べるようにした．\n",
        " * 避難者エージェントを20人にした．\n",
        "* アニメーション作成部の改良点\n",
        " * 避難者エージェントの`strategy`に応じて色を変えるようにした．\n",
        " * 作成したアニメーションをmp4型式でGoogle Driveに保存するようにした．\n",
        "\n",
        "\n",
        "詳しい説明は省きますが，パラメータを変更して実行して下さい．\n"
      ]
    },
    {
      "cell_type": "markdown",
      "metadata": {
        "id": "Npjx4dKoW5dK"
      },
      "source": [
        "# スペースとエージェントを定義する"
      ]
    },
    {
      "cell_type": "code",
      "metadata": {
        "id": "YmEtFjnOGQGL"
      },
      "source": [
        "%pip install mesa\n",
        "%matplotlib notebook\n",
        "\n",
        "import numpy as np\n",
        "from tqdm import tqdm\n",
        "import random\n",
        "\n",
        "import matplotlib.pyplot as plt\n",
        "import matplotlib.cm as cm\n",
        "from matplotlib import animation, rc\n",
        "from matplotlib.animation import ArtistAnimation\n",
        "from IPython.display import HTML\n",
        "\n",
        "from mesa import Agent, Model\n",
        "from mesa.space import MultiGrid\n",
        "from mesa.space import SingleGrid\n",
        "from mesa.time import RandomActivation\n",
        "from mesa.datacollection import DataCollector\n",
        "\n",
        "# スペースの定義\n",
        "class EvacModel(Model):\n",
        "\n",
        "  # コンストラクタにwall（壁の位置を示すndarray）を追加した\n",
        "  def __init__(self, N, width, height, start_x, start_y, goal_x, goal_y, wall):\n",
        "    # 避難者エージェントの数をNに設定する\n",
        "    self.num_agents = N\n",
        "    # MultiGridは同一座標に複数エージェントを配置できるスペース\n",
        "    self.grid = MultiGrid(width, height, torus=False)\n",
        "\n",
        "    # 壁の座標を保持するプロパティの定義\n",
        "    self.wall_x = list()\n",
        "    self.wall_y = list()\n",
        "    \n",
        "    # 壁の定義をプロパティとして保持する\n",
        "    self.wall = wall\n",
        "    # ゴール地点の座標を設定する（goal_xとgoal_y)\n",
        "    self.goal = (goal_x, goal_y)\n",
        "    # 避難完了者をカウントする（0で初期化）\n",
        "    self.evac_comp = 0\n",
        "    # EvacAgentの実行順序をランダムに設定する\n",
        "    self.schedule = RandomActivation(self)\n",
        "\n",
        "    # 避難者エージェントの作成．num_agentsの数だけエージェントを作成する\n",
        "    for i in range(self.num_agents):\n",
        "      a = EvacAgent(i, self)\n",
        "      self.schedule.add(a)\n",
        "      # エージェントを配置する\n",
        "      self.grid.place_agent(a, (start_x, start_y))\n",
        "\n",
        "      # データコレクターの設定\n",
        "      self.datacollector = DataCollector(\n",
        "        model_reporters={\"Goal\": compute_goal, \"evacuator\": goal_pop},\n",
        "        agent_reporters={\"Pos\": \"pos\", \"Goal\": \"mygoal\", \"Strategy\": \"strategy\"})\n",
        "\n",
        "    # 避難者エージェント配置直後（初期状態）の状況をデータコレクターで取得  \n",
        "    self.datacollector.collect(self)\n",
        "  \n",
        "    # 壁エージェントを配置する\n",
        "    # 壁の配列から座標を取得する．壁の配列は上下反転させる\n",
        "    wall_y = np.where(np.flipud(self.wall) >0)[0]\n",
        "    wall_x = np.where(np.flipud(self.wall) >0)[1]\n",
        "    # 取得した壁の座標に壁エージェントを配置する\n",
        "    for i in range(len(wall_x)):\n",
        "      a = WallAgent(i, self)\n",
        "      self.grid.place_agent(a, (wall_x[i], wall_y[i]))\n",
        "      # 壁の座標を保持する\n",
        "      self.wall_x.append(wall_x[i])\n",
        "      self.wall_y.append(wall_y[i])\n",
        "    \n",
        "    # ゴールエージェントの配置\n",
        "    a = GoalAgent(1, self)\n",
        "    self.grid.place_agent(a, (goal_x, goal_y))\n",
        "\n",
        "  def step(self):\n",
        "    model.evac_comp = 0\n",
        "    self.schedule.step()\n",
        "    self.datacollector.collect(self)\n",
        "\n",
        "# そのステップでゴールした人数を求める関数\n",
        "def goal_pop(model):\n",
        "  return(model.evac_comp)\n",
        "\n",
        "# ゴールした人数の累計を求める関数\n",
        "def compute_goal(model):\n",
        "  agent_goal = sum([agent.mygoal for agent in model.schedule.agents])\n",
        "  return (agent_goal)\n",
        "\n",
        "# 二つのエージェントの距離を求める関数\n",
        "def calc_dist(loc1, loc2):\n",
        "  return np.sqrt(np.sum(np.square(np.array(loc1)-np.array(loc2))))\n",
        "\n",
        "# 避難者エージェントの定義\n",
        "class EvacAgent(Agent):\n",
        "\n",
        "  def __init__(self, unique_id, model):\n",
        "    super().__init__(unique_id, model)\n",
        "    self.mygoal = 0\n",
        "    self.wealth = 0\n",
        "    self.category = 'evacagent'\n",
        "    self.strategy = random.randrange(1, 5)\n",
        " \n",
        "  # エージェントの移動\n",
        "  def move(self):\n",
        "\n",
        "    # 自分の周囲のセル（4方向）にあるセルを検索する．\n",
        "    possible_steps = self.model.grid.get_neighborhood(self.pos, moore=False, include_center=False)\n",
        "    # その中で移動可能（エージェントがいない（エージェントの数が1未満））なセルを検索する\n",
        "    possible_steps2 = [a for a in possible_steps if len(self.model.grid.get_cell_list_contents(a)) < 1]\n",
        "    # 周囲4方向のセルにゴールが含まれている場合は移動可能なセルにゴールのセルを加える．\n",
        "    possible_steps2.extend([a.pos for a in self.model.grid.get_neighbors(self.pos, moore=False, include_center=False) if a.category=='goal'])\n",
        "    possible_steps3 = []\n",
        "\n",
        "    # 自分を中心とする検索範囲（プラスマイナス2メッシュ内）のエージェントを検索する\n",
        "    neighbor_agents = self.model.grid.get_neighbors(self.pos, moore=True, radius=self.strategy, include_center=False)\n",
        "    # 検索範囲にゴールがあるかどうか判定する\n",
        "    if 'goal' in [a.category for a in neighbor_agents]: # ゴールがあった場合\n",
        "      # ゴールの座標を取得する\n",
        "      goalpos = [a.pos for a in neighbor_agents if a.category=='goal']\n",
        "      # 自分とゴールの距離を求める \n",
        "      self_goal_dis = calc_dist(goalpos, self.pos)\n",
        "      # エージェントがいないセルからゴールまでの距離を求める\n",
        "      distances = [calc_dist(goalpos, a) for a in possible_steps2]\n",
        "      # 自分の現在位置よりゴールに近くなる移動候補のみを取り出す\n",
        "      possible_steps3 = [a for a, b in zip(possible_steps2, distances) if b < self_goal_dis]\n",
        "\n",
        "    if len(possible_steps3) > 0: # ゴールに近づくセルに移動\n",
        "      new_position = self.random.choice(possible_steps3)\n",
        "    elif len(possible_steps2) > 0: # エージェントのいないセルに移動\n",
        "      new_position = self.random.choice(possible_steps2)      \n",
        "    else: # 動ける場所がない場合は移動しない\n",
        "      new_position = self.pos\n",
        "\n",
        "    self.model.grid.move_agent(self, new_position)\n",
        "  \n",
        "  # ゴールに到達したか判定する関数\n",
        "  def if_goal(self):\n",
        "    if self.pos == self.model.goal:\n",
        "      self.mygoal += 1\n",
        "      self.model.evac_comp += 1\n",
        "      # ゴールしたらエージェントを削除する\n",
        "      self.model.grid.remove_agent(self)\n",
        "\n",
        "  def step(self):\n",
        "    if self.mygoal == 0:\n",
        "      self.move()\n",
        "      self.if_goal()\n",
        "\n",
        "# ゴールエージェントの定義\n",
        "class GoalAgent(Agent):\n",
        "\n",
        "  def __init__(self, unique_id, model):\n",
        "    super().__init__(unique_id, model)\n",
        "    # エージェントの種類を示すプロパティを追加\n",
        "    self.category = 'goal'\n",
        "\n",
        "# 壁エージェントの定義\n",
        "class WallAgent(Agent):\n",
        "\n",
        "  def __init__(self, unique_id, model):\n",
        "    super().__init__(unique_id, model)\n",
        "    self.category = 'wall'\n"
      ],
      "execution_count": null,
      "outputs": []
    },
    {
      "cell_type": "markdown",
      "metadata": {
        "id": "fydqMR5X2vA6"
      },
      "source": [
        "# モデルの実行"
      ]
    },
    {
      "cell_type": "code",
      "metadata": {
        "id": "HLc3qxyUG681"
      },
      "source": [
        "# モデルを実行する\n",
        "start_x = 9\n",
        "start_y = 9\n",
        "goal_x = 0\n",
        "goal_y = 0\n",
        "\n",
        "# 壁の定義（1: 壁，0: 通路）\n",
        "\n",
        "wall0 = np.array(\n",
        "    [[0,0,0,0,0,0,0,0,0,0],\n",
        "     [0,0,0,0,0,0,0,0,0,0],\n",
        "     [0,0,0,0,0,0,0,0,0,0],\n",
        "     [0,0,0,0,0,0,0,0,0,0],\n",
        "     [0,0,0,0,0,0,0,0,0,0],\n",
        "     [0,0,0,0,0,0,0,0,0,0],\n",
        "     [0,0,0,0,0,0,0,0,0,0],\n",
        "     [0,0,0,0,0,0,0,0,0,0],\n",
        "     [0,0,0,0,0,0,0,0,0,0],\n",
        "     [0,0,0,0,0,0,0,0,0,0]])\n",
        "\n",
        "wall1 = np.array(\n",
        "    [[0,0,0,0,0,0,0,0,0,0],\n",
        "     [0,0,0,0,0,0,0,0,0,0],\n",
        "     [0,1,0,0,1,0,1,0,0,0],\n",
        "     [0,1,0,0,1,0,1,1,0,0],\n",
        "     [0,1,0,0,1,0,1,0,0,0],\n",
        "     [0,1,0,0,1,0,1,0,0,1],\n",
        "     [0,1,0,0,1,0,1,0,0,0],\n",
        "     [0,1,0,0,1,0,1,1,0,0],\n",
        "     [0,0,0,0,0,0,0,0,0,0],\n",
        "     [0,0,0,0,0,0,0,0,0,0]])\n",
        "\n",
        "wall2 = np.array(\n",
        "    [[0,0,0,0,0,0,0,0,0,0],\n",
        "     [0,0,0,1,0,0,0,0,1,0],\n",
        "     [0,1,1,1,0,0,0,1,1,0],\n",
        "     [0,0,0,0,0,1,0,0,1,0],\n",
        "     [0,1,1,0,0,1,0,0,1,0],\n",
        "     [0,0,1,0,0,1,1,1,1,0],\n",
        "     [0,0,1,1,0,0,0,0,0,0],\n",
        "     [0,0,0,1,1,1,0,0,0,0],\n",
        "     [0,0,0,0,0,0,0,0,0,0],\n",
        "     [0,0,1,0,0,0,1,1,1,0]])\n",
        "\n",
        "\n",
        "wall3 = np.array(\n",
        "    [[0,0,0,0,1,0,0,0,0,0],\n",
        "     [0,0,0,0,1,0,0,0,0,0],\n",
        "     [0,0,0,0,1,0,0,0,0,0],\n",
        "     [0,0,0,0,1,0,0,0,0,0],\n",
        "     [0,0,0,0,1,0,0,0,0,0],\n",
        "     [0,0,0,0,0,0,0,0,0,0],\n",
        "     [0,0,0,0,1,0,0,0,0,0],\n",
        "     [0,0,0,0,1,0,0,0,0,0],\n",
        "     [0,0,0,0,1,0,0,0,0,0],\n",
        "     [0,0,0,0,1,0,0,0,0,0]])\n",
        "\n",
        "wall = wall2\n",
        "\n",
        "# モデルの生成\n",
        "model = EvacModel(20, 10, 10, start_x, start_y, goal_x, goal_y, wall)\n",
        "\n",
        "# 全員が避難するまで実行する\n",
        "while min([agent.mygoal for agent in model.schedule.agents]) < 1:\n",
        "  model.step()\n"
      ],
      "execution_count": null,
      "outputs": []
    },
    {
      "cell_type": "markdown",
      "metadata": {
        "id": "mCRwsC87FqS8"
      },
      "source": [
        "# アニメーションの生成"
      ]
    },
    {
      "cell_type": "markdown",
      "metadata": {
        "id": "T_Ak1u2MfbFf"
      },
      "source": [
        "それなりに時間がかかります．"
      ]
    },
    {
      "cell_type": "code",
      "metadata": {
        "colab": {
          "background_save": true
        },
        "id": "Ew1B0fOrFpLW"
      },
      "source": [
        "# 計算結果のアニメーションを作成する\n",
        "fig = plt.figure(figsize=(5, 5))\n",
        "ax = fig.add_subplot(111)\n",
        "\n",
        "# ゴールをプロット\n",
        "plt.text(goal_x, goal_y, 'Goal', size=14, ha='center')\n",
        "plt.scatter(goal_x, goal_y, s=800, marker=\"s\")\n",
        "\n",
        "# imshowを使って壁配列を描画する．原点の移動と配列の上下反転を行う．\n",
        "plt.imshow(np.flipud(wall), origin='lower')\n",
        "\n",
        "# 壁をプロット\n",
        "plt.scatter(model.wall_x, model.wall_y, c='gray', s=200, marker=\"s\")\n",
        "\n",
        "ims = []\n",
        "step = 3\n",
        "\n",
        "# 0 Stepめのエージェントの座標を取得する\n",
        "agent_loc = model.datacollector.get_agent_vars_dataframe().xs(0, level='Step')['Pos'].map(lambda x: (0, 0) if x is None else x)\n",
        "x0, y0 = [a for a, b in agent_loc], [b for a, b in agent_loc]\n",
        "\n",
        "# 500ステップまでアニメーションを作成する\n",
        "for i in tqdm(range(1, 500)):\n",
        "  agent_loc = model.datacollector.get_agent_vars_dataframe().xs(i, level='Step')['Pos'].map(lambda x: (0, 0) if x is None else x)\n",
        "  x, y = [a for a, b in agent_loc], [b for a, b in agent_loc]\n",
        "  dx = (np.array(x) - np.array(x0)) / step\n",
        "  dy = (np.array(y) - np.array(y0)) / step\n",
        "  #データコレクターからプロパティstrategyのリストを取得\n",
        "  strategy = model.datacollector.get_agent_vars_dataframe().xs(i, level='Step')['Strategy'].map(lambda x: (0, 0) if x is None else x)\n",
        "  for u in range(step):\n",
        "    # cパラメータにstrategyを指定して避難エージェントの色を変える\n",
        "    im = ax.scatter(x0 + (dx * u), y0 + (dy * u), s=1000, c=strategy, cmap=cm.seismic, marker=\"*\")\n",
        "    # グラフをリストに加える\n",
        "    ims.append([im])\n",
        "  x0 = x\n",
        "  y0 = y\n",
        "\n",
        "ax.set_title('evacuation')\n",
        "ax.set_xlabel('x')\n",
        "ax.set_ylabel('y')\n",
        "\n",
        "# ArtistAnimationにfigオブジェクトとimsを代入してアニメーションを作成\n",
        "anim = animation.ArtistAnimation(fig, ims, interval = 50)\n",
        "\n",
        "# Google Colaboratoryの場合必要\n",
        "rc('animation', html='jshtml')\n",
        "plt.close()\n",
        "anim"
      ],
      "execution_count": null,
      "outputs": []
    },
    {
      "cell_type": "markdown",
      "metadata": {
        "id": "Z8TYlLiVBAEa"
      },
      "source": [
        "## アニメーションをGoogle Driveに保存する"
      ]
    },
    {
      "cell_type": "code",
      "metadata": {
        "id": "5V5p8bhnA_0m"
      },
      "source": [
        "from google.colab import drive\n",
        "\n",
        "drive.mount('/content/drive')\n",
        "base_dir = \"/content/drive/My Drive/\"\n",
        "\n",
        "anim.save(base_dir+\"animation.mp4\")"
      ],
      "execution_count": null,
      "outputs": []
    },
    {
      "cell_type": "markdown",
      "metadata": {
        "id": "0wCvgYJCIMZJ"
      },
      "source": [
        "# ゴール過程のグラフ化"
      ]
    },
    {
      "cell_type": "code",
      "metadata": {
        "id": "Mj_Q9IGuXnD0"
      },
      "source": [
        "%matplotlib inline\n",
        "\n",
        "fig = plt.figure()\n",
        "ax = fig.add_subplot(111)\n",
        "\n",
        "goal = model.datacollector.get_model_vars_dataframe()\n",
        "\n",
        "ax.plot(goal)\n",
        "plt.show"
      ],
      "execution_count": null,
      "outputs": []
    }
  ]
}