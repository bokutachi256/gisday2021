{
  "nbformat": 4,
  "nbformat_minor": 0,
  "metadata": {
    "colab": {
      "name": "[GISDAY2021] 5. 完成版の避難シミュレーション",
      "provenance": [],
      "collapsed_sections": [],
      "toc_visible": true,
      "authorship_tag": "ABX9TyOvvH3Slxs319XoBuruU85s",
      "include_colab_link": true
    },
    "kernelspec": {
      "display_name": "Python 3",
      "name": "python3"
    },
    "language_info": {
      "name": "python"
    }
  },
  "cells": [
    {
      "cell_type": "markdown",
      "metadata": {
        "id": "view-in-github",
        "colab_type": "text"
      },
      "source": [
        "<a href=\"https://colab.research.google.com/github/bokutachi256/gisday2021/blob/main/%5BGISDAY2021%5D_5_%E5%AE%8C%E6%88%90%E7%89%88%E3%81%AE%E9%81%BF%E9%9B%A3%E3%82%B7%E3%83%9F%E3%83%A5%E3%83%AC%E3%83%BC%E3%82%B7%E3%83%A7%E3%83%B3.ipynb\" target=\"_parent\"><img src=\"https://colab.research.google.com/assets/colab-badge.svg\" alt=\"Open In Colab\"/></a>"
      ]
    },
    {
      "cell_type": "markdown",
      "metadata": {
        "id": "ZL6rKtZFXn1O"
      },
      "source": [
        "# Mesaのインストール"
      ]
    },
    {
      "cell_type": "code",
      "metadata": {
        "colab": {
          "base_uri": "https://localhost:8080/"
        },
        "id": "0V-PcNU2aDPz",
        "outputId": "1717b15a-e3d2-4b2b-bfeb-9f13720ebe78"
      },
      "source": [
        "!pip install mesa"
      ],
      "execution_count": null,
      "outputs": [
        {
          "name": "stdout",
          "output_type": "stream",
          "text": [
            "Collecting mesa\n",
            "  Downloading Mesa-0.8.9-py3-none-any.whl (668 kB)\n",
            "\u001b[?25l\r\u001b[K     |▌                               | 10 kB 21.5 MB/s eta 0:00:01\r\u001b[K     |█                               | 20 kB 25.3 MB/s eta 0:00:01\r\u001b[K     |█▌                              | 30 kB 29.4 MB/s eta 0:00:01\r\u001b[K     |██                              | 40 kB 24.3 MB/s eta 0:00:01\r\u001b[K     |██▌                             | 51 kB 8.9 MB/s eta 0:00:01\r\u001b[K     |███                             | 61 kB 8.0 MB/s eta 0:00:01\r\u001b[K     |███▍                            | 71 kB 8.6 MB/s eta 0:00:01\r\u001b[K     |████                            | 81 kB 9.5 MB/s eta 0:00:01\r\u001b[K     |████▍                           | 92 kB 9.3 MB/s eta 0:00:01\r\u001b[K     |█████                           | 102 kB 7.7 MB/s eta 0:00:01\r\u001b[K     |█████▍                          | 112 kB 7.7 MB/s eta 0:00:01\r\u001b[K     |█████▉                          | 122 kB 7.7 MB/s eta 0:00:01\r\u001b[K     |██████▍                         | 133 kB 7.7 MB/s eta 0:00:01\r\u001b[K     |██████▉                         | 143 kB 7.7 MB/s eta 0:00:01\r\u001b[K     |███████▍                        | 153 kB 7.7 MB/s eta 0:00:01\r\u001b[K     |███████▉                        | 163 kB 7.7 MB/s eta 0:00:01\r\u001b[K     |████████▎                       | 174 kB 7.7 MB/s eta 0:00:01\r\u001b[K     |████████▉                       | 184 kB 7.7 MB/s eta 0:00:01\r\u001b[K     |█████████▎                      | 194 kB 7.7 MB/s eta 0:00:01\r\u001b[K     |█████████▉                      | 204 kB 7.7 MB/s eta 0:00:01\r\u001b[K     |██████████▎                     | 215 kB 7.7 MB/s eta 0:00:01\r\u001b[K     |██████████▊                     | 225 kB 7.7 MB/s eta 0:00:01\r\u001b[K     |███████████▎                    | 235 kB 7.7 MB/s eta 0:00:01\r\u001b[K     |███████████▊                    | 245 kB 7.7 MB/s eta 0:00:01\r\u001b[K     |████████████▎                   | 256 kB 7.7 MB/s eta 0:00:01\r\u001b[K     |████████████▊                   | 266 kB 7.7 MB/s eta 0:00:01\r\u001b[K     |█████████████▎                  | 276 kB 7.7 MB/s eta 0:00:01\r\u001b[K     |█████████████▊                  | 286 kB 7.7 MB/s eta 0:00:01\r\u001b[K     |██████████████▏                 | 296 kB 7.7 MB/s eta 0:00:01\r\u001b[K     |██████████████▊                 | 307 kB 7.7 MB/s eta 0:00:01\r\u001b[K     |███████████████▏                | 317 kB 7.7 MB/s eta 0:00:01\r\u001b[K     |███████████████▊                | 327 kB 7.7 MB/s eta 0:00:01\r\u001b[K     |████████████████▏               | 337 kB 7.7 MB/s eta 0:00:01\r\u001b[K     |████████████████▋               | 348 kB 7.7 MB/s eta 0:00:01\r\u001b[K     |█████████████████▏              | 358 kB 7.7 MB/s eta 0:00:01\r\u001b[K     |█████████████████▋              | 368 kB 7.7 MB/s eta 0:00:01\r\u001b[K     |██████████████████▏             | 378 kB 7.7 MB/s eta 0:00:01\r\u001b[K     |██████████████████▋             | 389 kB 7.7 MB/s eta 0:00:01\r\u001b[K     |███████████████████             | 399 kB 7.7 MB/s eta 0:00:01\r\u001b[K     |███████████████████▋            | 409 kB 7.7 MB/s eta 0:00:01\r\u001b[K     |████████████████████            | 419 kB 7.7 MB/s eta 0:00:01\r\u001b[K     |████████████████████▋           | 430 kB 7.7 MB/s eta 0:00:01\r\u001b[K     |█████████████████████           | 440 kB 7.7 MB/s eta 0:00:01\r\u001b[K     |█████████████████████▌          | 450 kB 7.7 MB/s eta 0:00:01\r\u001b[K     |██████████████████████          | 460 kB 7.7 MB/s eta 0:00:01\r\u001b[K     |██████████████████████▌         | 471 kB 7.7 MB/s eta 0:00:01\r\u001b[K     |███████████████████████         | 481 kB 7.7 MB/s eta 0:00:01\r\u001b[K     |███████████████████████▌        | 491 kB 7.7 MB/s eta 0:00:01\r\u001b[K     |████████████████████████        | 501 kB 7.7 MB/s eta 0:00:01\r\u001b[K     |████████████████████████▌       | 512 kB 7.7 MB/s eta 0:00:01\r\u001b[K     |█████████████████████████       | 522 kB 7.7 MB/s eta 0:00:01\r\u001b[K     |█████████████████████████▌      | 532 kB 7.7 MB/s eta 0:00:01\r\u001b[K     |██████████████████████████      | 542 kB 7.7 MB/s eta 0:00:01\r\u001b[K     |██████████████████████████▌     | 552 kB 7.7 MB/s eta 0:00:01\r\u001b[K     |███████████████████████████     | 563 kB 7.7 MB/s eta 0:00:01\r\u001b[K     |███████████████████████████▍    | 573 kB 7.7 MB/s eta 0:00:01\r\u001b[K     |████████████████████████████    | 583 kB 7.7 MB/s eta 0:00:01\r\u001b[K     |████████████████████████████▍   | 593 kB 7.7 MB/s eta 0:00:01\r\u001b[K     |█████████████████████████████   | 604 kB 7.7 MB/s eta 0:00:01\r\u001b[K     |█████████████████████████████▍  | 614 kB 7.7 MB/s eta 0:00:01\r\u001b[K     |█████████████████████████████▉  | 624 kB 7.7 MB/s eta 0:00:01\r\u001b[K     |██████████████████████████████▍ | 634 kB 7.7 MB/s eta 0:00:01\r\u001b[K     |██████████████████████████████▉ | 645 kB 7.7 MB/s eta 0:00:01\r\u001b[K     |███████████████████████████████▍| 655 kB 7.7 MB/s eta 0:00:01\r\u001b[K     |███████████████████████████████▉| 665 kB 7.7 MB/s eta 0:00:01\r\u001b[K     |████████████████████████████████| 668 kB 7.7 MB/s \n",
            "\u001b[?25hRequirement already satisfied: networkx in /usr/local/lib/python3.7/dist-packages (from mesa) (2.6.3)\n",
            "Requirement already satisfied: pandas in /usr/local/lib/python3.7/dist-packages (from mesa) (1.1.5)\n",
            "Requirement already satisfied: tqdm in /usr/local/lib/python3.7/dist-packages (from mesa) (4.62.3)\n",
            "Requirement already satisfied: click in /usr/local/lib/python3.7/dist-packages (from mesa) (7.1.2)\n",
            "Collecting cookiecutter\n",
            "  Downloading cookiecutter-1.7.3-py2.py3-none-any.whl (34 kB)\n",
            "Requirement already satisfied: tornado in /usr/local/lib/python3.7/dist-packages (from mesa) (5.1.1)\n",
            "Requirement already satisfied: numpy in /usr/local/lib/python3.7/dist-packages (from mesa) (1.19.5)\n",
            "Collecting binaryornot>=0.4.4\n",
            "  Downloading binaryornot-0.4.4-py2.py3-none-any.whl (9.0 kB)\n",
            "Collecting jinja2-time>=0.2.0\n",
            "  Downloading jinja2_time-0.2.0-py2.py3-none-any.whl (6.4 kB)\n",
            "Requirement already satisfied: six>=1.10 in /usr/local/lib/python3.7/dist-packages (from cookiecutter->mesa) (1.15.0)\n",
            "Requirement already satisfied: requests>=2.23.0 in /usr/local/lib/python3.7/dist-packages (from cookiecutter->mesa) (2.23.0)\n",
            "Requirement already satisfied: python-slugify>=4.0.0 in /usr/local/lib/python3.7/dist-packages (from cookiecutter->mesa) (5.0.2)\n",
            "Requirement already satisfied: Jinja2<4.0.0,>=2.7 in /usr/local/lib/python3.7/dist-packages (from cookiecutter->mesa) (2.11.3)\n",
            "Collecting poyo>=0.5.0\n",
            "  Downloading poyo-0.5.0-py2.py3-none-any.whl (10 kB)\n",
            "Requirement already satisfied: chardet>=3.0.2 in /usr/local/lib/python3.7/dist-packages (from binaryornot>=0.4.4->cookiecutter->mesa) (3.0.4)\n",
            "Requirement already satisfied: MarkupSafe>=0.23 in /usr/local/lib/python3.7/dist-packages (from Jinja2<4.0.0,>=2.7->cookiecutter->mesa) (2.0.1)\n",
            "Collecting arrow\n",
            "  Downloading arrow-1.2.1-py3-none-any.whl (63 kB)\n",
            "\u001b[K     |████████████████████████████████| 63 kB 1.4 MB/s \n",
            "\u001b[?25hRequirement already satisfied: text-unidecode>=1.3 in /usr/local/lib/python3.7/dist-packages (from python-slugify>=4.0.0->cookiecutter->mesa) (1.3)\n",
            "Requirement already satisfied: idna<3,>=2.5 in /usr/local/lib/python3.7/dist-packages (from requests>=2.23.0->cookiecutter->mesa) (2.10)\n",
            "Requirement already satisfied: urllib3!=1.25.0,!=1.25.1,<1.26,>=1.21.1 in /usr/local/lib/python3.7/dist-packages (from requests>=2.23.0->cookiecutter->mesa) (1.24.3)\n",
            "Requirement already satisfied: certifi>=2017.4.17 in /usr/local/lib/python3.7/dist-packages (from requests>=2.23.0->cookiecutter->mesa) (2021.10.8)\n",
            "Requirement already satisfied: typing-extensions in /usr/local/lib/python3.7/dist-packages (from arrow->jinja2-time>=0.2.0->cookiecutter->mesa) (3.10.0.2)\n",
            "Requirement already satisfied: python-dateutil>=2.7.0 in /usr/local/lib/python3.7/dist-packages (from arrow->jinja2-time>=0.2.0->cookiecutter->mesa) (2.8.2)\n",
            "Requirement already satisfied: pytz>=2017.2 in /usr/local/lib/python3.7/dist-packages (from pandas->mesa) (2018.9)\n",
            "Installing collected packages: arrow, poyo, jinja2-time, binaryornot, cookiecutter, mesa\n",
            "Successfully installed arrow-1.2.1 binaryornot-0.4.4 cookiecutter-1.7.3 jinja2-time-0.2.0 mesa-0.8.9 poyo-0.5.0\n"
          ]
        }
      ]
    },
    {
      "cell_type": "markdown",
      "metadata": {
        "id": "J9yweUxcGQoP"
      },
      "source": [
        "# ライブラリの読み込む及びエージェントと関数の定義"
      ]
    },
    {
      "cell_type": "code",
      "metadata": {
        "id": "YmEtFjnOGQGL"
      },
      "source": [
        "%matplotlib notebook\n",
        "\n",
        "import numpy as np\n",
        "from tqdm import tqdm\n",
        "import random\n",
        "\n",
        "import matplotlib.pyplot as plt\n",
        "import matplotlib.cm as cm\n",
        "from matplotlib import animation, rc\n",
        "from matplotlib.animation import ArtistAnimation\n",
        "from IPython.display import HTML\n",
        "\n",
        "from mesa import Agent, Model\n",
        "from mesa.space import MultiGrid\n",
        "from mesa.space import SingleGrid\n",
        "from mesa.time import RandomActivation\n",
        "from mesa.datacollection import DataCollector\n",
        "\n",
        "# スペースの定義\n",
        "class EvacModel(Model):\n",
        "\n",
        "  # コンストラクタにwall（壁の位置を示すndarray）を追加した\n",
        "  def __init__(self, N, width, height, start_x, start_y, goal_x, goal_y, wall):\n",
        "    # 避難者エージェントの数をNに設定する\n",
        "    self.num_agents = N\n",
        "    # MultiGridは同一座標に複数エージェントを配置できるスペース\n",
        "    self.grid = MultiGrid(width, height, torus=False)\n",
        "\n",
        "    # 壁の座標を保持するプロパティの定義\n",
        "    self.wall_x = list()\n",
        "    self.wall_y = list()\n",
        "    \n",
        "    # 壁の定義をプロパティとして保持する\n",
        "    self.wall = wall\n",
        "    # ゴール地点の座標を設定する（goal_xとgoal_y)\n",
        "    self.goal = (goal_x, goal_y)\n",
        "    # 避難完了者をカウントする（0で初期化）\n",
        "    self.evac_comp = 0\n",
        "    # EvacAgentの実行順序をランダムに設定する\n",
        "    self.schedule = RandomActivation(self)\n",
        "\n",
        "    # 避難者エージェントの作成．num_agentsの数だけエージェントを作成する\n",
        "    for i in range(self.num_agents):\n",
        "      a = EvacAgent(i, self)\n",
        "      self.schedule.add(a)\n",
        "      # エージェントを配置する\n",
        "      self.grid.place_agent(a, (start_x, start_y))\n",
        "\n",
        "      # データコレクターの設定\n",
        "      self.datacollector = DataCollector(\n",
        "        model_reporters={\"Goal\": compute_goal, \"evacuator\": goal_pop},\n",
        "        agent_reporters={\"Pos\": \"pos\", \"Goal\": \"mygoal\", \"Strategy\": \"strategy\"})\n",
        "\n",
        "    # 避難者エージェント配置直後（初期状態）の状況をデータコレクターで取得  \n",
        "    self.datacollector.collect(self)\n",
        "  \n",
        "    # 壁エージェントを配置する\n",
        "    # 壁の配列から座標を取得する．壁の配列は上下反転させる\n",
        "    wall_y = np.where(np.flipud(self.wall) >0)[0]\n",
        "    wall_x = np.where(np.flipud(self.wall) >0)[1]\n",
        "    # 取得した壁の座標に壁エージェントを配置する\n",
        "    for i in range(len(wall_x)):\n",
        "      a = WallAgent(i, self)\n",
        "      self.grid.place_agent(a, (wall_x[i], wall_y[i]))\n",
        "      # 壁の座標を保持する\n",
        "      self.wall_x.append(wall_x[i])\n",
        "      self.wall_y.append(wall_y[i])\n",
        "    \n",
        "    # ゴールエージェントの配置\n",
        "    a = GoalAgent(1, self)\n",
        "    self.grid.place_agent(a, (goal_x, goal_y))\n",
        "\n",
        "  def step(self):\n",
        "    model.evac_comp = 0\n",
        "    self.schedule.step()\n",
        "    self.datacollector.collect(self)\n",
        "\n",
        "# そのステップでゴールした人数を求める関数\n",
        "def goal_pop(model):\n",
        "  return(model.evac_comp)\n",
        "\n",
        "# ゴールした人数の累計を求める関数\n",
        "def compute_goal(model):\n",
        "  agent_goal = sum([agent.mygoal for agent in model.schedule.agents])\n",
        "  return (agent_goal)\n",
        "\n",
        "# 二つのエージェントの距離を求める関数\n",
        "def calc_dist(loc1, loc2):\n",
        "  return np.sqrt(np.sum(np.square(np.array(loc1)-np.array(loc2))))\n",
        "class EvacAgent(Agent):\n",
        "\n",
        "  def __init__(self, unique_id, model):\n",
        "    super().__init__(unique_id, model)\n",
        "    self.mygoal = 0\n",
        "    self.wealth = 0\n",
        "    self.category = 'evacagent'\n",
        "    self.strategy = random.randrange(1, 5)\n",
        " \n",
        "  # エージェントの移動\n",
        "  def move(self):\n",
        "\n",
        "    # 自分の周囲のセル（4方向）にあるセルを検索する．\n",
        "    possible_steps = self.model.grid.get_neighborhood(self.pos, moore=False, include_center=False)\n",
        "    # その中で移動可能（エージェントがいない（エージェントの数が1未満））なセルを検索する\n",
        "    possible_steps2 = [a for a in possible_steps if len(self.model.grid.get_cell_list_contents(a)) < 1]\n",
        "    # 周囲4方向のセルにゴールが含まれている場合は移動可能なセルにゴールのセルを加える．\n",
        "    possible_steps2.extend([a.pos for a in self.model.grid.get_neighbors(self.pos, moore=False, include_center=False) if a.category=='goal'])\n",
        "    possible_steps3 = []\n",
        "\n",
        "    # 自分を中心とする検索範囲（プラスマイナス2メッシュ内）のエージェントを検索する\n",
        "    neighbor_agents = self.model.grid.get_neighbors(self.pos, moore=True, radius=self.strategy, include_center=False)\n",
        "    # 検索範囲にゴールがあるかどうか判定する\n",
        "    if 'goal' in [a.category for a in neighbor_agents]: # ゴールがあった場合\n",
        "      # ゴールの座標を取得する\n",
        "      goalpos = [a.pos for a in neighbor_agents if a.category=='goal']\n",
        "      # 自分とゴールの距離を求める \n",
        "      self_goal_dis = calc_dist(goalpos, self.pos)\n",
        "      # エージェントがいないセルからゴールまでの距離を求める\n",
        "      distances = [calc_dist(goalpos, a) for a in possible_steps2]\n",
        "      # 自分の現在位置よりゴールに近くなる移動候補のみを取り出す\n",
        "      possible_steps3 = [a for a, b in zip(possible_steps2, distances) if b < self_goal_dis]\n",
        "\n",
        "    if len(possible_steps3) > 0: # ゴールに近づくセルに移動\n",
        "      new_position = self.random.choice(possible_steps3)\n",
        "    elif len(possible_steps2) > 0: # エージェントのいないセルに移動\n",
        "      new_position = self.random.choice(possible_steps2)      \n",
        "    else: # 動ける場所がない場合は移動しない\n",
        "      new_position = self.pos\n",
        "\n",
        "    self.model.grid.move_agent(self, new_position)\n",
        "  \n",
        "  # ゴールに到達したか判定する関数\n",
        "  def if_goal(self):\n",
        "    if self.pos == self.model.goal:\n",
        "      self.mygoal += 1\n",
        "      self.model.evac_comp += 1\n",
        "      # ゴールしたらエージェントを削除する\n",
        "      self.model.grid.remove_agent(self)\n",
        "\n",
        "  def step(self):\n",
        "    if self.mygoal == 0:\n",
        "      self.move()\n",
        "      self.if_goal()\n",
        "\n",
        "# ゴールエージェントの定義\n",
        "class GoalAgent(Agent):\n",
        "\n",
        "  def __init__(self, unique_id, model):\n",
        "    super().__init__(unique_id, model)\n",
        "    # エージェントの種類を示すプロパティを追加\n",
        "    self.category = 'goal'\n",
        "\n",
        "# 壁エージェントの定義\n",
        "class WallAgent(Agent):\n",
        "\n",
        "  def __init__(self, unique_id, model):\n",
        "    super().__init__(unique_id, model)\n",
        "    self.category = 'wall'\n"
      ],
      "execution_count": null,
      "outputs": []
    },
    {
      "cell_type": "markdown",
      "metadata": {
        "id": "fydqMR5X2vA6"
      },
      "source": [
        "# モデルの実行"
      ]
    },
    {
      "cell_type": "code",
      "metadata": {
        "id": "HLc3qxyUG681"
      },
      "source": [
        "# モデルを実行する\n",
        "start_x = 9\n",
        "start_y = 9\n",
        "goal_x = 0\n",
        "goal_y = 0\n",
        "\n",
        "# 壁の定義（1: 壁，0: 通路）\n",
        "\n",
        "wall0 = np.array(\n",
        "    [[0,0,0,0,0,0,0,0,0,0],\n",
        "     [0,0,0,0,0,0,0,0,0,0],\n",
        "     [0,0,0,0,0,0,0,0,0,0],\n",
        "     [0,0,0,0,0,0,0,0,0,0],\n",
        "     [0,0,0,0,0,0,0,0,0,0],\n",
        "     [0,0,0,0,0,0,0,0,0,0],\n",
        "     [0,0,0,0,0,0,0,0,0,0],\n",
        "     [0,0,0,0,0,0,0,0,0,0],\n",
        "     [0,0,0,0,0,0,0,0,0,0],\n",
        "     [0,0,0,0,0,0,0,0,0,0]])\n",
        "\n",
        "wall1 = np.array(\n",
        "    [[0,0,0,0,0,0,0,0,0,0],\n",
        "     [0,0,0,0,0,0,0,0,0,0],\n",
        "     [0,1,0,0,1,0,1,0,0,0],\n",
        "     [0,1,0,0,1,0,1,1,0,0],\n",
        "     [0,1,0,0,1,0,1,0,0,0],\n",
        "     [0,1,0,0,1,0,1,0,0,1],\n",
        "     [0,1,0,0,1,0,1,0,0,0],\n",
        "     [0,1,0,0,1,0,1,1,0,0],\n",
        "     [0,0,0,0,0,0,0,0,0,0],\n",
        "     [0,0,0,0,0,0,0,0,0,0]])\n",
        "\n",
        "wall2 = np.array(\n",
        "    [[0,0,0,0,0,0,0,0,0,0],\n",
        "     [0,0,0,1,0,0,0,0,1,0],\n",
        "     [0,1,1,1,0,0,0,1,1,0],\n",
        "     [0,0,0,0,0,1,0,0,1,0],\n",
        "     [0,1,1,0,0,1,0,0,1,0],\n",
        "     [0,0,1,0,0,1,1,1,1,0],\n",
        "     [0,0,1,1,0,0,0,0,0,0],\n",
        "     [0,0,0,1,1,1,0,0,0,0],\n",
        "     [0,0,0,0,0,0,0,0,0,0],\n",
        "     [0,0,1,0,0,0,1,1,1,0]])\n",
        "\n",
        "\n",
        "wall3 = np.array(\n",
        "    [[0,0,0,0,1,0,0,0,0,0],\n",
        "     [0,0,0,0,1,0,0,0,0,0],\n",
        "     [0,0,0,0,1,0,0,0,0,0],\n",
        "     [0,0,0,0,1,0,0,0,0,0],\n",
        "     [0,0,0,0,1,0,0,0,0,0],\n",
        "     [0,0,0,0,0,0,0,0,0,0],\n",
        "     [0,0,0,0,1,0,0,0,0,0],\n",
        "     [0,0,0,0,1,0,0,0,0,0],\n",
        "     [0,0,0,0,1,0,0,0,0,0],\n",
        "     [0,0,0,0,1,0,0,0,0,0]])\n",
        "\n",
        "wall = wall0\n",
        "\n",
        "# モデルの生成，引数として壁の定義を加える\n",
        "model = EvacModel(20, 10, 10, start_x, start_y, goal_x, goal_y, wall)\n",
        "\n",
        "# 全員が避難するまで実行する\n",
        "while min([agent.mygoal for agent in model.schedule.agents]) < 1:\n",
        "  model.step()\n"
      ],
      "execution_count": null,
      "outputs": []
    },
    {
      "cell_type": "markdown",
      "metadata": {
        "id": "mCRwsC87FqS8"
      },
      "source": [
        "# アニメーションの生成"
      ]
    },
    {
      "cell_type": "code",
      "metadata": {
        "colab": {
          "background_save": true
        },
        "id": "Ew1B0fOrFpLW"
      },
      "source": [
        "# 計算結果のアニメーションを作成する\n",
        "fig = plt.figure(figsize=(5, 5))\n",
        "ax = fig.add_subplot(111)\n",
        "\n",
        "# ゴールをプロット\n",
        "plt.text(goal_x, goal_y, 'Goal', size=14, ha='center')\n",
        "plt.scatter(goal_x, goal_y, s=800, marker=\"s\")\n",
        "\n",
        "# imshowを使って壁配列を描画する．原点の移動と配列の上下反転を行う．\n",
        "plt.imshow(np.flipud(wall), origin='lower')\n",
        "\n",
        "# 壁をプロット\n",
        "plt.scatter(model.wall_x, model.wall_y, c='gray', s=200, marker=\"s\")\n",
        "\n",
        "ims = []\n",
        "step = 3\n",
        "\n",
        "# 0 Stepめのエージェントの座標を取得する\n",
        "agent_loc = model.datacollector.get_agent_vars_dataframe().xs(0, level='Step')['Pos'].map(lambda x: (0, 0) if x is None else x)\n",
        "x0, y0 = [a for a, b in agent_loc], [b for a, b in agent_loc]\n",
        "\n",
        "for i in tqdm(range(1, 500)):\n",
        "  agent_loc = model.datacollector.get_agent_vars_dataframe().xs(i, level='Step')['Pos'].map(lambda x: (0, 0) if x is None else x)\n",
        "  x, y = [a for a, b in agent_loc], [b for a, b in agent_loc]\n",
        "  dx = (np.array(x) - np.array(x0)) / step\n",
        "  dy = (np.array(y) - np.array(y0)) / step\n",
        "  strategy = model.datacollector.get_agent_vars_dataframe().xs(i, level='Step')['Strategy'].map(lambda x: (0, 0) if x is None else x)\n",
        "  for u in range(step):\n",
        "    im = ax.scatter(x0 + (dx * u), y0 + (dy * u), s=1000, c=strategy, cmap=cm.seismic, marker=\"*\")\n",
        "    # グラフをリストに加える\n",
        "    ims.append([im])\n",
        "  x0 = x\n",
        "  y0 = y\n",
        "\n",
        "ax.set_title('evacuation')\n",
        "ax.set_xlabel('x')\n",
        "ax.set_ylabel('y')\n",
        "\n",
        "# ArtistAnimationにfigオブジェクトとimsを代入してアニメーションを作成\n",
        "anim = animation.ArtistAnimation(fig, ims, interval = 50)\n",
        "\n",
        "# Google Colaboratoryの場合必要\n",
        "rc('animation', html='jshtml')\n",
        "plt.close()\n",
        "anim"
      ],
      "execution_count": null,
      "outputs": []
    },
    {
      "cell_type": "markdown",
      "metadata": {
        "id": "0wCvgYJCIMZJ"
      },
      "source": [
        "# ゴール過程のグラフ化"
      ]
    },
    {
      "cell_type": "code",
      "metadata": {
        "colab": {
          "base_uri": "https://localhost:8080/",
          "height": 282
        },
        "id": "Mj_Q9IGuXnD0",
        "outputId": "6308ae19-647c-41e9-d8a7-9b7faf45c290"
      },
      "source": [
        "%matplotlib inline\n",
        "\n",
        "fig = plt.figure()\n",
        "ax = fig.add_subplot(111)\n",
        "\n",
        "goal = model.datacollector.get_model_vars_dataframe()\n",
        "\n",
        "ax.plot(goal)\n",
        "plt.show"
      ],
      "execution_count": null,
      "outputs": [
        {
          "data": {
            "text/plain": [
              "<function matplotlib.pyplot.show>"
            ]
          },
          "execution_count": 24,
          "metadata": {},
          "output_type": "execute_result"
        },
        {
          "data": {
            "image/png": "[encoded data removed]",
            "text/plain": [
              "<Figure size 432x288 with 1 Axes>"
            ]
          },
          "metadata": {},
          "output_type": "display_data"
        }
      ]
    }
  ]
}