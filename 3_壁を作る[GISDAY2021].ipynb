{
  "nbformat": 4,
  "nbformat_minor": 0,
  "metadata": {
    "colab": {
      "name": "3. 壁を作る[GISDAY2021]",
      "provenance": [],
      "collapsed_sections": [],
      "toc_visible": true,
      "authorship_tag": "ABX9TyO3NlYY7okpWcIMvlGMOSD2",
      "include_colab_link": true
    },
    "kernelspec": {
      "display_name": "Python 3",
      "name": "python3"
    },
    "language_info": {
      "name": "python"
    }
  },
  "cells": [
    {
      "cell_type": "markdown",
      "metadata": {
        "id": "view-in-github",
        "colab_type": "text"
      },
      "source": [
        "<a href=\"https://colab.research.google.com/github/bokutachi256/gisday2021/blob/main/3_%E5%A3%81%E3%82%92%E4%BD%9C%E3%82%8B%5BGISDAY2021%5D.ipynb\" target=\"_parent\"><img src=\"https://colab.research.google.com/assets/colab-badge.svg\" alt=\"Open In Colab\"/></a>"
      ]
    },
    {
      "cell_type": "markdown",
      "metadata": {
        "id": "xGiF9Y62uC-i"
      },
      "source": [
        "* Pythonで作るマルチエージェントシミュレーション\n",
        "* 東京都立大学 都市環境学部 地理環境学科 中山大地\n",
        "* 2021年12月4日 東京都立大学 南大沢キャンパス（オンライン開催）\n",
        "* このテキストのURL [https://github.com/bokutachi256/gisday2021](https://github.com/bokutachi256/gisday2021)\n",
        "* Google ColaboratoryのURL [https://colab.research.google.com/](https://colab.research.google.com/)\n",
        "* MESAのURL [https://mesa.readthedocs.io/](https://mesa.readthedocs.io/)"
      ]
    },
    {
      "cell_type": "markdown",
      "metadata": {
        "id": "_LJkCWljCt7m"
      },
      "source": [
        "# この章でやること"
      ]
    },
    {
      "cell_type": "markdown",
      "metadata": {
        "id": "Cdp_4vmRC2eG"
      },
      "source": [
        "この章ではスペースに壁を作ります．\n",
        "避難者エージェントは壁の上に移動するとはできません．\n",
        "\n",
        "壁は壁エージェントを定義してスペース上に配置することで実現します．\n",
        "エージェントとして壁を表現することにより，前章の避難者エージェントをほとんど変更することなく\n",
        "モデルを実装することができます．\n"
      ]
    },
    {
      "cell_type": "markdown",
      "metadata": {
        "id": "ZL6rKtZFXn1O"
      },
      "source": [
        "# Mesaのインストール"
      ]
    },
    {
      "cell_type": "code",
      "metadata": {
        "id": "0V-PcNU2aDPz"
      },
      "source": [
        "%pip install mesa"
      ],
      "execution_count": null,
      "outputs": []
    },
    {
      "cell_type": "markdown",
      "metadata": {
        "id": "dvCnFtF_Xym8"
      },
      "source": [
        "# 必要ライブラリのインポート"
      ]
    },
    {
      "cell_type": "code",
      "metadata": {
        "id": "FfqRu70mvuN4"
      },
      "source": [
        "%matplotlib notebook\n",
        "\n",
        "import numpy as np\n",
        "from tqdm import tqdm\n",
        "\n",
        "import matplotlib.pyplot as plt\n",
        "from matplotlib import animation, rc\n",
        "from matplotlib.animation import ArtistAnimation\n",
        "from IPython.display import HTML\n",
        "\n",
        "from mesa import Agent, Model\n",
        "from mesa.space import MultiGrid\n",
        "from mesa.space import SingleGrid\n",
        "from mesa.time import RandomActivation\n",
        "from mesa.datacollection import DataCollector"
      ],
      "execution_count": null,
      "outputs": []
    },
    {
      "cell_type": "markdown",
      "metadata": {
        "id": "jzMzgLigZft1"
      },
      "source": [
        "# ここまでのモデル"
      ]
    },
    {
      "cell_type": "markdown",
      "metadata": {
        "id": "PjgS7k_BV5-x"
      },
      "source": [
        "## スペースのモデル\n"
      ]
    },
    {
      "cell_type": "markdown",
      "metadata": {
        "id": "3R81086idmC0"
      },
      "source": [
        "前の章で作成したスペースは以下のようになっていました．\n",
        "\n",
        "* スペースはMultiGridを使う\n",
        "* ~~エージェントの初期位置はランダムに決定する~~\n",
        "* エージェントの初期位置は`start_x`と`start_y`とする\n",
        "* ゴールは`goal_x`と`goal_y`とする\n",
        "* ~~エージェントは上下左右にランダムに動く~~\n",
        "* エージェントは上下左右のうち，他の避難者エージェントがいないセルにランダムに動く\n",
        "* データコレクターには以下の情報を格納する\n",
        " * model_reporter：ゴールした人数の累計，Stepごとのゴールした人数\n",
        " * agent_reporter：エージェントの座標とゴールしたかどうかの状態を保持\n"
      ]
    },
    {
      "cell_type": "markdown",
      "metadata": {
        "id": "cT4tIl2qe37Q"
      },
      "source": [
        "実行してみましょう．"
      ]
    },
    {
      "cell_type": "code",
      "metadata": {
        "id": "TdHr2e5MyL4k"
      },
      "source": [
        "class EvacModel(Model):\n",
        "  \"\"\"A model with some number of agents.\"\"\"\n",
        "  # コンストラクタにgoal_xとgoal_yを追加した\n",
        "  def __init__(self, N, width, height, start_x, start_y, goal_x, goal_y):\n",
        "    # 避難者エージェントの数をNに設定する\n",
        "    self.num_agents = N\n",
        "    # MultiGridは同一座標に複数エージェントを配置できるスペース\n",
        "    self.grid = MultiGrid(width, height, torus=False)\n",
        "\n",
        "    # ゴール地点の座標を設定する（goal_xとgoal_y)\n",
        "    self.goal = (goal_x, goal_y)\n",
        "    # 避難完了者をカウントする（0で初期化）\n",
        "    self.evac_comp = 0\n",
        "    # EvacAgentの実行順序をランダムに設定する\n",
        "    self.schedule = RandomActivation(self)\n",
        "\n",
        "    # 避難者エージェントの作成．num_agentsの数だけエージェントを作成する\n",
        "    for i in range(self.num_agents):\n",
        "      a = EvacAgent(i, self)\n",
        "      self.schedule.add(a)\n",
        "      # エージェントを配置する\n",
        "      self.grid.place_agent(a, (start_x, start_y))\n",
        "\n",
        "      # データコレクターの設定\n",
        "      self.datacollector = DataCollector(\n",
        "        model_reporters={\"Goal\": compute_goal, \"evacuator\": goal_pop},\n",
        "        agent_reporters={\"Pos\": \"pos\", \"Goal\": \"mygoal\"})\n",
        "      \n",
        "    self.datacollector.collect(self)\n",
        "     \n",
        "  def step(self):\n",
        "    model.evac_comp = 0\n",
        "    self.schedule.step()\n",
        "    self.datacollector.collect(self)\n"
      ],
      "execution_count": null,
      "outputs": []
    },
    {
      "cell_type": "markdown",
      "metadata": {
        "id": "fqU-7FG3ynhq"
      },
      "source": [
        "## ゴール人数の累計を求める関数"
      ]
    },
    {
      "cell_type": "markdown",
      "metadata": {
        "id": "s6D0BYauf7Ui"
      },
      "source": [
        "こちらも実行します．"
      ]
    },
    {
      "cell_type": "code",
      "metadata": {
        "id": "JnXyfOl6yOSD"
      },
      "source": [
        "\n",
        "# そのステップでゴールした人数を求める関数\n",
        "def goal_pop(model):\n",
        "  return(model.evac_comp)\n",
        "\n",
        "# ゴールした人数の累計を求める関数\n",
        "def compute_goal(model):\n",
        "  agent_goal = sum([agent.mygoal for agent in model.schedule.agents])\n",
        "  return (agent_goal)\n"
      ],
      "execution_count": null,
      "outputs": []
    },
    {
      "cell_type": "markdown",
      "metadata": {
        "id": "VKlZuDV2yg7D"
      },
      "source": [
        "## 避難者エージェントのモデル"
      ]
    },
    {
      "cell_type": "markdown",
      "metadata": {
        "id": "NNbyRSZBf-vj"
      },
      "source": [
        "避難者エージェントも実行しましょう．"
      ]
    },
    {
      "cell_type": "code",
      "metadata": {
        "id": "7eSTa4NsyQ62"
      },
      "source": [
        "class EvacAgent(Agent):\n",
        "\n",
        "  def __init__(self, unique_id, model):\n",
        "    super().__init__(unique_id, model)\n",
        "    self.mygoal = 0\n",
        "    self.wealth = 0\n",
        "\n",
        "  def move(self):\n",
        "    possible_steps = self.model.grid.get_neighborhood(\n",
        "      self.pos,\n",
        "      moore = False,\n",
        "      include_center = False)\n",
        "\n",
        "    # 周囲に移動可能なセルがあるか検索する\n",
        "    possible_steps2 = [a for a in possible_steps if len(self.model.grid.get_cell_list_contents(a)) < 1]\n",
        "\n",
        "    if len(possible_steps2) > 0:\n",
        "      new_position = self.random.choice(possible_steps2)\n",
        "    else:\n",
        "      new_position = self.pos\n",
        "    self.model.grid.move_agent(self, new_position)\n",
        "  \n",
        "  # ゴールに到達したか判定する関数\n",
        "  def if_goal(self):\n",
        "    if self.pos == self.model.goal:\n",
        "      self.mygoal += 1\n",
        "      self.model.evac_comp += 1\n",
        "      # ゴールしたらエージェントを削除する\n",
        "      self.model.grid.remove_agent(self)\n",
        "\n",
        "  def step(self):\n",
        "    if self.mygoal == 0:\n",
        "      self.move()\n",
        "      self.if_goal()\n"
      ],
      "execution_count": null,
      "outputs": []
    },
    {
      "cell_type": "markdown",
      "metadata": {
        "id": "856nZdB8AXVB"
      },
      "source": [
        "# 壁を作る"
      ]
    },
    {
      "cell_type": "markdown",
      "metadata": {
        "id": "gGM6vnSYgX-c"
      },
      "source": [
        "壁は壁エージェントとしてスペースに配置します．\n",
        "前章にて避難者エージェントは他の避難者エージェントがいないセルに移動できるようにしました．\n",
        "壁をエージェントとして実装することにより，\n",
        "避難者エージェントは他のエージェント（他の避難者エージェントと壁エージェント）がいないセルに移動することができます．\n",
        "\n",
        "このようにマルチエージェントシミュレーションではスペース上の地物をエージェントとして実装する事が一般的です．"
      ]
    },
    {
      "cell_type": "markdown",
      "metadata": {
        "id": "PCPkpehqNAIK"
      },
      "source": [
        "## 壁エージェントの定義"
      ]
    },
    {
      "cell_type": "markdown",
      "metadata": {
        "id": "v7PjXlkpLKss"
      },
      "source": [
        "壁エージェントも避難者エージェント同様にオブジェクト`Agent`を継承して作成します．\n",
        "ここでは壁エージェントとして`WallAgent`を定義します．\n",
        "壁エージェントは動きも必要ないのでコンストラクタのみとします．"
      ]
    },
    {
      "cell_type": "code",
      "metadata": {
        "id": "Sc4cg_fLAWiN"
      },
      "source": [
        "class WallAgent(Agent):\n",
        "\n",
        "  def __init__(self, unique_id, model):\n",
        "    super().__init__(unique_id, model)"
      ],
      "execution_count": null,
      "outputs": []
    },
    {
      "cell_type": "markdown",
      "metadata": {
        "id": "LWlnU0W-LcXk"
      },
      "source": [
        "## 壁エージェントをスペースに配置する"
      ]
    },
    {
      "cell_type": "markdown",
      "metadata": {
        "id": "23vOhqRnLf2N"
      },
      "source": [
        "壁エージェントを配置するには以下のようにします．\n",
        "この例ではランダムに10個配置します．  \n",
        "最初のモデルで避難者エージェントをランダムに配置していたのと同じ方法です．\n",
        "  \n",
        "```python\n",
        " for i in range(10):\n",
        "  a = WallAgent(i, self)\n",
        "  # 壁の位置をランダムに決定する\n",
        "  x = self.random.randrange(self.grid.width)\n",
        "  y = self.random.randrange(self.grid.height)\n",
        "  # エージェントを配置する\n",
        "  self.grid.place_agent(a, (x, y))\n",
        "```"
      ]
    },
    {
      "cell_type": "markdown",
      "metadata": {
        "id": "30KFe-1biaWp"
      },
      "source": [
        "また，`EvacModel`に壁の座標を保持するプロパティを追加します．\n",
        "\n",
        "```python\n",
        "self.wall_x = list()\n",
        "self.wall_y = list()\n",
        "```\n",
        "\n",
        "実際に壁の座標を取得するには，壁エージェントを配置した後にプロパティに追加します．．\n",
        "```python\n",
        "self.wall_x.append(x)\n",
        "self.wall_y.append(y)\n",
        "```"
      ]
    },
    {
      "cell_type": "markdown",
      "metadata": {
        "id": "9lJCkw8EiSzn"
      },
      "source": [
        "壁の生成を追加した`EvacModel`は以下のようになります．\n",
        "実行しましょう"
      ]
    },
    {
      "cell_type": "code",
      "metadata": {
        "id": "rWtxCGxhMkf5"
      },
      "source": [
        "class EvacModel(Model):\n",
        "\n",
        "  # コンストラクタにgoal_xとgoal_yを追加した\n",
        "  def __init__(self, N, width, height, start_x, start_y, goal_x, goal_y):\n",
        "    # 避難者エージェントの数をNに設定する\n",
        "    self.num_agents = N\n",
        "    # MultiGridは同一座標に複数エージェントを配置できるスペース\n",
        "    self.grid = MultiGrid(width, height, torus=False)\n",
        "\n",
        "    # 壁の座標を保持するプロパティの定義\n",
        "    self.wall_x = list()\n",
        "    self.wall_y = list()\n",
        "    \n",
        "    # ゴール地点の座標を設定する（goal_xとgoal_y)\n",
        "    self.goal = (goal_x, goal_y)\n",
        "    # 避難完了者をカウントする（0で初期化）\n",
        "    self.evac_comp = 0\n",
        "    # EvacAgentの実行順序をランダムに設定する\n",
        "    self.schedule = RandomActivation(self)\n",
        "\n",
        "    # 避難者エージェントの作成．num_agentsの数だけエージェントを作成する\n",
        "    for i in range(self.num_agents):\n",
        "      a = EvacAgent(i, self)\n",
        "      self.schedule.add(a)\n",
        "      # エージェントを配置する\n",
        "      self.grid.place_agent(a, (start_x, start_y))\n",
        "\n",
        "      # データコレクターの設定\n",
        "      self.datacollector = DataCollector(\n",
        "        model_reporters={\"Goal\": compute_goal, \"evacuator\": goal_pop},\n",
        "        agent_reporters={\"Pos\": \"pos\", \"Goal\": \"mygoal\"})\n",
        "      \n",
        "    self.datacollector.collect(self)\n",
        "  \n",
        "    # 壁エージェントを配置する（とりあえず5個）\n",
        "    for i in range(5):\n",
        "      a = WallAgent(i, self)\n",
        "      # 壁の位置をランダムに決定する\n",
        "      x = self.random.randrange(self.grid.width)\n",
        "      y = self.random.randrange(self.grid.height)\n",
        "      # エージェントを配置する\n",
        "      self.grid.place_agent(a, (x, y))\n",
        "      # 壁の座標を保持する\n",
        "      self.wall_x.append(x)\n",
        "      self.wall_y.append(y)\n",
        "      \n",
        "   \n",
        "  def step(self):\n",
        "    model.evac_comp = 0\n",
        "    self.schedule.step()\n",
        "    self.datacollector.collect(self)\n"
      ],
      "execution_count": null,
      "outputs": []
    },
    {
      "cell_type": "markdown",
      "metadata": {
        "id": "NK6SAnP_ysaq"
      },
      "source": [
        "## モデルの実行"
      ]
    },
    {
      "cell_type": "markdown",
      "metadata": {
        "id": "ofrPDcpZNeAh"
      },
      "source": [
        "とりあえず100ステップ実行します．"
      ]
    },
    {
      "cell_type": "code",
      "metadata": {
        "id": "EJPgJhWHyScz"
      },
      "source": [
        "# モデルを実行する\n",
        "start_x = 4\n",
        "start_y = 4\n",
        "goal_x = 0\n",
        "goal_y = 0\n",
        "\n",
        "model = EvacModel(10, 5, 5, start_x, start_y, goal_x, goal_y)\n",
        "\n",
        "# 100ステップ実行する\n",
        "for i in range(100):\n",
        "  model.step()"
      ],
      "execution_count": null,
      "outputs": []
    },
    {
      "cell_type": "markdown",
      "metadata": {
        "id": "2VIrXb6NkUYP"
      },
      "source": [
        "## 計算結果をアニメーション表示する"
      ]
    },
    {
      "cell_type": "markdown",
      "metadata": {
        "id": "8seSGDgpjdk8"
      },
      "source": [
        "壁の表示部を追加します．\n",
        "壁のxy座標を保持している`wall_x`と`wall_y`の座標に大きめの■をプロットします．\n",
        "```python\n",
        "plt.scatter(model.wall_x, model.wall_y, s = 2000, marker = \"s\")\n",
        "```\n"
      ]
    },
    {
      "cell_type": "markdown",
      "metadata": {
        "id": "V89aVzLpj5PT"
      },
      "source": [
        "組み合わせると以下のようになります．\n",
        "\n",
        "実行しましょう"
      ]
    },
    {
      "cell_type": "code",
      "metadata": {
        "id": "hLQzRZDVdJgq"
      },
      "source": [
        "fig = plt.figure(figsize=(5, 5))\n",
        "ax = fig.add_subplot(111)\n",
        "\n",
        "# ゴールをプロット\n",
        "plt.text(goal_x, goal_y, 'Goal', size=14, ha='center')\n",
        "plt.scatter(goal_x, goal_y, s=800, marker=\"s\")\n",
        "\n",
        "# 壁をプロット\n",
        "plt.scatter(model.wall_x, model.wall_y, c='gray', s=2000, marker=\"s\")\n",
        "\n",
        "ims = []\n",
        "step = 3\n",
        "\n",
        "# 0 Stepめのエージェントの座標を取得する\n",
        "agent_loc = model.datacollector.get_agent_vars_dataframe().xs(0, level='Step')['Pos'].map(lambda x: (0, 0) if x is None else x)\n",
        "x0, y0 = [a for a, b in agent_loc], [b for a, b in agent_loc]\n",
        "\n",
        "for i in tqdm(range(1, 100)):\n",
        "  agent_loc = model.datacollector.get_agent_vars_dataframe().xs(i, level='Step')['Pos'].map(lambda x: (0, 0) if x is None else x)\n",
        "  x, y = [a for a, b in agent_loc], [b for a, b in agent_loc]\n",
        "  dx = (np.array(x) - np.array(x0)) / step\n",
        "  dy = (np.array(y) - np.array(y0)) / step\n",
        "  for u in range(step):\n",
        "    im = ax.scatter(x0 + (dx * u), y0 + (dy * u), s=1000, c=\"red\", marker=\"*\")\n",
        "    # グラフをリストに加える\n",
        "    ims.append([im])\n",
        "  x0 = x\n",
        "  y0 = y\n",
        "\n",
        "ax.set_title('evacuation')\n",
        "ax.set_xlabel('x')\n",
        "ax.set_ylabel('y')\n",
        "\n",
        "# ArtistAnimationにfigオブジェクトとimsを代入してアニメーションを作成\n",
        "anim = animation.ArtistAnimation(fig, ims, interval = 50)\n",
        "\n",
        "# Google Colaboratoryの場合必要\n",
        "rc('animation', html='jshtml')\n",
        "plt.close()\n",
        "anim"
      ],
      "execution_count": null,
      "outputs": []
    },
    {
      "cell_type": "markdown",
      "metadata": {
        "id": "HDGA-v2tl2EA"
      },
      "source": [
        "避難エージェントが壁をよけて移動する様子がわかります．"
      ]
    },
    {
      "cell_type": "markdown",
      "metadata": {
        "id": "0dNwSdpdkYI6"
      },
      "source": [
        "## スペースの状態をグラフ化する"
      ]
    },
    {
      "cell_type": "code",
      "metadata": {
        "id": "KW8j1JCCddUx"
      },
      "source": [
        "%matplotlib inline\n",
        "\n",
        "fig = plt.figure()\n",
        "ax = fig.add_subplot(111)\n",
        "\n",
        "goal = model.datacollector.get_model_vars_dataframe()\n",
        "\n",
        "ax.plot(goal)\n",
        "plt.show"
      ],
      "execution_count": null,
      "outputs": []
    },
    {
      "cell_type": "markdown",
      "metadata": {
        "id": "HE1gDnwukllr"
      },
      "source": [
        "# 任意の位置に壁を生成する"
      ]
    },
    {
      "cell_type": "markdown",
      "metadata": {
        "id": "SVcHxfxul9PL"
      },
      "source": [
        "前の例では壁をランダムに生成してましたが，任意の位置に壁を作ってみましょう．"
      ]
    },
    {
      "cell_type": "markdown",
      "metadata": {
        "id": "YHS4qvGTzGSo"
      },
      "source": [
        "## 壁データの準備"
      ]
    },
    {
      "cell_type": "markdown",
      "metadata": {
        "id": "CRwDoh72mPzX"
      },
      "source": [
        "壁データとしてnumpyのndarray型式の配列を作成します．\n",
        "壁は1，通路は０とします．\n",
        "\n",
        "例えば以下のような壁データは\n",
        "\n",
        "||x0|x1|x2|x3|x4|\n",
        "|-|-|-|-|-|-|\n",
        "|y0|1|0|0|0|0|\n",
        "|y1|0|0|1|0|0|\n",
        "|y2|0|1|1|0|1|\n",
        "|y3|0|0|0|0|0|\n",
        "|y4|0|1|0|0|0|\n",
        "\n",
        "このようなndarrayになります．\n",
        "\n",
        "```python\n",
        "wall = np.array(\n",
        "    [[1,0,0,0,0],\n",
        "     [0,0,1,0,0],\n",
        "     [0,1,1,0,1],\n",
        "     [0,0,0,0,0],\n",
        "     [0,1,0,0,0]])\n",
        "```"
      ]
    },
    {
      "cell_type": "code",
      "metadata": {
        "id": "NJ24mzd2ko5S"
      },
      "source": [
        "wall = np.array(\n",
        "    [[1,0,0,0,0],\n",
        "     [0,0,1,0,0],\n",
        "     [0,1,1,0,1],\n",
        "     [0,0,0,0,0],\n",
        "     [0,1,0,0,0]])"
      ],
      "execution_count": null,
      "outputs": []
    },
    {
      "cell_type": "markdown",
      "metadata": {
        "id": "yPqYN-7WqDGb"
      },
      "source": [
        "壁を配置するには壁の座標が必要です．\n",
        "ndarrayは`np.where`を使って任意の値の要素の列番号と行番号を取得できます．\n",
        "例えば\n",
        "```python\n",
        "np.where(wall >0)\n",
        "```\n",
        "とすれば,値が０より大である要素の行番号と列番号を取得できます．"
      ]
    },
    {
      "cell_type": "code",
      "metadata": {
        "colab": {
          "base_uri": "https://localhost:8080/"
        },
        "id": "IuYTpulImY7B",
        "outputId": "69b4c568-500a-4d27-9800-f4dc9c4e08b3"
      },
      "source": [
        "np.where(wall >0)"
      ],
      "execution_count": null,
      "outputs": [
        {
          "output_type": "execute_result",
          "data": {
            "text/plain": [
              "(array([0, 1, 2, 2, 2, 4]), array([0, 2, 1, 2, 4, 1]))"
            ]
          },
          "metadata": {},
          "execution_count": 17
        }
      ]
    },
    {
      "cell_type": "markdown",
      "metadata": {
        "id": "E6SkO_DLoYvw"
      },
      "source": [
        "戻り値は配列のタプルになっており，０番要素が行番号（y），\n",
        "１番要素が列番号（x）です．"
      ]
    },
    {
      "cell_type": "code",
      "metadata": {
        "id": "243JuSU7ofQx",
        "colab": {
          "base_uri": "https://localhost:8080/"
        },
        "outputId": "9c7a1ea7-9978-4812-f9b0-1516732245ee"
      },
      "source": [
        "y = np.where(wall >0)[0]\n",
        "x = np.where(wall >0)[1]\n",
        "print(x)\n",
        "print(y)"
      ],
      "execution_count": null,
      "outputs": [
        {
          "output_type": "stream",
          "name": "stdout",
          "text": [
            "[0 2 1 2 4 1]\n",
            "[0 1 2 2 2 4]\n"
          ]
        }
      ]
    },
    {
      "cell_type": "markdown",
      "metadata": {
        "id": "wqQwKBTrpH7G"
      },
      "source": [
        "しかし，ndarrayとMesaのスペースは原点の位置が異なります．\n",
        "ndarrayの原点は左上でMesaのスペースの原点は左下です．\n",
        "このためndarrayを上限反転しなくてはMesaのスペース上での正しい座標が取得できません．\n",
        "\n",
        "ndarrayを上下反転するためには`np.flipud`を使います．\n",
        "上下反転して壁の座標を取得するには以下のようにします．\n",
        "\n",
        "```python\n",
        "    wall_y = np.where(np.flipud(self.wall) >0)[0]\n",
        "    wall_x = np.where(np.flipud(self.wall) >0)[1]\n",
        "```\n",
        "壁の座標が取得できたら，取得した座標に壁を配置します．\n",
        "配置する壁の数は`wall_x`の要素数になります．\n",
        "要素数は`len`で取得できます．\n",
        "\n",
        "```python\n",
        "    for i in range(len(wall_x)):\n",
        "      a = WallAgent(i, self)\n",
        "      self.grid.place_agent(a, (wall_x[i], wall_y[i]))\n",
        "```\n",
        "\n",
        "\n"
      ]
    },
    {
      "cell_type": "markdown",
      "metadata": {
        "id": "wVR78duCXLTt"
      },
      "source": [
        "## 壁生成を加えたスペース"
      ]
    },
    {
      "cell_type": "markdown",
      "metadata": {
        "id": "Aq1_GEl8qTbE"
      },
      "source": [
        "壁生成を加えたスペースの定義は以下のようになります．\n",
        "コンストラクタには引数として壁の配列`wall`を加えました．\n",
        "スペースの外で壁データを作成することによりプログラムに柔軟性を持たせています．"
      ]
    },
    {
      "cell_type": "code",
      "metadata": {
        "id": "oJG4tUpAmZ-Z"
      },
      "source": [
        "class EvacModel(Model):\n",
        "\n",
        "  # コンストラクタにwall（壁の位置を示すndarray）を追加した\n",
        "  def __init__(self, N, width, height, start_x, start_y, goal_x, goal_y, wall):\n",
        "    # 避難者エージェントの数をNに設定する\n",
        "    self.num_agents = N\n",
        "    # MultiGridは同一座標に複数エージェントを配置できるスペース\n",
        "    self.grid = MultiGrid(width, height, torus=False)\n",
        "\n",
        "    # 壁の座標を保持するプロパティの定義\n",
        "    self.wall_x = list()\n",
        "    self.wall_y = list()\n",
        "    \n",
        "    # 壁の定義をプロパティとして保持する\n",
        "    self.wall = wall\n",
        "    # ゴール地点の座標を設定する（goal_xとgoal_y)\n",
        "    self.goal = (goal_x, goal_y)\n",
        "    # 避難完了者をカウントする（0で初期化）\n",
        "    self.evac_comp = 0\n",
        "    # EvacAgentの実行順序をランダムに設定する\n",
        "    self.schedule = RandomActivation(self)\n",
        "\n",
        "    # 避難者エージェントの作成．num_agentsの数だけエージェントを作成する\n",
        "    for i in range(self.num_agents):\n",
        "      a = EvacAgent(i, self)\n",
        "      self.schedule.add(a)\n",
        "      # エージェントを配置する\n",
        "      self.grid.place_agent(a, (start_x, start_y))\n",
        "\n",
        "      # データコレクターの設定\n",
        "      self.datacollector = DataCollector(\n",
        "        model_reporters={\"Goal\": compute_goal, \"evacuator\": goal_pop},\n",
        "        agent_reporters={\"Pos\": \"pos\", \"Goal\": \"mygoal\"})\n",
        "\n",
        "    # 避難者エージェント配置直後（初期状態）の状況をデータコレクターで取得  \n",
        "    self.datacollector.collect(self)\n",
        "  \n",
        "    # 壁エージェントを配置する\n",
        "    # 壁の配列から座標を取得する．壁の配列は上下反転させる\n",
        "    wall_y = np.where(np.flipud(self.wall) >0)[0]\n",
        "    wall_x = np.where(np.flipud(self.wall) >0)[1]\n",
        "    # 取得した壁の座標に壁エージェントを配置する\n",
        "    for i in range(len(wall_x)):\n",
        "      a = WallAgent(i, self)\n",
        "      self.grid.place_agent(a, (wall_x[i], wall_y[i]))\n",
        "      # 壁の座標を保持する\n",
        "      self.wall_x.append(wall_x[i])\n",
        "      self.wall_y.append(wall_y[i])\n",
        "      \n",
        "  def step(self):\n",
        "    model.evac_comp = 0\n",
        "    self.schedule.step()\n",
        "    self.datacollector.collect(self)\n"
      ],
      "execution_count": null,
      "outputs": []
    },
    {
      "cell_type": "markdown",
      "metadata": {
        "id": "_koMrdKRXZe_"
      },
      "source": [
        "## モデルの実行"
      ]
    },
    {
      "cell_type": "markdown",
      "metadata": {
        "id": "897GlqW2q2G-"
      },
      "source": [
        "モデルの実行部分で壁を定義しています．\n",
        "実行してみましょう．"
      ]
    },
    {
      "cell_type": "code",
      "metadata": {
        "id": "fsI1v3tRrODI"
      },
      "source": [
        "# モデルを実行する\n",
        "start_x = 4\n",
        "start_y = 4\n",
        "goal_x = 0\n",
        "goal_y = 0\n",
        "\n",
        "# 壁の定義（1: 壁，0: 通路）\n",
        "wall = np.array(\n",
        "    [[1,0,0,0,0],\n",
        "     [0,0,1,0,0],\n",
        "     [0,1,1,0,1],\n",
        "     [0,0,0,0,0],\n",
        "     [0,1,0,0,0]])\n",
        "\n",
        "# モデルの生成，引数として壁の定義を加える\n",
        "model = EvacModel(10, 5, 5, start_x, start_y, goal_x, goal_y, wall)\n",
        "\n",
        "# 100ステップ実行する\n",
        "for i in range(100):\n",
        "  model.step()"
      ],
      "execution_count": null,
      "outputs": []
    },
    {
      "cell_type": "markdown",
      "metadata": {
        "id": "jaJjP-eqzA8S"
      },
      "source": [
        "## 計算結果をアニメーション表示する"
      ]
    },
    {
      "cell_type": "markdown",
      "metadata": {
        "id": "6sRM-Nja1wOQ"
      },
      "source": [
        "計算結果のアニメーションも少し改良します．\n",
        "\n",
        "壁データはndarrayとして与えられているので，\n",
        "imshowを使ってプロットすることができます．例えば以下のようにです．\n"
      ]
    },
    {
      "cell_type": "code",
      "metadata": {
        "colab": {
          "base_uri": "https://localhost:8080/",
          "height": 282
        },
        "id": "-M-5b0bc2GQs",
        "outputId": "87cb5133-1a5f-4634-d967-41ab71d5e8b3"
      },
      "source": [
        "plt.imshow(wall)"
      ],
      "execution_count": null,
      "outputs": [
        {
          "output_type": "execute_result",
          "data": {
            "text/plain": [
              "<matplotlib.image.AxesImage at 0x7fa47abbcdd0>"
            ]
          },
          "metadata": {},
          "execution_count": 21
        },
        {
          "output_type": "display_data",
          "data": {
            "image/png": "[encoded data removed]",
            "text/plain": [
              "<Figure size 432x288 with 1 Axes>"
            ]
          },
          "metadata": {
            "needs_background": "light"
          }
        }
      ]
    },
    {
      "cell_type": "markdown",
      "metadata": {
        "id": "snsbKF7j2Mcs"
      },
      "source": [
        "ただし，plt.scatterの原点が左下なのに対し，plt.imshowの原点は左上になっています．\n",
        "このため，`origin='lower'`を使ってplt.imshowの原点を左下にします．"
      ]
    },
    {
      "cell_type": "code",
      "metadata": {
        "colab": {
          "base_uri": "https://localhost:8080/",
          "height": 282
        },
        "id": "FoK5sYv92mS5",
        "outputId": "90dd01d6-0fb1-44b7-8263-9394cf59ad42"
      },
      "source": [
        "plt.imshow(wall, origin='lower')"
      ],
      "execution_count": null,
      "outputs": [
        {
          "output_type": "execute_result",
          "data": {
            "text/plain": [
              "<matplotlib.image.AxesImage at 0x7fa47ab9fed0>"
            ]
          },
          "metadata": {},
          "execution_count": 22
        },
        {
          "output_type": "display_data",
          "data": {
            "image/png": "[encoded data removed]",
            "text/plain": [
              "<Figure size 432x288 with 1 Axes>"
            ]
          },
          "metadata": {
            "needs_background": "light"
          }
        }
      ]
    },
    {
      "cell_type": "markdown",
      "metadata": {
        "id": "6OJSR4Cd2rNR"
      },
      "source": [
        "原点は下に来ましたが，画像が上下反転しています．\n",
        "このため，`np.flipud`を使って壁の配列を上下反転させます．"
      ]
    },
    {
      "cell_type": "code",
      "metadata": {
        "colab": {
          "base_uri": "https://localhost:8080/",
          "height": 282
        },
        "id": "EuJzHcjH24YO",
        "outputId": "cc98813f-75ce-4b3d-e6f6-76d7d2f917aa"
      },
      "source": [
        "plt.imshow(np.flipud(wall), origin='lower')"
      ],
      "execution_count": null,
      "outputs": [
        {
          "output_type": "execute_result",
          "data": {
            "text/plain": [
              "<matplotlib.image.AxesImage at 0x7fa47aafec90>"
            ]
          },
          "metadata": {},
          "execution_count": 23
        },
        {
          "output_type": "display_data",
          "data": {
            "image/png": "[encoded data removed]",
            "text/plain": [
              "<Figure size 432x288 with 1 Axes>"
            ]
          },
          "metadata": {
            "needs_background": "light"
          }
        }
      ]
    },
    {
      "cell_type": "markdown",
      "metadata": {
        "id": "dAHSVk1Q3IDa"
      },
      "source": [
        "これで`plt.imshow`の壁表示と`plt.scatter`の座標が一致しました．\n",
        "\n",
        "以上を踏まえて，`plt.imshow`を使って壁を表示するように改良しました．"
      ]
    },
    {
      "cell_type": "code",
      "metadata": {
        "id": "t_RAh1bLvLNv"
      },
      "source": [
        "fig = plt.figure(figsize=(5, 5))\n",
        "ax = fig.add_subplot(111)\n",
        "\n",
        "# ゴールをプロット\n",
        "plt.text(goal_x, goal_y, 'Goal', size=14, ha='center')\n",
        "plt.scatter(goal_x, goal_y, s=800, marker=\"s\")\n",
        "\n",
        "# imshowを使って壁配列を描画する．原点の移動と配列の上下反転を行う．\n",
        "plt.imshow(np.flipud(wall), origin='lower')\n",
        "\n",
        "# 壁をプロット\n",
        "plt.scatter(model.wall_x, model.wall_y, c='gray', s=2000, marker=\"s\")\n",
        "\n",
        "ims = []\n",
        "step = 3\n",
        "\n",
        "# 0 Stepめのエージェントの座標を取得する\n",
        "agent_loc = model.datacollector.get_agent_vars_dataframe().xs(0, level='Step')['Pos'].map(lambda x: (0, 0) if x is None else x)\n",
        "x0, y0 = [a for a, b in agent_loc], [b for a, b in agent_loc]\n",
        "\n",
        "for i in tqdm(range(1, 100)):\n",
        "  agent_loc = model.datacollector.get_agent_vars_dataframe().xs(i, level='Step')['Pos'].map(lambda x: (0, 0) if x is None else x)\n",
        "  x, y = [a for a, b in agent_loc], [b for a, b in agent_loc]\n",
        "  dx = (np.array(x) - np.array(x0)) / step\n",
        "  dy = (np.array(y) - np.array(y0)) / step\n",
        "  for u in range(step):\n",
        "    im = ax.scatter(x0 + (dx * u), y0 + (dy * u), s=1000, c=\"red\", marker=\"*\")\n",
        "    # グラフをリストに加える\n",
        "    ims.append([im])\n",
        "  x0 = x\n",
        "  y0 = y\n",
        "\n",
        "ax.set_title('evacuation')\n",
        "ax.set_xlabel('x')\n",
        "ax.set_ylabel('y')\n",
        "\n",
        "# ArtistAnimationにfigオブジェクトとimsを代入してアニメーションを作成\n",
        "anim = animation.ArtistAnimation(fig, ims, interval = 50)\n",
        "\n",
        "# Google Colaboratoryの場合必要\n",
        "rc('animation', html='jshtml')\n",
        "plt.close()\n",
        "anim"
      ],
      "execution_count": null,
      "outputs": []
    },
    {
      "cell_type": "markdown",
      "metadata": {
        "id": "2M2hVWnU3T-O"
      },
      "source": [
        "## スペースの状態をグラフ化する"
      ]
    },
    {
      "cell_type": "code",
      "metadata": {
        "id": "g52ISfWj3bhV"
      },
      "source": [
        "%matplotlib inline\n",
        "\n",
        "fig = plt.figure()\n",
        "ax = fig.add_subplot(111)\n",
        "\n",
        "goal = model.datacollector.get_model_vars_dataframe()\n",
        "\n",
        "ax.plot(goal)\n",
        "plt.show"
      ],
      "execution_count": null,
      "outputs": []
    },
    {
      "cell_type": "markdown",
      "metadata": {
        "id": "2NS77fr0WztU"
      },
      "source": [
        "# ここまでのまとめ"
      ]
    },
    {
      "cell_type": "markdown",
      "metadata": {
        "id": "DjDw8AYusiMM"
      },
      "source": [
        "ここまでの内容をまとめました．"
      ]
    },
    {
      "cell_type": "markdown",
      "metadata": {
        "id": "Npjx4dKoW5dK"
      },
      "source": [
        "## スペースとエージェントを定義してモデルを実行する"
      ]
    },
    {
      "cell_type": "code",
      "metadata": {
        "id": "cWktYzDGXBXd"
      },
      "source": [
        "%pip install mesa\n",
        "%matplotlib notebook\n",
        "\n",
        "import numpy as np\n",
        "from tqdm import tqdm\n",
        "\n",
        "import matplotlib.pyplot as plt\n",
        "from matplotlib import animation, rc\n",
        "from matplotlib.animation import ArtistAnimation\n",
        "from IPython.display import HTML\n",
        "\n",
        "from mesa import Agent, Model\n",
        "from mesa.space import MultiGrid\n",
        "from mesa.space import SingleGrid\n",
        "from mesa.time import RandomActivation\n",
        "from mesa.datacollection import DataCollector\n",
        "\n",
        "# スペースの定義\n",
        "class EvacModel(Model):\n",
        "\n",
        "  # コンストラクタにwall（壁の位置を示すndarray）を追加した\n",
        "  def __init__(self, N, width, height, start_x, start_y, goal_x, goal_y, wall):\n",
        "    # 避難者エージェントの数をNに設定する\n",
        "    self.num_agents = N\n",
        "    # MultiGridは同一座標に複数エージェントを配置できるスペース\n",
        "    self.grid = MultiGrid(width, height, torus=False)\n",
        "\n",
        "    # 壁の座標を保持するプロパティの定義\n",
        "    self.wall_x = list()\n",
        "    self.wall_y = list()\n",
        "    \n",
        "    # 壁の定義をプロパティとして保持する\n",
        "    self.wall = wall\n",
        "    # ゴール地点の座標を設定する（goal_xとgoal_y)\n",
        "    self.goal = (goal_x, goal_y)\n",
        "    # 避難完了者をカウントする（0で初期化）\n",
        "    self.evac_comp = 0\n",
        "    # EvacAgentの実行順序をランダムに設定する\n",
        "    self.schedule = RandomActivation(self)\n",
        "\n",
        "    # 避難者エージェントの作成．num_agentsの数だけエージェントを作成する\n",
        "    for i in range(self.num_agents):\n",
        "      a = EvacAgent(i, self)\n",
        "      self.schedule.add(a)\n",
        "      # エージェントを配置する\n",
        "      self.grid.place_agent(a, (start_x, start_y))\n",
        "\n",
        "      # データコレクターの設定\n",
        "      self.datacollector = DataCollector(\n",
        "        model_reporters={\"Goal\": compute_goal, \"evacuator\": goal_pop},\n",
        "        agent_reporters={\"Pos\": \"pos\", \"Goal\": \"mygoal\"})\n",
        "\n",
        "    # 避難者エージェント配置直後（初期状態）の状況をデータコレクターで取得  \n",
        "    self.datacollector.collect(self)\n",
        "  \n",
        "    # 壁エージェントを配置する\n",
        "    # 壁の配列から座標を取得する．壁の配列は上下反転させる\n",
        "    wall_y = np.where(np.flipud(self.wall) >0)[0]\n",
        "    wall_x = np.where(np.flipud(self.wall) >0)[1]\n",
        "    # 取得した壁の座標に壁エージェントを配置する\n",
        "    for i in range(len(wall_x)):\n",
        "      a = WallAgent(i, self)\n",
        "      self.grid.place_agent(a, (wall_x[i], wall_y[i]))\n",
        "      # 壁の座標を保持する\n",
        "      self.wall_x.append(wall_x[i])\n",
        "      self.wall_y.append(wall_y[i])\n",
        "      \n",
        "  def step(self):\n",
        "    model.evac_comp = 0\n",
        "    self.schedule.step()\n",
        "    self.datacollector.collect(self)\n",
        "\n",
        "# そのステップでゴールした人数を求める関数\n",
        "def goal_pop(model):\n",
        "  return(model.evac_comp)\n",
        "\n",
        "# ゴールした人数の累計を求める関数\n",
        "def compute_goal(model):\n",
        "  agent_goal = sum([agent.mygoal for agent in model.schedule.agents])\n",
        "  return (agent_goal)\n",
        "\n",
        "# 避難者エージェントの定義\n",
        "class EvacAgent(Agent):\n",
        "\n",
        "  def __init__(self, unique_id, model):\n",
        "    super().__init__(unique_id, model)\n",
        "    self.mygoal = 0\n",
        "    self.wealth = 0\n",
        "\n",
        "  # エージェントの移動\n",
        "  def move(self):\n",
        "    possible_steps = self.model.grid.get_neighborhood(\n",
        "      self.pos,\n",
        "      moore = False,\n",
        "      include_center = False)\n",
        "\n",
        "    # 周囲に移動可能なセルがあるか検索する\n",
        "    possible_steps2 = [a for a in possible_steps if len(self.model.grid.get_cell_list_contents(a)) < 1]\n",
        "\n",
        "    if len(possible_steps2) > 0:\n",
        "      new_position = self.random.choice(possible_steps2)\n",
        "    else:\n",
        "      new_position = self.pos\n",
        "    self.model.grid.move_agent(self, new_position)\n",
        "  \n",
        "  # ゴールに到達したか判定する関数\n",
        "  def if_goal(self):\n",
        "    if self.pos == self.model.goal:\n",
        "      self.mygoal += 1\n",
        "      self.model.evac_comp += 1\n",
        "      # ゴールしたらエージェントを削除する\n",
        "      self.model.grid.remove_agent(self)\n",
        "\n",
        "  def step(self):\n",
        "    if self.mygoal == 0:\n",
        "      self.move()\n",
        "      self.if_goal()\n",
        "\n",
        "# 壁エージェントの定義\n",
        "class WallAgent(Agent):\n",
        "\n",
        "  def __init__(self, unique_id, model):\n",
        "    super().__init__(unique_id, model)\n",
        "\n",
        "# モデルを実行する\n",
        "start_x = 4\n",
        "start_y = 4\n",
        "goal_x = 0\n",
        "goal_y = 0\n",
        "\n",
        "# 壁の定義（1: 壁，0: 通路）\n",
        "wall = np.array(\n",
        "    [[1,0,0,0,0],\n",
        "     [0,0,1,0,0],\n",
        "     [0,1,1,0,1],\n",
        "     [0,0,0,0,0],\n",
        "     [0,1,0,0,0]])\n",
        "\n",
        "# モデルの生成，引数として壁の定義を加える\n",
        "model = EvacModel(10, 5, 5, start_x, start_y, goal_x, goal_y, wall)\n",
        "\n",
        "# 100ステップ実行する\n",
        "for i in range(100):\n",
        "  model.step()"
      ],
      "execution_count": null,
      "outputs": []
    },
    {
      "cell_type": "markdown",
      "metadata": {
        "id": "q5uPE7rLXeIW"
      },
      "source": [
        "## 計算結果のアニメーション"
      ]
    },
    {
      "cell_type": "code",
      "metadata": {
        "id": "5Ub31eaqXii2"
      },
      "source": [
        "fig = plt.figure(figsize=(5, 5))\n",
        "ax = fig.add_subplot(111)\n",
        "\n",
        "# ゴールをプロット\n",
        "plt.text(goal_x, goal_y, 'Goal', size=14, ha='center')\n",
        "plt.scatter(goal_x, goal_y, s=800, marker=\"s\")\n",
        "\n",
        "# imshowを使って壁配列を描画する．原点の移動と配列の上下反転を行う．\n",
        "plt.imshow(np.flipud(wall), origin='lower')\n",
        "\n",
        "# 壁をプロット\n",
        "plt.scatter(model.wall_x, model.wall_y, c='gray', s=2000, marker=\"s\")\n",
        "\n",
        "ims = []\n",
        "step = 3\n",
        "\n",
        "# 0 Stepめのエージェントの座標を取得する\n",
        "agent_loc = model.datacollector.get_agent_vars_dataframe().xs(0, level='Step')['Pos'].map(lambda x: (0, 0) if x is None else x)\n",
        "x0, y0 = [a for a, b in agent_loc], [b for a, b in agent_loc]\n",
        "\n",
        "for i in tqdm(range(1, 100)):\n",
        "  agent_loc = model.datacollector.get_agent_vars_dataframe().xs(i, level='Step')['Pos'].map(lambda x: (0, 0) if x is None else x)\n",
        "  x, y = [a for a, b in agent_loc], [b for a, b in agent_loc]\n",
        "  dx = (np.array(x) - np.array(x0)) / step\n",
        "  dy = (np.array(y) - np.array(y0)) / step\n",
        "  for u in range(step):\n",
        "    im = ax.scatter(x0 + (dx * u), y0 + (dy * u), s=1000, c=\"red\", marker=\"*\")\n",
        "    # グラフをリストに加える\n",
        "    ims.append([im])\n",
        "  x0 = x\n",
        "  y0 = y\n",
        "\n",
        "ax.set_title('evacuation')\n",
        "ax.set_xlabel('x')\n",
        "ax.set_ylabel('y')\n",
        "\n",
        "# ArtistAnimationにfigオブジェクトとimsを代入してアニメーションを作成\n",
        "anim = animation.ArtistAnimation(fig, ims, interval = 50)\n",
        "\n",
        "# Google Colaboratoryの場合必要\n",
        "rc('animation', html='jshtml')\n",
        "plt.close()\n",
        "anim"
      ],
      "execution_count": null,
      "outputs": []
    },
    {
      "cell_type": "markdown",
      "metadata": {
        "id": "xxKJ0BesXnpb"
      },
      "source": [
        "## スペースの状態をグラフ化する"
      ]
    },
    {
      "cell_type": "code",
      "metadata": {
        "id": "Mj_Q9IGuXnD0"
      },
      "source": [
        "%matplotlib inline\n",
        "\n",
        "fig = plt.figure()\n",
        "ax = fig.add_subplot(111)\n",
        "\n",
        "goal = model.datacollector.get_model_vars_dataframe()\n",
        "\n",
        "ax.plot(goal)\n",
        "plt.show"
      ],
      "execution_count": null,
      "outputs": []
    }
  ]
}