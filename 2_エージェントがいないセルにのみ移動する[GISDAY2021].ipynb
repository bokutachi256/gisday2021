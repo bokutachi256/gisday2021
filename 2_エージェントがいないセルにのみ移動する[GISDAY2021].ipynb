{
  "nbformat": 4,
  "nbformat_minor": 0,
  "metadata": {
    "colab": {
      "name": "2. エージェントがいないセルにのみ移動する[GISDAY2021]",
      "provenance": [],
      "collapsed_sections": [],
      "toc_visible": true,
      "authorship_tag": "ABX9TyO2x3Mm4vvbQbBHRPywpMaj",
      "include_colab_link": true
    },
    "kernelspec": {
      "display_name": "Python 3",
      "name": "python3"
    },
    "language_info": {
      "name": "python"
    }
  },
  "cells": [
    {
      "cell_type": "markdown",
      "metadata": {
        "id": "view-in-github",
        "colab_type": "text"
      },
      "source": [
        "<a href=\"https://colab.research.google.com/github/bokutachi256/gisday2021/blob/main/2_%E3%82%A8%E3%83%BC%E3%82%B8%E3%82%A7%E3%83%B3%E3%83%88%E3%81%8C%E3%81%84%E3%81%AA%E3%81%84%E3%82%BB%E3%83%AB%E3%81%AB%E3%81%AE%E3%81%BF%E7%A7%BB%E5%8B%95%E3%81%99%E3%82%8B%5BGISDAY2021%5D.ipynb\" target=\"_parent\"><img src=\"https://colab.research.google.com/assets/colab-badge.svg\" alt=\"Open In Colab\"/></a>"
      ]
    },
    {
      "cell_type": "markdown",
      "metadata": {
        "id": "xGiF9Y62uC-i"
      },
      "source": [
        "* Pythonで作るマルチエージェントシミュレーション\n",
        "* 東京都立大学 都市環境学部 地理環境学科 中山大地\n",
        "* 2021年12月4日 東京都立大学 南大沢キャンパス（オンライン開催）\n",
        "* このテキストのURL [https://github.com/bokutachi256/gisday2021](https://github.com/bokutachi256/gisday2021)\n",
        "* Google ColaboratoryのURL [https://colab.research.google.com/](https://colab.research.google.com/)\n",
        "* MESAのURL [https://mesa.readthedocs.io/](https://mesa.readthedocs.io/)"
      ]
    },
    {
      "cell_type": "markdown",
      "metadata": {
        "id": "_LJkCWljCt7m"
      },
      "source": [
        "# この章でやること"
      ]
    },
    {
      "cell_type": "markdown",
      "metadata": {
        "id": "Cdp_4vmRC2eG"
      },
      "source": [
        "この章では避難者エージェントの行動ルールを改良します．\n",
        "具体的には避難者エージェントは他の避難者エージェントがいないセルにのみ移動するようにします．"
      ]
    },
    {
      "cell_type": "markdown",
      "metadata": {
        "id": "ZL6rKtZFXn1O"
      },
      "source": [
        "# Mesaのインストール"
      ]
    },
    {
      "cell_type": "code",
      "metadata": {
        "id": "0V-PcNU2aDPz"
      },
      "source": [
        "%pip install mesa"
      ],
      "execution_count": null,
      "outputs": []
    },
    {
      "cell_type": "markdown",
      "metadata": {
        "id": "dvCnFtF_Xym8"
      },
      "source": [
        "# 必要ライブラリのインポート"
      ]
    },
    {
      "cell_type": "code",
      "metadata": {
        "id": "FfqRu70mvuN4"
      },
      "source": [
        "%matplotlib notebook\n",
        "\n",
        "import numpy as np\n",
        "from tqdm import tqdm\n",
        "\n",
        "import matplotlib.pyplot as plt\n",
        "from matplotlib import animation, rc\n",
        "from matplotlib.animation import ArtistAnimation\n",
        "from IPython.display import HTML\n",
        "\n",
        "from mesa import Agent, Model\n",
        "from mesa.space import MultiGrid\n",
        "from mesa.space import SingleGrid\n",
        "from mesa.time import RandomActivation\n",
        "from mesa.datacollection import DataCollector"
      ],
      "execution_count": null,
      "outputs": []
    },
    {
      "cell_type": "markdown",
      "metadata": {
        "id": "jzMzgLigZft1"
      },
      "source": [
        "# 当初のモデルの改変"
      ]
    },
    {
      "cell_type": "markdown",
      "metadata": {
        "id": "PjgS7k_BV5-x"
      },
      "source": [
        "## スペースのモデルを改造して避難者エージェントのスタート地点を作る\n",
        "\n",
        "\n",
        "\n"
      ]
    },
    {
      "cell_type": "markdown",
      "metadata": {
        "id": "8r3crosgDWSh"
      },
      "source": [
        "前の章で作成したスペースは以下のようになっていました．\n",
        "\n",
        "* スペースはMultiGridを使う\n",
        "* エージェントの初期位置はランダムに決定する\n",
        "* ゴールは`goal_x`と`goal_y`とする\n",
        "* データコレクターには以下の情報を格納する\n",
        " * model_reporter：ゴールした人数の累計，Stepごとのゴールした人数\n",
        " * agent_reporter：エージェントの座標とゴールしたかどうかの状態を保持\n",
        "\n",
        "```python\n",
        "class EvacModel(Model):\n",
        "  def __init__(self, N, width, height, goal_x, goal_y):\n",
        "    # 避難者エージェントの数をNに設定する\n",
        "    self.num_agents = N\n",
        "    # MultiGridは同一座標に複数エージェントを配置できるスペース\n",
        "    self.grid = MultiGrid(width, height, torus=False)\n",
        "    # ゴール地点の座標を設定する（goal_xとgoal_y)\n",
        "    self.goal = (goal_x, goal_y)\n",
        "    # 避難完了者をカウントする（0で初期化）\n",
        "    self.evac_comp = 0\n",
        "    # EvacAgentの実行順序をランダムに設定する\n",
        "    self.schedule = RandomActivation(self)\n",
        "\n",
        "    # 避難者エージェントの作成．num_agentsの数だけエージェントを作成する\n",
        "    for i in range(self.num_agents):\n",
        "      a = EvacAgent(i, self)\n",
        "      self.schedule.add(a)\n",
        "      # エージェントの初期位置をランダムに決定する\n",
        "      x = self.random.randrange(self.grid.width)\n",
        "      y = self.random.randrange(self.grid.height)\n",
        "      # エージェントを配置する\n",
        "      self.grid.place_agent(a, (x, y))\n",
        "\n",
        "      # データコレクターの設定\n",
        "      self.datacollector = DataCollector(\n",
        "        model_reporters={\"Goal\": compute_goal, \"evacuator\": goal_pop},\n",
        "        agent_reporters={\"Pos\": \"pos\", \"Goal\": \"mygoal\"})\n",
        "      \n",
        "    self.datacollector.collect(self)\n",
        "      \n",
        "  def step(self):\n",
        "    model.evac_comp = 0\n",
        "    self.schedule.step()\n",
        "    self.datacollector.collect(self)\n",
        "```"
      ]
    },
    {
      "cell_type": "markdown",
      "metadata": {
        "id": "4iDsrOGnNiUg"
      },
      "source": [
        "このモデルを改良して，避難者エージェントのスタート地点を固定します．\n",
        "スペースのコンストラクタに避難者エージェントのスタート地点を表す引数を追加し，\n",
        "その座標に避難者エージェントを配置します．\n",
        "\n",
        "コンストラクタは以下のようになります．\n",
        "\n",
        "```python\n",
        "  def __init__(self, N, width, height, start_x, start_y, goal_x, goal_y):\n",
        "```\n",
        "\n",
        "エージェントの配置部分は以下のように変更します．\n",
        "\n",
        "```python\n",
        "      self.grid.place_agent(a, (start_x, start_y))\n",
        "```"
      ]
    },
    {
      "cell_type": "markdown",
      "metadata": {
        "id": "boUaca09OZko"
      },
      "source": [
        "まとめるとこのようになります．"
      ]
    },
    {
      "cell_type": "code",
      "metadata": {
        "id": "CTPI6ualadfl"
      },
      "source": [
        "class EvacModel(Model):\n",
        "  def __init__(self, N, width, height, start_x, start_y, goal_x, goal_y):\n",
        "    # 避難者エージェントの数をNに設定する\n",
        "    self.num_agents = N\n",
        "    # MultiGridは同一座標に複数エージェントを配置できるスペース\n",
        "    self.grid = MultiGrid(width, height, torus=False)\n",
        "    # ゴール地点の座標を設定する（goal_xとgoal_y)\n",
        "    self.goal = (goal_x, goal_y)\n",
        "    # 避難完了者をカウントする（0で初期化）\n",
        "    self.evac_comp = 0\n",
        "    # EvacAgentの実行順序をランダムに設定する\n",
        "    self.schedule = RandomActivation(self)\n",
        "\n",
        "    # 避難者エージェントの作成．num_agentsの数だけエージェントを作成する\n",
        "    for i in range(self.num_agents):\n",
        "      a = EvacAgent(i, self)\n",
        "      self.schedule.add(a)\n",
        "      # エージェントを配置する\n",
        "      self.grid.place_agent(a, (start_x, start_y))\n",
        "\n",
        "      # データコレクターの設定\n",
        "      self.datacollector = DataCollector(\n",
        "        model_reporters={\"Goal\": compute_goal, \"evacuator\": goal_pop},\n",
        "        agent_reporters={\"Pos\": \"pos\", \"Goal\": \"mygoal\"})\n",
        "      \n",
        "    self.datacollector.collect(self)\n",
        "      \n",
        "  def step(self):\n",
        "    model.evac_comp = 0\n",
        "    self.schedule.step()\n",
        "    self.datacollector.collect(self)\n"
      ],
      "execution_count": null,
      "outputs": []
    },
    {
      "cell_type": "markdown",
      "metadata": {
        "id": "nvsHzQJdFiSu"
      },
      "source": [
        "## ゴール人数の累計を求める関数"
      ]
    },
    {
      "cell_type": "markdown",
      "metadata": {
        "id": "7XxgO-X8OhLX"
      },
      "source": [
        "こちらは変更ありません．"
      ]
    },
    {
      "cell_type": "code",
      "metadata": {
        "id": "KuIBhNkY-L6r"
      },
      "source": [
        "# そのステップでゴールした人数を求める関数\n",
        "def goal_pop(model):\n",
        "  return(model.evac_comp)\n",
        "\n",
        "# ゴールした人数の累計を求める関数\n",
        "def compute_goal(model):\n",
        "  agent_goal = sum([agent.mygoal for agent in model.schedule.agents])\n",
        "  return (agent_goal)"
      ],
      "execution_count": null,
      "outputs": []
    },
    {
      "cell_type": "markdown",
      "metadata": {
        "id": "rF7WzR8s0joB"
      },
      "source": [
        "## 避難者エージェントの定義\n",
        "\n"
      ]
    },
    {
      "cell_type": "markdown",
      "metadata": {
        "id": "HuzkqkfvOjSB"
      },
      "source": [
        "これも変更ありません．"
      ]
    },
    {
      "cell_type": "code",
      "metadata": {
        "id": "QKyd3hJkabqd"
      },
      "source": [
        "class EvacAgent(Agent):\n",
        "\n",
        "  def __init__(self, unique_id, model):\n",
        "    super().__init__(unique_id, model)\n",
        "    self.mygoal = 0\n",
        "\n",
        "  def move(self):\n",
        "    possible_steps = self.model.grid.get_neighborhood(\n",
        "      pos=self.pos,\n",
        "      moore = False,\n",
        "      include_center = False)\n",
        "    new_position = self.random.choice(possible_steps)\n",
        "    self.model.grid.move_agent(self, new_position)\n",
        "\n",
        "  # ゴールに到達したか判定する関数\n",
        "  def if_goal(self):\n",
        "    if self.pos == self.model.goal:\n",
        "      self.mygoal += 1\n",
        "      self.model.evac_comp += 1\n",
        "\n",
        "  def step(self):\n",
        "    if self.mygoal == 0:\n",
        "      self.move()\n",
        "      self.if_goal()\n"
      ],
      "execution_count": null,
      "outputs": []
    },
    {
      "cell_type": "markdown",
      "metadata": {
        "id": "gWagkCze8pRa"
      },
      "source": [
        "## シミュレーションを実行する"
      ]
    },
    {
      "cell_type": "markdown",
      "metadata": {
        "id": "KY2C1pCvOxPq"
      },
      "source": [
        "スタート地点を表す`start_x`と`start_y`を作り，\n",
        "スペースのインスタンス生成に加えます．"
      ]
    },
    {
      "cell_type": "code",
      "metadata": {
        "id": "Fbm6ih8ROvVb"
      },
      "source": [
        "start_x = 4\n",
        "start_y = 4\n",
        "goal_x = 0\n",
        "goal_y = 0\n",
        "\n",
        "model = EvacModel(10, 5, 5, start_x, start_y, goal_x, goal_y)\n",
        "\n",
        "while min([agent.mygoal for agent in model.schedule.agents]) < 1:\n",
        "  model.step()"
      ],
      "execution_count": null,
      "outputs": []
    },
    {
      "cell_type": "markdown",
      "metadata": {
        "id": "PLe0X2-fEYE7"
      },
      "source": [
        "## 計算結果のアニメーション"
      ]
    },
    {
      "cell_type": "markdown",
      "metadata": {
        "id": "YUOMPTTMPB4t"
      },
      "source": [
        "計算結果のアニメーションを作成します．"
      ]
    },
    {
      "cell_type": "code",
      "metadata": {
        "id": "me85rrg7pwWI"
      },
      "source": [
        "fig = plt.figure(figsize = (5, 5))\n",
        "ax = fig.add_subplot(111)\n",
        "\n",
        "# ゴールをプロット\n",
        "plt.text(goal_x, goal_y, 'Goal', size = 14, ha = 'center')\n",
        "plt.scatter(goal_x, goal_y, s = 800, marker = \"s\")\n",
        "\n",
        "ims = []\n",
        "step = 3\n",
        "\n",
        "# 0 Stepめのエージェントの座標を取得する\n",
        "agent_loc = model.datacollector.get_agent_vars_dataframe().xs(0, level='Step')['Pos']\n",
        "x0, y0 = [a for a, b in agent_loc], [b for a, b in agent_loc]\n",
        "\n",
        "for i in tqdm(range(1, 100)): \n",
        "  agent_loc = model.datacollector.get_agent_vars_dataframe().xs(i, level='Step')['Pos']\n",
        "  x, y = [a for a, b in agent_loc], [b for a, b in agent_loc]\n",
        "  dx = (np.array(x) - np.array(x0)) / step\n",
        "  dy = (np.array(y) - np.array(y0)) / step\n",
        "  for u in range(step):\n",
        "    im = ax.scatter(x0 + (dx * u), y0 + (dy * u), s=1000, c=\"red\", marker=\"*\")\n",
        "    # グラフをリストに加える\n",
        "    ims.append([im])\n",
        "  x0 = x\n",
        "  y0 = y\n",
        "\n",
        "ax.set_title('evacuation')\n",
        "ax.set_xlabel('x')\n",
        "ax.set_ylabel('y')\n",
        "\n",
        "# ArtistAnimationにfigオブジェクトとimsを代入してアニメーションを作成\n",
        "anim = animation.ArtistAnimation(fig, ims, interval = 50)\n",
        "\n",
        "# Google Colaboratoryの場合必要\n",
        "rc('animation', html='jshtml')\n",
        "plt.close()\n",
        "anim"
      ],
      "execution_count": null,
      "outputs": []
    },
    {
      "cell_type": "markdown",
      "metadata": {
        "id": "NyDsqAkAPRfq"
      },
      "source": [
        "スタート地点から避難者エージェントが移動していくのがわかります．"
      ]
    },
    {
      "cell_type": "markdown",
      "metadata": {
        "id": "vNuWYOeHEsEQ"
      },
      "source": [
        "## このシミュレーションの欠点"
      ]
    },
    {
      "cell_type": "markdown",
      "metadata": {
        "id": "7MxYYj1UEudi"
      },
      "source": [
        "このシミュレーションにおける避難者エージェントは上下左右にランダムで移動しています．\n",
        "つまり移動先に他のエージェントがいても無視していることになります．\n",
        "そこでプログラムを改造し，他の避難者エージェントがいないセルにのみ移動するようにします．\n",
        "これは他のエージェントの状態によって自分が影響を受けることになり，\n",
        "マルチエージェントシミュレーションの意義が出ることになります．"
      ]
    },
    {
      "cell_type": "markdown",
      "metadata": {
        "id": "iHGij88XZ3Ng"
      },
      "source": [
        "# エージェントがいないセルを検索するアルゴリズム"
      ]
    },
    {
      "cell_type": "markdown",
      "metadata": {
        "id": "F0QgfHPZKuf6"
      },
      "source": [
        "現状では避難者エージェントの`move`メソッドは以下のようになっています．\n",
        "\n",
        "```python\n",
        "  def move(self):\n",
        "    possible_steps = self.model.grid.get_neighborhood(\n",
        "      pos=self.pos,\n",
        "      moore = False,\n",
        "      include_center = False)\n",
        "    new_position = self.random.choice(possible_steps)\n",
        "    self.model.grid.move_agent(self, new_position)\n",
        "```\n",
        "\n",
        "`model.grid.get_neighborhood`メソッドを使って周囲のセルを検索し，\n",
        "取得されたセルのリストから`random.choice`で移動方向を決定しています．\n",
        "\n",
        "ここで`model.grid.get_neighborhood`で取得された周囲セルのリスト`possible_step`で示された座標に避難者エージェントが含まれていた場合，そのセルを移動候補から削除すれば\n",
        "他のエージェントがいないセルにのみ移動することができます．\n",
        "\n",
        "`model.grid.get_cell_list_contents`メソッドは指定された座標に配置されているエージェントのリストを取得するメソッドです．\n",
        "指定された座標にエージェントがない場合には戻り値は空のリストになるため，`len(model.grid.get_cell_list_contents)`は0になります．\n",
        "これを使って，避難者エージェントの上下左右で他のエージェントがいないセルを検索するには以下のようにします．\n",
        "\n",
        "```python\n",
        "    possible_steps2 = [a for a in possible_steps if len(self.model.grid.get_cell_list_contents(a)) < 1]\n",
        "```\n",
        "\n",
        "`possible_steps2`には上下左右のセルのうち，避難者エージェントがいないセルの位置のみがリストとして取得できます．\n",
        "次に`possible_step2`からランダムで移動方向を選べば良いのですが，\n",
        "場合によっては上下左右のセルがすべて埋まっているかもしれません．\n",
        "その場合は避難者エージェントは移動しないようにします．\n",
        "\n",
        "これは以下のように書けます．\n",
        "\n",
        "```python\n",
        "    if len(possible_steps2) > 0:\n",
        "      new_position = self.random.choice(possible_steps2)\n",
        "    else:\n",
        "      new_position = self.pos\n",
        "    self.model.grid.move_agent(self, new_position)\n",
        "```"
      ]
    },
    {
      "cell_type": "markdown",
      "metadata": {
        "id": "EKpi4Rz9ZT5b"
      },
      "source": [
        "以上をまとめると避難者エージェントはこのようになります．"
      ]
    },
    {
      "cell_type": "code",
      "metadata": {
        "id": "DQre0P-dIXcr"
      },
      "source": [
        "class EvacAgent(Agent):\n",
        "\n",
        "  def __init__(self, unique_id, model):\n",
        "    super().__init__(unique_id, model)\n",
        "    self.mygoal = 0\n",
        "    self.wealth = 0\n",
        "\n",
        "  def move(self):\n",
        "    possible_steps = self.model.grid.get_neighborhood(\n",
        "      self.pos,\n",
        "      moore = False,\n",
        "      include_center = False)\n",
        "\n",
        "    # 周囲にエージェントがいないセルがあるか検索する\n",
        "    possible_steps2 = [a for a in possible_steps if len(self.model.grid.get_cell_list_contents(a)) < 1]\n",
        "\n",
        "    if len(possible_steps2) > 0:\n",
        "      new_position = self.random.choice(possible_steps2)\n",
        "    else:\n",
        "      new_position = self.pos\n",
        "    self.model.grid.move_agent(self, new_position)\n",
        "  \n",
        "  # ゴールに到達したか判定する関数\n",
        "  def if_goal(self):\n",
        "    if self.pos == self.model.goal:\n",
        "      self.mygoal += 1\n",
        "      self.model.evac_comp += 1\n",
        "\n",
        "  def step(self):\n",
        "    if self.mygoal == 0:\n",
        "      self.move()\n",
        "      self.if_goal()\n"
      ],
      "execution_count": null,
      "outputs": []
    },
    {
      "cell_type": "markdown",
      "metadata": {
        "id": "v_2wQfpdZZ3q"
      },
      "source": [
        "## モデルを実行する"
      ]
    },
    {
      "cell_type": "markdown",
      "metadata": {
        "id": "HkWbAxWVa3fk"
      },
      "source": [
        "とりあえず100回実行してみましょう"
      ]
    },
    {
      "cell_type": "code",
      "metadata": {
        "id": "jeNs0rVQMJHU"
      },
      "source": [
        "start_x = 4\n",
        "start_y = 4\n",
        "goal_x = 0\n",
        "goal_y = 0\n",
        "\n",
        "model = EvacModel(20, 5, 5, start_x, start_y, goal_x, goal_y)\n",
        "\n",
        "# とりあえず100回実行する\n",
        "\n",
        "for i in range(100):\n",
        "  model.step()"
      ],
      "execution_count": null,
      "outputs": []
    },
    {
      "cell_type": "markdown",
      "metadata": {
        "id": "U64km7HwKdY8"
      },
      "source": [
        "## 計算結果をアニメーションとグラフで検討する"
      ]
    },
    {
      "cell_type": "code",
      "metadata": {
        "id": "ihKmVhqwKOFG"
      },
      "source": [
        "fig = plt.figure(figsize = (5, 5))\n",
        "ax = fig.add_subplot(111)\n",
        "\n",
        "# ゴールをプロット\n",
        "plt.text(goal_x, goal_y, 'Goal', size = 14, ha = 'center')\n",
        "plt.scatter(goal_x, goal_y, s = 1000, marker = \"s\")\n",
        "\n",
        "ims = []\n",
        "step = 3\n",
        "\n",
        "# 0 Stepめのエージェントの座標を取得する\n",
        "agent_loc = model.datacollector.get_agent_vars_dataframe().xs(0, level='Step')['Pos']\n",
        "x0, y0 = [a for a, b in agent_loc], [b for a, b in agent_loc]\n",
        "\n",
        "for i in tqdm(range(1, 100)): \n",
        "  agent_loc = model.datacollector.get_agent_vars_dataframe().xs(i, level='Step')['Pos']\n",
        "  x, y = [a for a, b in agent_loc], [b for a, b in agent_loc]\n",
        "  dx = (np.array(x) - np.array(x0)) / step\n",
        "  dy = (np.array(y) - np.array(y0)) / step\n",
        "  for u in range(step):\n",
        "    im = ax.scatter(x0 + (dx * u), y0 + (dy * u), s=600, c=\"red\", marker=\"*\")\n",
        "    # グラフをリストに加える\n",
        "    ims.append([im])\n",
        "  x0 = x\n",
        "  y0 = y\n",
        "\n",
        "ax.set_title('evacuation')\n",
        "ax.set_xlabel('x')\n",
        "ax.set_ylabel('y')\n",
        "\n",
        "# ArtistAnimationにfigオブジェクトとimsを代入してアニメーションを作成\n",
        "anim = animation.ArtistAnimation(fig, ims, interval = 50)\n",
        "\n",
        "# Google Colaboratoryの場合必要\n",
        "rc('animation', html='jshtml')\n",
        "plt.close()\n",
        "anim"
      ],
      "execution_count": null,
      "outputs": []
    },
    {
      "cell_type": "markdown",
      "metadata": {
        "id": "wp_Uzm4GYnF5"
      },
      "source": [
        "確かに避難者エージェントは重ならないようになっていますが，\n",
        "避難者エージェントの振る舞いが何かおかしいです．\n",
        "ゴールした人数をグラフ化して確認してみましょう"
      ]
    },
    {
      "cell_type": "code",
      "metadata": {
        "id": "6yTtU3gTb7BR"
      },
      "source": [
        "%matplotlib inline\n",
        "\n",
        "fig = plt.figure()\n",
        "ax = fig.add_subplot(111)\n",
        "\n",
        "goal = model.datacollector.get_model_vars_dataframe()\n",
        "\n",
        "\n",
        "ax.plot(goal)\n",
        "plt.show"
      ],
      "execution_count": null,
      "outputs": []
    },
    {
      "cell_type": "markdown",
      "metadata": {
        "id": "FfhyUFnHY_0y"
      },
      "source": [
        "最初に一人がゴールした後は，誰もゴールしていないようです．\n",
        "\n",
        "避難者エージェントはゴールするとゴール地点に止まるため，\n",
        "他の避難者エージェントがゴールできなくなっています．\n",
        "\n",
        "これでは困るのでゴールしたエージェントは削除するようにします．\n"
      ]
    },
    {
      "cell_type": "markdown",
      "metadata": {
        "id": "4kjSuwO3cU3N"
      },
      "source": [
        "# ゴール後のエージェントを削除する"
      ]
    },
    {
      "cell_type": "markdown",
      "metadata": {
        "id": "P7QaQD0baiJF"
      },
      "source": [
        "## エージェントの削除方法"
      ]
    },
    {
      "cell_type": "markdown",
      "metadata": {
        "id": "hz0SwE5nJz7k"
      },
      "source": [
        "エージェントは`grid.remove_aget`メソッドで削除できます．\n",
        "避難エージェントがゴールしたら削除します．\n",
        "\n",
        "避難者エージェントの`if_goal`メソッドに避難者エージェントの削除を追加します．\n",
        "`remove_agent`メソッドの引数は削除したいエージェントのインスタンスです．\n",
        "ここでは自分自身を削除するため`self`とします．\n",
        "```python\n",
        "  def if_goal(self):\n",
        "    if self.pos == self.model.goal:\n",
        "      self.mygoal += 1\n",
        "      self.model.evac_comp += 1\n",
        "      # ゴールしたらエージェントを削除する\n",
        "      self.model.grid.remove_agent(self)\n",
        "```"
      ]
    },
    {
      "cell_type": "markdown",
      "metadata": {
        "id": "m8aK7mseaEsx"
      },
      "source": [
        "まとめると避難者エージェント`EvacAgent`は以下のようになります．\n",
        "実行してみましょう．"
      ]
    },
    {
      "cell_type": "code",
      "metadata": {
        "id": "dTs7DMfcbmBT"
      },
      "source": [
        "class EvacAgent(Agent):\n",
        "\n",
        "  def __init__(self, unique_id, model):\n",
        "    super().__init__(unique_id, model)\n",
        "    self.mygoal = 0\n",
        "    self.wealth = 0\n",
        "\n",
        "  def move(self):\n",
        "    possible_steps = self.model.grid.get_neighborhood(\n",
        "      self.pos,\n",
        "      moore = False,\n",
        "      include_center = False)\n",
        "\n",
        "    # 周囲に移動可能なセルがあるか検索する\n",
        "    possible_steps2 = [a for a in possible_steps if len(self.model.grid.get_cell_list_contents(a)) < 1]\n",
        "\n",
        "    if len(possible_steps2) > 0:\n",
        "      new_position = self.random.choice(possible_steps2)\n",
        "    else:\n",
        "      new_position = self.pos\n",
        "    self.model.grid.move_agent(self, new_position)\n",
        "  \n",
        "  # ゴールに到達したか判定する関数\n",
        "  def if_goal(self):\n",
        "    if self.pos == self.model.goal:\n",
        "      self.mygoal += 1\n",
        "      self.model.evac_comp += 1\n",
        "      # ゴールしたらエージェントを削除する\n",
        "      self.model.grid.remove_agent(self)\n",
        "\n",
        "\n",
        "  def step(self):\n",
        "    if self.mygoal == 0:\n",
        "      self.move()\n",
        "      self.if_goal()\n"
      ],
      "execution_count": null,
      "outputs": []
    },
    {
      "cell_type": "markdown",
      "metadata": {
        "id": "Kw5CM6RScMDQ"
      },
      "source": [
        "## モデルを再実行する"
      ]
    },
    {
      "cell_type": "markdown",
      "metadata": {
        "id": "kMgEOZlxaTFI"
      },
      "source": [
        "避難者エージェントを改変したので，モデルを再実行します．"
      ]
    },
    {
      "cell_type": "code",
      "metadata": {
        "id": "_hfApE-WcKnX"
      },
      "source": [
        "start_x = 4\n",
        "start_y = 4\n",
        "goal_x = 0\n",
        "goal_y = 0\n",
        "\n",
        "model = EvacModel(20, 5, 5, start_x, start_y, goal_x, goal_y)\n",
        "\n",
        "# とりあえず100回実行する\n",
        "for i in range(100):\n",
        "  model.step()"
      ],
      "execution_count": null,
      "outputs": []
    },
    {
      "cell_type": "markdown",
      "metadata": {
        "id": "ovUJlBZ_ckbm"
      },
      "source": [
        "## データコレクターから実行結果を検討する"
      ]
    },
    {
      "cell_type": "markdown",
      "metadata": {
        "id": "f_-VDxiOawP5"
      },
      "source": [
        "避難者エージェントのデータコレクターを確認します．"
      ]
    },
    {
      "cell_type": "code",
      "metadata": {
        "colab": {
          "base_uri": "https://localhost:8080/",
          "height": 455
        },
        "id": "92H_IcFrciAL",
        "outputId": "dbdd938b-03f5-41be-8253-8d0c5e8bc381"
      },
      "source": [
        "model.datacollector.get_agent_vars_dataframe()"
      ],
      "execution_count": null,
      "outputs": [
        {
          "output_type": "execute_result",
          "data": {
            "text/html": [
              "<div>\n",
              "<style scoped>\n",
              "    .dataframe tbody tr th:only-of-type {\n",
              "        vertical-align: middle;\n",
              "    }\n",
              "\n",
              "    .dataframe tbody tr th {\n",
              "        vertical-align: top;\n",
              "    }\n",
              "\n",
              "    .dataframe thead th {\n",
              "        text-align: right;\n",
              "    }\n",
              "</style>\n",
              "<table border=\"1\" class=\"dataframe\">\n",
              "  <thead>\n",
              "    <tr style=\"text-align: right;\">\n",
              "      <th></th>\n",
              "      <th></th>\n",
              "      <th>Pos</th>\n",
              "      <th>Goal</th>\n",
              "    </tr>\n",
              "    <tr>\n",
              "      <th>Step</th>\n",
              "      <th>AgentID</th>\n",
              "      <th></th>\n",
              "      <th></th>\n",
              "    </tr>\n",
              "  </thead>\n",
              "  <tbody>\n",
              "    <tr>\n",
              "      <th rowspan=\"5\" valign=\"top\">0</th>\n",
              "      <th>0</th>\n",
              "      <td>(4, 4)</td>\n",
              "      <td>0</td>\n",
              "    </tr>\n",
              "    <tr>\n",
              "      <th>1</th>\n",
              "      <td>(4, 4)</td>\n",
              "      <td>0</td>\n",
              "    </tr>\n",
              "    <tr>\n",
              "      <th>2</th>\n",
              "      <td>(4, 4)</td>\n",
              "      <td>0</td>\n",
              "    </tr>\n",
              "    <tr>\n",
              "      <th>3</th>\n",
              "      <td>(4, 4)</td>\n",
              "      <td>0</td>\n",
              "    </tr>\n",
              "    <tr>\n",
              "      <th>4</th>\n",
              "      <td>(4, 4)</td>\n",
              "      <td>0</td>\n",
              "    </tr>\n",
              "    <tr>\n",
              "      <th>...</th>\n",
              "      <th>...</th>\n",
              "      <td>...</td>\n",
              "      <td>...</td>\n",
              "    </tr>\n",
              "    <tr>\n",
              "      <th rowspan=\"5\" valign=\"top\">273</th>\n",
              "      <th>15</th>\n",
              "      <td>None</td>\n",
              "      <td>1</td>\n",
              "    </tr>\n",
              "    <tr>\n",
              "      <th>16</th>\n",
              "      <td>None</td>\n",
              "      <td>1</td>\n",
              "    </tr>\n",
              "    <tr>\n",
              "      <th>17</th>\n",
              "      <td>None</td>\n",
              "      <td>1</td>\n",
              "    </tr>\n",
              "    <tr>\n",
              "      <th>18</th>\n",
              "      <td>None</td>\n",
              "      <td>1</td>\n",
              "    </tr>\n",
              "    <tr>\n",
              "      <th>19</th>\n",
              "      <td>None</td>\n",
              "      <td>1</td>\n",
              "    </tr>\n",
              "  </tbody>\n",
              "</table>\n",
              "<p>5480 rows × 2 columns</p>\n",
              "</div>"
            ],
            "text/plain": [
              "                 Pos  Goal\n",
              "Step AgentID              \n",
              "0    0        (4, 4)     0\n",
              "     1        (4, 4)     0\n",
              "     2        (4, 4)     0\n",
              "     3        (4, 4)     0\n",
              "     4        (4, 4)     0\n",
              "...              ...   ...\n",
              "273  15         None     1\n",
              "     16         None     1\n",
              "     17         None     1\n",
              "     18         None     1\n",
              "     19         None     1\n",
              "\n",
              "[5480 rows x 2 columns]"
            ]
          },
          "metadata": {},
          "execution_count": 69
        }
      ]
    },
    {
      "cell_type": "markdown",
      "metadata": {
        "id": "sD8l_rDKa2Ru"
      },
      "source": [
        "最終ステップの`Pos`が`None`になっています．\n",
        "削除されたエージェントは削除後に位置を示すプロパティ`pos`が`None`になります．\n",
        "このままではアニメーション作成時にエラーが出てしまうため，`None`をゴールの座標(0, 0)に置き換えます．\n",
        "\n",
        "確認のため第99ステップ目の避難者エージェントの座標を見てみましょう．\n"
      ]
    },
    {
      "cell_type": "code",
      "metadata": {
        "colab": {
          "base_uri": "https://localhost:8080/"
        },
        "id": "jRe6qPQcbi6p",
        "outputId": "6a4b098e-8ff3-4014-cf66-a4405f8620b2"
      },
      "source": [
        "model.datacollector.get_agent_vars_dataframe().xs(99, level='Step')['Pos']"
      ],
      "execution_count": null,
      "outputs": [
        {
          "output_type": "execute_result",
          "data": {
            "text/plain": [
              "AgentID\n",
              "0       None\n",
              "1       None\n",
              "2       None\n",
              "3     (3, 0)\n",
              "4       None\n",
              "5       None\n",
              "6       None\n",
              "7       None\n",
              "8       None\n",
              "9       None\n",
              "10    (4, 2)\n",
              "11      None\n",
              "12      None\n",
              "13      None\n",
              "14      None\n",
              "15      None\n",
              "16      None\n",
              "17      None\n",
              "18      None\n",
              "19      None\n",
              "Name: Pos, dtype: object"
            ]
          },
          "metadata": {},
          "execution_count": 37
        }
      ]
    },
    {
      "cell_type": "markdown",
      "metadata": {
        "id": "ntu8FtzHqu4n"
      },
      "source": [
        "いくつか`None`が含まれています，\n",
        "これを`map`とlambda式を用いて(0, 0)に置き換えます．\n",
        "\n",
        "以下のようになります．"
      ]
    },
    {
      "cell_type": "code",
      "metadata": {
        "id": "66_FmFb8dJKb",
        "colab": {
          "base_uri": "https://localhost:8080/"
        },
        "outputId": "bd6809fd-e557-471f-99c1-c7df6a527c43"
      },
      "source": [
        "model.datacollector.get_agent_vars_dataframe().xs(99, level='Step')['Pos'].map(lambda x: (0, 0) if x is None else x)"
      ],
      "execution_count": null,
      "outputs": [
        {
          "output_type": "execute_result",
          "data": {
            "text/plain": [
              "AgentID\n",
              "0     (0, 0)\n",
              "1     (0, 0)\n",
              "2     (0, 0)\n",
              "3     (3, 0)\n",
              "4     (0, 0)\n",
              "5     (0, 0)\n",
              "6     (0, 0)\n",
              "7     (0, 0)\n",
              "8     (0, 0)\n",
              "9     (0, 0)\n",
              "10    (4, 2)\n",
              "11    (0, 0)\n",
              "12    (0, 0)\n",
              "13    (0, 0)\n",
              "14    (0, 0)\n",
              "15    (0, 0)\n",
              "16    (0, 0)\n",
              "17    (0, 0)\n",
              "18    (0, 0)\n",
              "19    (0, 0)\n",
              "Name: Pos, dtype: object"
            ]
          },
          "metadata": {},
          "execution_count": 39
        }
      ]
    },
    {
      "cell_type": "markdown",
      "metadata": {
        "id": "Ftw4MI6ZcIRC"
      },
      "source": [
        "避難エージェントのアニメーションを作成するときにこの置き換えをすれば良いでしょう．"
      ]
    },
    {
      "cell_type": "markdown",
      "metadata": {
        "id": "2VIrXb6NkUYP"
      },
      "source": [
        "## 計算結果をアニメーション表示する"
      ]
    },
    {
      "cell_type": "markdown",
      "metadata": {
        "id": "-4pPfgoKcRBL"
      },
      "source": [
        "ゴール後の避難者エージェント削除に対応したアニメーション作成は以下のようになります．\n",
        "削除されたエージェントの座標`None`を`(0, 0)`に置き換えています．"
      ]
    },
    {
      "cell_type": "code",
      "metadata": {
        "id": "hLQzRZDVdJgq"
      },
      "source": [
        "fig = plt.figure(figsize = (5, 5))\n",
        "ax = fig.add_subplot(111)\n",
        "\n",
        "# ゴールをプロット\n",
        "plt.text(goal_x, goal_y, 'Goal', size = 14, ha = 'center')\n",
        "plt.scatter(goal_x, goal_y, s = 800, marker = \"s\")\n",
        "\n",
        "ims = []\n",
        "step = 3\n",
        "\n",
        "# 0 Stepめのエージェントの座標を取得する\n",
        "agent_loc = model.datacollector.get_agent_vars_dataframe().xs(0, level='Step')['Pos'].map(lambda x: (0, 0) if x is None else x)\n",
        "x0, y0 = [a for a, b in agent_loc], [b for a, b in agent_loc]\n",
        "\n",
        "for i in tqdm(range(1, 100)):\n",
        "  agent_loc = model.datacollector.get_agent_vars_dataframe().xs(i, level='Step')['Pos'].map(lambda x: (0, 0) if x is None else x)\n",
        "  x, y = [a for a, b in agent_loc], [b for a, b in agent_loc]\n",
        "  dx = (np.array(x) - np.array(x0)) / step\n",
        "  dy = (np.array(y) - np.array(y0)) / step\n",
        "  for u in range(step):\n",
        "    im = ax.scatter(x0 + (dx * u), y0 + (dy * u), s=1000, c=\"red\", marker=\"*\")\n",
        "    # グラフをリストに加える\n",
        "    ims.append([im])\n",
        "  x0 = x\n",
        "  y0 = y\n",
        "\n",
        "ax.set_title('evacuation')\n",
        "ax.set_xlabel('x')\n",
        "ax.set_ylabel('y')\n",
        "\n",
        "# ArtistAnimationにfigオブジェクトとimsを代入してアニメーションを作成\n",
        "anim = animation.ArtistAnimation(fig, ims, interval = 50)\n",
        "\n",
        "# Google Colaboratoryの場合必要\n",
        "rc('animation', html='jshtml')\n",
        "plt.close()\n",
        "anim"
      ],
      "execution_count": null,
      "outputs": []
    },
    {
      "cell_type": "markdown",
      "metadata": {
        "id": "0dNwSdpdkYI6"
      },
      "source": [
        "## スペースの状態をグラフ化する"
      ]
    },
    {
      "cell_type": "markdown",
      "metadata": {
        "id": "8KvYWQCXcrWi"
      },
      "source": [
        "避難完了エージェントの推移グラフも正常になりました．"
      ]
    },
    {
      "cell_type": "code",
      "metadata": {
        "id": "KW8j1JCCddUx"
      },
      "source": [
        "%matplotlib inline\n",
        "\n",
        "fig = plt.figure()\n",
        "ax = fig.add_subplot(111)\n",
        "\n",
        "goal = model.datacollector.get_model_vars_dataframe()\n",
        "\n",
        "\n",
        "ax.plot(goal)\n",
        "plt.show"
      ],
      "execution_count": null,
      "outputs": []
    },
    {
      "cell_type": "markdown",
      "metadata": {
        "id": "4sKjeW7pkkS9"
      },
      "source": [
        "# ここまでのまとめ"
      ]
    },
    {
      "cell_type": "markdown",
      "metadata": {
        "id": "zfrZOMTec2aw"
      },
      "source": [
        "ここまでの内容をまとめました．"
      ]
    },
    {
      "cell_type": "markdown",
      "metadata": {
        "id": "BqV86tUrlovE"
      },
      "source": [
        "## スペースとエージェントを定義してモデルを実行する"
      ]
    },
    {
      "cell_type": "code",
      "metadata": {
        "id": "f17Gd0YxktTe"
      },
      "source": [
        "%pip install mesa\n",
        "%matplotlib notebook\n",
        "\n",
        "import numpy as np\n",
        "from tqdm import tqdm\n",
        "\n",
        "import matplotlib.pyplot as plt\n",
        "from matplotlib import animation, rc\n",
        "from matplotlib.animation import ArtistAnimation\n",
        "from IPython.display import HTML\n",
        "\n",
        "from mesa import Agent, Model\n",
        "from mesa.space import MultiGrid\n",
        "from mesa.space import SingleGrid\n",
        "from mesa.time import RandomActivation\n",
        "from mesa.datacollection import DataCollector\n",
        "\n",
        "class EvacModel(Model):\n",
        "  \"\"\"A model with some number of agents.\"\"\"\n",
        "  # コンストラクタにgoal_xとgoal_yを追加した\n",
        "  def __init__(self, N, width, height, start_x, start_y, goal_x, goal_y):\n",
        "    # 避難者エージェントの数をNに設定する\n",
        "    self.num_agents = N\n",
        "    # MultiGridは同一座標に複数エージェントを配置できるスペース\n",
        "    self.grid = MultiGrid(width, height, torus=False)\n",
        "\n",
        "    # ゴール地点の座標を設定する（goal_xとgoal_y)\n",
        "    self.goal = (goal_x, goal_y)\n",
        "    # 避難完了者をカウントする（0で初期化）\n",
        "    self.evac_comp = 0\n",
        "    # MoneyAgentの実行順序をランダムに設定する\n",
        "    self.schedule = RandomActivation(self)\n",
        "\n",
        "    # 避難者エージェントの作成．num_agentsの数だけエージェントを作成する\n",
        "    for i in range(self.num_agents):\n",
        "      a = EvacAgent(i, self)\n",
        "      self.schedule.add(a)\n",
        "      # エージェントを配置する\n",
        "      self.grid.place_agent(a, (start_x, start_y))\n",
        "\n",
        "      # データコレクターの設定\n",
        "      self.datacollector = DataCollector(\n",
        "        model_reporters={\"Goal\": compute_goal, \"evacuator\": goal_pop},\n",
        "        agent_reporters={\"Pos\": \"pos\", \"Goal\": \"mygoal\"})\n",
        "      \n",
        "    self.datacollector.collect(self)\n",
        "      \n",
        "  def step(self):\n",
        "    model.evac_comp = 0\n",
        "    self.schedule.step()\n",
        "    self.datacollector.collect(self)\n",
        "\n",
        "# そのステップでゴールした人数を求める関数\n",
        "def goal_pop(model):\n",
        "  return(model.evac_comp)\n",
        "\n",
        "# ゴールした人数の累計を求める関数\n",
        "def compute_goal(model):\n",
        "  agent_goal = sum([agent.mygoal for agent in model.schedule.agents])\n",
        "  return (agent_goal)\n",
        "\n",
        "class EvacAgent(Agent):\n",
        "\n",
        "  def __init__(self, unique_id, model):\n",
        "    super().__init__(unique_id, model)\n",
        "    self.mygoal = 0\n",
        "    self.wealth = 0\n",
        "\n",
        "  def move(self):\n",
        "    possible_steps = self.model.grid.get_neighborhood(\n",
        "      self.pos,\n",
        "      moore = False,\n",
        "      include_center = False)\n",
        "\n",
        "    # 周囲に移動可能なセルがあるか検索する\n",
        "    possible_steps2 = [a for a in possible_steps if len(self.model.grid.get_cell_list_contents(a)) < 1]\n",
        "\n",
        "    if len(possible_steps2) > 0:\n",
        "      new_position = self.random.choice(possible_steps2)\n",
        "    else:\n",
        "      new_position = self.pos\n",
        "    self.model.grid.move_agent(self, new_position)\n",
        "  \n",
        "  # ゴールに到達したか判定する関数\n",
        "  def if_goal(self):\n",
        "    if self.pos == self.model.goal:\n",
        "      self.mygoal += 1\n",
        "      self.model.evac_comp += 1\n",
        "      # ゴールしたらエージェントを削除する\n",
        "      self.model.grid.remove_agent(self)\n",
        "\n",
        "  def step(self):\n",
        "    if self.mygoal == 0:\n",
        "      self.move()\n",
        "      self.if_goal()\n",
        "\n",
        "# モデルを実行する\n",
        "start_x = 4\n",
        "start_y = 4\n",
        "goal_x = 0\n",
        "goal_y = 0\n",
        "\n",
        "model = EvacModel(20, 5, 5, start_x, start_y, goal_x, goal_y)\n",
        "\n",
        "# 全員ゴールするまで実行する\n",
        "\n",
        "while min([agent.mygoal for agent in model.schedule.agents]) < 1:\n",
        "  model.step()"
      ],
      "execution_count": null,
      "outputs": []
    },
    {
      "cell_type": "markdown",
      "metadata": {
        "id": "TyIX8lamlymM"
      },
      "source": [
        "## 計算結果のアニメーション"
      ]
    },
    {
      "cell_type": "code",
      "metadata": {
        "id": "YN4gptual3nJ"
      },
      "source": [
        "fig = plt.figure(figsize = (5, 5))\n",
        "ax = fig.add_subplot(111)\n",
        "\n",
        "# ゴールをプロット\n",
        "plt.text(goal_x, goal_y, 'Goal', size = 14, ha = 'center')\n",
        "plt.scatter(goal_x, goal_y, s = 800, marker = \"s\")\n",
        "\n",
        "ims = []\n",
        "step = 3\n",
        "\n",
        "# 0 Stepめのエージェントの座標を取得する\n",
        "agent_loc = model.datacollector.get_agent_vars_dataframe().xs(0, level='Step')['Pos'].map(lambda x: (0, 0) if x is None else x)\n",
        "x0, y0 = [a for a, b in agent_loc], [b for a, b in agent_loc]\n",
        "\n",
        "for i in tqdm(range(1, 100)):\n",
        "  agent_loc = model.datacollector.get_agent_vars_dataframe().xs(i, level='Step')['Pos'].map(lambda x: (0, 0) if x is None else x)\n",
        "  x, y = [a for a, b in agent_loc], [b for a, b in agent_loc]\n",
        "  dx = (np.array(x) - np.array(x0)) / step\n",
        "  dy = (np.array(y) - np.array(y0)) / step\n",
        "  for u in range(step):\n",
        "    im = ax.scatter(x0 + (dx * u), y0 + (dy * u), s=1000, c=\"red\", marker=\"*\")\n",
        "    # グラフをリストに加える\n",
        "    ims.append([im])\n",
        "  x0 = x\n",
        "  y0 = y\n",
        "\n",
        "ax.set_title('evacuation')\n",
        "ax.set_xlabel('x')\n",
        "ax.set_ylabel('y')\n",
        "\n",
        "# ArtistAnimationにfigオブジェクトとimsを代入してアニメーションを作成\n",
        "anim = animation.ArtistAnimation(fig, ims, interval = 50)\n",
        "\n",
        "# Google Colaboratoryの場合必要\n",
        "rc('animation', html='jshtml')\n",
        "plt.close()\n",
        "anim"
      ],
      "execution_count": null,
      "outputs": []
    },
    {
      "cell_type": "markdown",
      "metadata": {
        "id": "JM3RCtvumPhO"
      },
      "source": [
        "## スペースの状態をグラフ化する"
      ]
    },
    {
      "cell_type": "code",
      "metadata": {
        "id": "zeeqVfWAmQAy"
      },
      "source": [
        "%matplotlib inline\n",
        "\n",
        "fig = plt.figure()\n",
        "ax = fig.add_subplot(111)\n",
        "\n",
        "goal = model.datacollector.get_model_vars_dataframe()\n",
        "\n",
        "\n",
        "ax.plot(goal)\n",
        "plt.show"
      ],
      "execution_count": null,
      "outputs": []
    }
  ]
}